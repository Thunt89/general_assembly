{
 "cells": [
  {
   "cell_type": "code",
   "execution_count": 1,
   "metadata": {},
   "outputs": [],
   "source": [
    "import pandas as pd\n",
    "pd.set_option('max_columns', None) \n",
    "%matplotlib inline"
   ]
  },
  {
   "cell_type": "markdown",
   "metadata": {},
   "source": [
    "<b> 1.0 Load and examine the data"
   ]
  },
  {
   "cell_type": "code",
   "execution_count": 2,
   "metadata": {
    "scrolled": false
   },
   "outputs": [
    {
     "data": {
      "text/html": [
       "<div>\n",
       "<style scoped>\n",
       "    .dataframe tbody tr th:only-of-type {\n",
       "        vertical-align: middle;\n",
       "    }\n",
       "\n",
       "    .dataframe tbody tr th {\n",
       "        vertical-align: top;\n",
       "    }\n",
       "\n",
       "    .dataframe thead th {\n",
       "        text-align: right;\n",
       "    }\n",
       "</style>\n",
       "<table border=\"1\" class=\"dataframe\">\n",
       "  <thead>\n",
       "    <tr style=\"text-align: right;\">\n",
       "      <th></th>\n",
       "      <th>addr_state</th>\n",
       "      <th>annual_inc</th>\n",
       "      <th>application_type</th>\n",
       "      <th>chargeoff_within_12_mths</th>\n",
       "      <th>delinq_amnt</th>\n",
       "      <th>desc</th>\n",
       "      <th>disbursement_method</th>\n",
       "      <th>dti</th>\n",
       "      <th>emp_length</th>\n",
       "      <th>emp_title</th>\n",
       "      <th>funded_amnt</th>\n",
       "      <th>funded_amnt_inv</th>\n",
       "      <th>grade</th>\n",
       "      <th>hardship_flag</th>\n",
       "      <th>home_ownership</th>\n",
       "      <th>initial_list_status</th>\n",
       "      <th>installment</th>\n",
       "      <th>int_rate</th>\n",
       "      <th>issue_d</th>\n",
       "      <th>last_pymnt_amnt</th>\n",
       "      <th>last_pymnt_d</th>\n",
       "      <th>Loan Amount</th>\n",
       "      <th>loan_status</th>\n",
       "      <th>pub_rec_bankruptcies</th>\n",
       "      <th>purpose</th>\n",
       "      <th>pymnt_plan</th>\n",
       "      <th>term</th>\n",
       "      <th>Loan Title</th>\n",
       "      <th>total_pymnt</th>\n",
       "      <th>total_pymnt_inv</th>\n",
       "      <th>verification_status</th>\n",
       "    </tr>\n",
       "  </thead>\n",
       "  <tbody>\n",
       "    <tr>\n",
       "      <th>0</th>\n",
       "      <td>AZ</td>\n",
       "      <td>24000.0</td>\n",
       "      <td>Individual</td>\n",
       "      <td>0.0</td>\n",
       "      <td>0</td>\n",
       "      <td>Borrower added on 12/22/11 &gt; I need to upgra...</td>\n",
       "      <td>Cash</td>\n",
       "      <td>27.65</td>\n",
       "      <td>10+ years</td>\n",
       "      <td>NaN</td>\n",
       "      <td>5000</td>\n",
       "      <td>4975.0</td>\n",
       "      <td>B</td>\n",
       "      <td>N</td>\n",
       "      <td>RENT</td>\n",
       "      <td>f</td>\n",
       "      <td>162.87</td>\n",
       "      <td>10.65%</td>\n",
       "      <td>Dec-2011</td>\n",
       "      <td>171.62</td>\n",
       "      <td>Jan-2015</td>\n",
       "      <td>5000</td>\n",
       "      <td>Fully Paid</td>\n",
       "      <td>0.0</td>\n",
       "      <td>credit_card</td>\n",
       "      <td>n</td>\n",
       "      <td>36 months</td>\n",
       "      <td>Computer</td>\n",
       "      <td>5863.155187</td>\n",
       "      <td>5833.84</td>\n",
       "      <td>Verified</td>\n",
       "    </tr>\n",
       "    <tr>\n",
       "      <th>1</th>\n",
       "      <td>GA</td>\n",
       "      <td>30000.0</td>\n",
       "      <td>Individual</td>\n",
       "      <td>0.0</td>\n",
       "      <td>0</td>\n",
       "      <td>Borrower added on 12/22/11 &gt; I plan to use t...</td>\n",
       "      <td>Cash</td>\n",
       "      <td>1.00</td>\n",
       "      <td>&lt; 1 year</td>\n",
       "      <td>Ryder</td>\n",
       "      <td>2500</td>\n",
       "      <td>2500.0</td>\n",
       "      <td>C</td>\n",
       "      <td>N</td>\n",
       "      <td>RENT</td>\n",
       "      <td>f</td>\n",
       "      <td>59.83</td>\n",
       "      <td>15.27%</td>\n",
       "      <td>Dec-2011</td>\n",
       "      <td>119.66</td>\n",
       "      <td>Apr-2013</td>\n",
       "      <td>2500</td>\n",
       "      <td>Charged Off</td>\n",
       "      <td>0.0</td>\n",
       "      <td>car</td>\n",
       "      <td>n</td>\n",
       "      <td>60 months</td>\n",
       "      <td>bike</td>\n",
       "      <td>1014.530000</td>\n",
       "      <td>1014.53</td>\n",
       "      <td>Source Verified</td>\n",
       "    </tr>\n",
       "    <tr>\n",
       "      <th>2</th>\n",
       "      <td>IL</td>\n",
       "      <td>12252.0</td>\n",
       "      <td>Individual</td>\n",
       "      <td>0.0</td>\n",
       "      <td>0</td>\n",
       "      <td>NaN</td>\n",
       "      <td>Cash</td>\n",
       "      <td>8.72</td>\n",
       "      <td>10+ years</td>\n",
       "      <td>NaN</td>\n",
       "      <td>2400</td>\n",
       "      <td>2400.0</td>\n",
       "      <td>C</td>\n",
       "      <td>N</td>\n",
       "      <td>RENT</td>\n",
       "      <td>f</td>\n",
       "      <td>84.33</td>\n",
       "      <td>15.96%</td>\n",
       "      <td>Dec-2011</td>\n",
       "      <td>649.91</td>\n",
       "      <td>Jun-2014</td>\n",
       "      <td>2400</td>\n",
       "      <td>Fully Paid</td>\n",
       "      <td>0.0</td>\n",
       "      <td>small_business</td>\n",
       "      <td>n</td>\n",
       "      <td>36 months</td>\n",
       "      <td>real estate business</td>\n",
       "      <td>3005.666844</td>\n",
       "      <td>3005.67</td>\n",
       "      <td>Not Verified</td>\n",
       "    </tr>\n",
       "  </tbody>\n",
       "</table>\n",
       "</div>"
      ],
      "text/plain": [
       "  addr_state  annual_inc application_type  chargeoff_within_12_mths  \\\n",
       "0         AZ     24000.0       Individual                       0.0   \n",
       "1         GA     30000.0       Individual                       0.0   \n",
       "2         IL     12252.0       Individual                       0.0   \n",
       "\n",
       "   delinq_amnt                                               desc  \\\n",
       "0            0    Borrower added on 12/22/11 > I need to upgra...   \n",
       "1            0    Borrower added on 12/22/11 > I plan to use t...   \n",
       "2            0                                                NaN   \n",
       "\n",
       "  disbursement_method    dti emp_length emp_title  funded_amnt  \\\n",
       "0                Cash  27.65  10+ years       NaN         5000   \n",
       "1                Cash   1.00   < 1 year     Ryder         2500   \n",
       "2                Cash   8.72  10+ years       NaN         2400   \n",
       "\n",
       "   funded_amnt_inv grade hardship_flag home_ownership initial_list_status  \\\n",
       "0           4975.0     B             N           RENT                   f   \n",
       "1           2500.0     C             N           RENT                   f   \n",
       "2           2400.0     C             N           RENT                   f   \n",
       "\n",
       "   installment int_rate   issue_d  last_pymnt_amnt last_pymnt_d  Loan Amount  \\\n",
       "0       162.87   10.65%  Dec-2011           171.62     Jan-2015         5000   \n",
       "1        59.83   15.27%  Dec-2011           119.66     Apr-2013         2500   \n",
       "2        84.33   15.96%  Dec-2011           649.91     Jun-2014         2400   \n",
       "\n",
       "   loan_status  pub_rec_bankruptcies         purpose pymnt_plan        term  \\\n",
       "0   Fully Paid                   0.0     credit_card          n   36 months   \n",
       "1  Charged Off                   0.0             car          n   60 months   \n",
       "2   Fully Paid                   0.0  small_business          n   36 months   \n",
       "\n",
       "             Loan Title  total_pymnt  total_pymnt_inv verification_status  \n",
       "0              Computer  5863.155187          5833.84            Verified  \n",
       "1                  bike  1014.530000          1014.53     Source Verified  \n",
       "2  real estate business  3005.666844          3005.67        Not Verified  "
      ]
     },
     "execution_count": 2,
     "metadata": {},
     "output_type": "execute_result"
    }
   ],
   "source": [
    "import pandas as pd\n",
    "\n",
    "loans = pd.read_csv(\"/Users/tyrone/programming/ga/datascience/18_group_project_2/data/loans.csv.gz\")\n",
    "loans.rename(columns={'title':'Loan Title', 'loan_amnt':'Loan Amount'}, inplace=True)\n",
    "loans.head(3)"
   ]
  },
  {
   "cell_type": "code",
   "execution_count": 3,
   "metadata": {},
   "outputs": [
    {
     "data": {
      "text/plain": [
       "Fully Paid     34115\n",
       "Charged Off     5670\n",
       "Name: loan_status, dtype: int64"
      ]
     },
     "execution_count": 3,
     "metadata": {},
     "output_type": "execute_result"
    }
   ],
   "source": [
    "loans.loan_status.value_counts()"
   ]
  },
  {
   "cell_type": "code",
   "execution_count": 4,
   "metadata": {},
   "outputs": [
    {
     "data": {
      "text/html": [
       "<div>\n",
       "<style scoped>\n",
       "    .dataframe tbody tr th:only-of-type {\n",
       "        vertical-align: middle;\n",
       "    }\n",
       "\n",
       "    .dataframe tbody tr th {\n",
       "        vertical-align: top;\n",
       "    }\n",
       "\n",
       "    .dataframe thead th {\n",
       "        text-align: right;\n",
       "    }\n",
       "</style>\n",
       "<table border=\"1\" class=\"dataframe\">\n",
       "  <thead>\n",
       "    <tr style=\"text-align: right;\">\n",
       "      <th></th>\n",
       "      <th>Amount Requested</th>\n",
       "      <th>Application Date</th>\n",
       "      <th>Loan Title</th>\n",
       "      <th>Risk_Score</th>\n",
       "      <th>Debt-To-Income Ratio</th>\n",
       "      <th>State</th>\n",
       "      <th>Employment Length</th>\n",
       "      <th>Loan Amount</th>\n",
       "    </tr>\n",
       "  </thead>\n",
       "  <tbody>\n",
       "    <tr>\n",
       "      <th>0</th>\n",
       "      <td>1000.0</td>\n",
       "      <td>2007-05-26</td>\n",
       "      <td>Wedding Covered but No Honeymoon</td>\n",
       "      <td>693.0</td>\n",
       "      <td>10%</td>\n",
       "      <td>NM</td>\n",
       "      <td>4 years</td>\n",
       "      <td>0</td>\n",
       "    </tr>\n",
       "    <tr>\n",
       "      <th>1</th>\n",
       "      <td>1000.0</td>\n",
       "      <td>2007-05-26</td>\n",
       "      <td>Consolidating Debt</td>\n",
       "      <td>703.0</td>\n",
       "      <td>10%</td>\n",
       "      <td>MA</td>\n",
       "      <td>&lt; 1 year</td>\n",
       "      <td>0</td>\n",
       "    </tr>\n",
       "    <tr>\n",
       "      <th>2</th>\n",
       "      <td>11000.0</td>\n",
       "      <td>2007-05-27</td>\n",
       "      <td>Want to consolidate my debt</td>\n",
       "      <td>715.0</td>\n",
       "      <td>10%</td>\n",
       "      <td>MD</td>\n",
       "      <td>1 year</td>\n",
       "      <td>0</td>\n",
       "    </tr>\n",
       "  </tbody>\n",
       "</table>\n",
       "</div>"
      ],
      "text/plain": [
       "   Amount Requested Application Date                        Loan Title  \\\n",
       "0            1000.0       2007-05-26  Wedding Covered but No Honeymoon   \n",
       "1            1000.0       2007-05-26                Consolidating Debt   \n",
       "2           11000.0       2007-05-27       Want to consolidate my debt   \n",
       "\n",
       "   Risk_Score Debt-To-Income Ratio State Employment Length  Loan Amount  \n",
       "0       693.0                  10%    NM           4 years            0  \n",
       "1       703.0                  10%    MA          < 1 year            0  \n",
       "2       715.0                  10%    MD            1 year            0  "
      ]
     },
     "execution_count": 4,
     "metadata": {},
     "output_type": "execute_result"
    }
   ],
   "source": [
    "rejections = pd.read_csv(\"/Users/tyrone/programming/ga/datascience/18_group_project_2/data/rejections.csv.gz\")\n",
    "rejections['Loan Amount'] = 0\n",
    "rejections.head(3)"
   ]
  },
  {
   "cell_type": "code",
   "execution_count": 5,
   "metadata": {},
   "outputs": [
    {
     "name": "stdout",
     "output_type": "stream",
     "text": [
      "(39785, 31)\n",
      "(755491, 8)\n"
     ]
    }
   ],
   "source": [
    "print (loans.shape)\n",
    "print (rejections.shape)"
   ]
  },
  {
   "cell_type": "code",
   "execution_count": 6,
   "metadata": {},
   "outputs": [
    {
     "data": {
      "text/plain": [
       "addr_state                   0.000000\n",
       "annual_inc                   0.000000\n",
       "application_type             0.000000\n",
       "chargeoff_within_12_mths     0.140955\n",
       "delinq_amnt                  0.000000\n",
       "desc                        48.351853\n",
       "disbursement_method          0.000000\n",
       "dti                          0.000000\n",
       "emp_length                   2.785026\n",
       "emp_title                    6.610751\n",
       "funded_amnt                  0.000000\n",
       "funded_amnt_inv              0.000000\n",
       "grade                        0.000000\n",
       "hardship_flag                0.000000\n",
       "home_ownership               0.000000\n",
       "initial_list_status          0.000000\n",
       "installment                  0.000000\n",
       "int_rate                     0.000000\n",
       "issue_d                      0.000000\n",
       "last_pymnt_amnt              0.000000\n",
       "last_pymnt_d                 0.178778\n",
       "Loan Amount                  0.000000\n",
       "loan_status                  0.000000\n",
       "pub_rec_bankruptcies         1.783156\n",
       "purpose                      0.000000\n",
       "pymnt_plan                   0.000000\n",
       "term                         0.000000\n",
       "Loan Title                   0.027656\n",
       "total_pymnt                  0.000000\n",
       "total_pymnt_inv              0.000000\n",
       "verification_status          0.000000\n",
       "dtype: float64"
      ]
     },
     "execution_count": 6,
     "metadata": {},
     "output_type": "execute_result"
    }
   ],
   "source": [
    "loans.isnull().sum()/loans.count()*100"
   ]
  },
  {
   "cell_type": "code",
   "execution_count": 7,
   "metadata": {},
   "outputs": [
    {
     "data": {
      "text/plain": [
       "Amount Requested        0.000000\n",
       "Application Date        0.000000\n",
       "Loan Title              0.001853\n",
       "Risk_Score              3.270946\n",
       "Debt-To-Income Ratio    0.000000\n",
       "State                   0.002780\n",
       "Employment Length       1.087828\n",
       "Loan Amount             0.000000\n",
       "dtype: float64"
      ]
     },
     "execution_count": 7,
     "metadata": {},
     "output_type": "execute_result"
    }
   ],
   "source": [
    "rejections.isnull().sum()/rejections.count()*100"
   ]
  },
  {
   "cell_type": "code",
   "execution_count": 8,
   "metadata": {},
   "outputs": [
    {
     "data": {
      "text/html": [
       "<div>\n",
       "<style scoped>\n",
       "    .dataframe tbody tr th:only-of-type {\n",
       "        vertical-align: middle;\n",
       "    }\n",
       "\n",
       "    .dataframe tbody tr th {\n",
       "        vertical-align: top;\n",
       "    }\n",
       "\n",
       "    .dataframe thead th {\n",
       "        text-align: right;\n",
       "    }\n",
       "</style>\n",
       "<table border=\"1\" class=\"dataframe\">\n",
       "  <thead>\n",
       "    <tr style=\"text-align: right;\">\n",
       "      <th></th>\n",
       "      <th>Amount Requested</th>\n",
       "      <th>Application Date</th>\n",
       "      <th>Loan Title</th>\n",
       "      <th>Risk_Score</th>\n",
       "      <th>Debt-To-Income Ratio</th>\n",
       "      <th>State</th>\n",
       "      <th>Employment Length</th>\n",
       "      <th>Loan Amount</th>\n",
       "    </tr>\n",
       "  </thead>\n",
       "  <tbody>\n",
       "    <tr>\n",
       "      <th>count</th>\n",
       "      <td>7.554910e+05</td>\n",
       "      <td>755491</td>\n",
       "      <td>755477</td>\n",
       "      <td>731562.000000</td>\n",
       "      <td>755491</td>\n",
       "      <td>755470</td>\n",
       "      <td>747361</td>\n",
       "      <td>755491.0</td>\n",
       "    </tr>\n",
       "    <tr>\n",
       "      <th>unique</th>\n",
       "      <td>NaN</td>\n",
       "      <td>2047</td>\n",
       "      <td>61365</td>\n",
       "      <td>NaN</td>\n",
       "      <td>21655</td>\n",
       "      <td>51</td>\n",
       "      <td>11</td>\n",
       "      <td>NaN</td>\n",
       "    </tr>\n",
       "    <tr>\n",
       "      <th>top</th>\n",
       "      <td>NaN</td>\n",
       "      <td>2012-10-15</td>\n",
       "      <td>debt_consolidation</td>\n",
       "      <td>NaN</td>\n",
       "      <td>0%</td>\n",
       "      <td>CA</td>\n",
       "      <td>&lt; 1 year</td>\n",
       "      <td>NaN</td>\n",
       "    </tr>\n",
       "    <tr>\n",
       "      <th>freq</th>\n",
       "      <td>NaN</td>\n",
       "      <td>1825</td>\n",
       "      <td>247421</td>\n",
       "      <td>NaN</td>\n",
       "      <td>66450</td>\n",
       "      <td>99792</td>\n",
       "      <td>574094</td>\n",
       "      <td>NaN</td>\n",
       "    </tr>\n",
       "    <tr>\n",
       "      <th>mean</th>\n",
       "      <td>1.291072e+04</td>\n",
       "      <td>NaN</td>\n",
       "      <td>NaN</td>\n",
       "      <td>590.995754</td>\n",
       "      <td>NaN</td>\n",
       "      <td>NaN</td>\n",
       "      <td>NaN</td>\n",
       "      <td>0.0</td>\n",
       "    </tr>\n",
       "    <tr>\n",
       "      <th>std</th>\n",
       "      <td>1.068035e+04</td>\n",
       "      <td>NaN</td>\n",
       "      <td>NaN</td>\n",
       "      <td>179.254816</td>\n",
       "      <td>NaN</td>\n",
       "      <td>NaN</td>\n",
       "      <td>NaN</td>\n",
       "      <td>0.0</td>\n",
       "    </tr>\n",
       "    <tr>\n",
       "      <th>min</th>\n",
       "      <td>0.000000e+00</td>\n",
       "      <td>NaN</td>\n",
       "      <td>NaN</td>\n",
       "      <td>0.000000</td>\n",
       "      <td>NaN</td>\n",
       "      <td>NaN</td>\n",
       "      <td>NaN</td>\n",
       "      <td>0.0</td>\n",
       "    </tr>\n",
       "    <tr>\n",
       "      <th>25%</th>\n",
       "      <td>5.000000e+03</td>\n",
       "      <td>NaN</td>\n",
       "      <td>NaN</td>\n",
       "      <td>571.000000</td>\n",
       "      <td>NaN</td>\n",
       "      <td>NaN</td>\n",
       "      <td>NaN</td>\n",
       "      <td>0.0</td>\n",
       "    </tr>\n",
       "    <tr>\n",
       "      <th>50%</th>\n",
       "      <td>1.000000e+04</td>\n",
       "      <td>NaN</td>\n",
       "      <td>NaN</td>\n",
       "      <td>644.000000</td>\n",
       "      <td>NaN</td>\n",
       "      <td>NaN</td>\n",
       "      <td>NaN</td>\n",
       "      <td>0.0</td>\n",
       "    </tr>\n",
       "    <tr>\n",
       "      <th>75%</th>\n",
       "      <td>2.000000e+04</td>\n",
       "      <td>NaN</td>\n",
       "      <td>NaN</td>\n",
       "      <td>685.000000</td>\n",
       "      <td>NaN</td>\n",
       "      <td>NaN</td>\n",
       "      <td>NaN</td>\n",
       "      <td>0.0</td>\n",
       "    </tr>\n",
       "    <tr>\n",
       "      <th>max</th>\n",
       "      <td>1.400000e+06</td>\n",
       "      <td>NaN</td>\n",
       "      <td>NaN</td>\n",
       "      <td>850.000000</td>\n",
       "      <td>NaN</td>\n",
       "      <td>NaN</td>\n",
       "      <td>NaN</td>\n",
       "      <td>0.0</td>\n",
       "    </tr>\n",
       "  </tbody>\n",
       "</table>\n",
       "</div>"
      ],
      "text/plain": [
       "        Amount Requested Application Date          Loan Title     Risk_Score  \\\n",
       "count       7.554910e+05           755491              755477  731562.000000   \n",
       "unique               NaN             2047               61365            NaN   \n",
       "top                  NaN       2012-10-15  debt_consolidation            NaN   \n",
       "freq                 NaN             1825              247421            NaN   \n",
       "mean        1.291072e+04              NaN                 NaN     590.995754   \n",
       "std         1.068035e+04              NaN                 NaN     179.254816   \n",
       "min         0.000000e+00              NaN                 NaN       0.000000   \n",
       "25%         5.000000e+03              NaN                 NaN     571.000000   \n",
       "50%         1.000000e+04              NaN                 NaN     644.000000   \n",
       "75%         2.000000e+04              NaN                 NaN     685.000000   \n",
       "max         1.400000e+06              NaN                 NaN     850.000000   \n",
       "\n",
       "       Debt-To-Income Ratio   State Employment Length  Loan Amount  \n",
       "count                755491  755470            747361     755491.0  \n",
       "unique                21655      51                11          NaN  \n",
       "top                      0%      CA          < 1 year          NaN  \n",
       "freq                  66450   99792            574094          NaN  \n",
       "mean                    NaN     NaN               NaN          0.0  \n",
       "std                     NaN     NaN               NaN          0.0  \n",
       "min                     NaN     NaN               NaN          0.0  \n",
       "25%                     NaN     NaN               NaN          0.0  \n",
       "50%                     NaN     NaN               NaN          0.0  \n",
       "75%                     NaN     NaN               NaN          0.0  \n",
       "max                     NaN     NaN               NaN          0.0  "
      ]
     },
     "execution_count": 8,
     "metadata": {},
     "output_type": "execute_result"
    }
   ],
   "source": [
    "rejections.describe(include='all')"
   ]
  },
  {
   "cell_type": "code",
   "execution_count": 9,
   "metadata": {},
   "outputs": [],
   "source": [
    "rejections = rejections.loc[rejections['Amount Requested'] > 0,:]"
   ]
  },
  {
   "cell_type": "markdown",
   "metadata": {},
   "source": [
    "<b>1.1 Combine the datasets"
   ]
  },
  {
   "cell_type": "code",
   "execution_count": 10,
   "metadata": {
    "scrolled": true
   },
   "outputs": [
    {
     "data": {
      "text/html": [
       "<div>\n",
       "<style scoped>\n",
       "    .dataframe tbody tr th:only-of-type {\n",
       "        vertical-align: middle;\n",
       "    }\n",
       "\n",
       "    .dataframe tbody tr th {\n",
       "        vertical-align: top;\n",
       "    }\n",
       "\n",
       "    .dataframe thead th {\n",
       "        text-align: right;\n",
       "    }\n",
       "</style>\n",
       "<table border=\"1\" class=\"dataframe\">\n",
       "  <thead>\n",
       "    <tr style=\"text-align: right;\">\n",
       "      <th></th>\n",
       "      <th>addr_state</th>\n",
       "      <th>annual_inc</th>\n",
       "      <th>application_type</th>\n",
       "      <th>chargeoff_within_12_mths</th>\n",
       "      <th>delinq_amnt</th>\n",
       "      <th>desc</th>\n",
       "      <th>disbursement_method</th>\n",
       "      <th>dti</th>\n",
       "      <th>emp_length</th>\n",
       "      <th>emp_title</th>\n",
       "      <th>funded_amnt</th>\n",
       "      <th>funded_amnt_inv</th>\n",
       "      <th>grade</th>\n",
       "      <th>hardship_flag</th>\n",
       "      <th>home_ownership</th>\n",
       "      <th>initial_list_status</th>\n",
       "      <th>installment</th>\n",
       "      <th>int_rate</th>\n",
       "      <th>issue_d</th>\n",
       "      <th>last_pymnt_amnt</th>\n",
       "      <th>last_pymnt_d</th>\n",
       "      <th>Loan Amount</th>\n",
       "      <th>loan_status</th>\n",
       "      <th>pub_rec_bankruptcies</th>\n",
       "      <th>purpose</th>\n",
       "      <th>pymnt_plan</th>\n",
       "      <th>term</th>\n",
       "      <th>Loan Title</th>\n",
       "      <th>total_pymnt</th>\n",
       "      <th>total_pymnt_inv</th>\n",
       "      <th>verification_status</th>\n",
       "    </tr>\n",
       "  </thead>\n",
       "  <tbody>\n",
       "    <tr>\n",
       "      <th>0</th>\n",
       "      <td>AZ</td>\n",
       "      <td>24000.0</td>\n",
       "      <td>Individual</td>\n",
       "      <td>0.0</td>\n",
       "      <td>0</td>\n",
       "      <td>Borrower added on 12/22/11 &gt; I need to upgra...</td>\n",
       "      <td>Cash</td>\n",
       "      <td>27.65</td>\n",
       "      <td>10+ years</td>\n",
       "      <td>NaN</td>\n",
       "      <td>5000</td>\n",
       "      <td>4975.0</td>\n",
       "      <td>B</td>\n",
       "      <td>N</td>\n",
       "      <td>RENT</td>\n",
       "      <td>f</td>\n",
       "      <td>162.87</td>\n",
       "      <td>10.65%</td>\n",
       "      <td>Dec-2011</td>\n",
       "      <td>171.62</td>\n",
       "      <td>Jan-2015</td>\n",
       "      <td>5000</td>\n",
       "      <td>Fully Paid</td>\n",
       "      <td>0.0</td>\n",
       "      <td>credit_card</td>\n",
       "      <td>n</td>\n",
       "      <td>36 months</td>\n",
       "      <td>Computer</td>\n",
       "      <td>5863.155187</td>\n",
       "      <td>5833.84</td>\n",
       "      <td>Verified</td>\n",
       "    </tr>\n",
       "    <tr>\n",
       "      <th>1</th>\n",
       "      <td>GA</td>\n",
       "      <td>30000.0</td>\n",
       "      <td>Individual</td>\n",
       "      <td>0.0</td>\n",
       "      <td>0</td>\n",
       "      <td>Borrower added on 12/22/11 &gt; I plan to use t...</td>\n",
       "      <td>Cash</td>\n",
       "      <td>1.00</td>\n",
       "      <td>&lt; 1 year</td>\n",
       "      <td>Ryder</td>\n",
       "      <td>2500</td>\n",
       "      <td>2500.0</td>\n",
       "      <td>C</td>\n",
       "      <td>N</td>\n",
       "      <td>RENT</td>\n",
       "      <td>f</td>\n",
       "      <td>59.83</td>\n",
       "      <td>15.27%</td>\n",
       "      <td>Dec-2011</td>\n",
       "      <td>119.66</td>\n",
       "      <td>Apr-2013</td>\n",
       "      <td>2500</td>\n",
       "      <td>Charged Off</td>\n",
       "      <td>0.0</td>\n",
       "      <td>car</td>\n",
       "      <td>n</td>\n",
       "      <td>60 months</td>\n",
       "      <td>bike</td>\n",
       "      <td>1014.530000</td>\n",
       "      <td>1014.53</td>\n",
       "      <td>Source Verified</td>\n",
       "    </tr>\n",
       "    <tr>\n",
       "      <th>2</th>\n",
       "      <td>IL</td>\n",
       "      <td>12252.0</td>\n",
       "      <td>Individual</td>\n",
       "      <td>0.0</td>\n",
       "      <td>0</td>\n",
       "      <td>NaN</td>\n",
       "      <td>Cash</td>\n",
       "      <td>8.72</td>\n",
       "      <td>10+ years</td>\n",
       "      <td>NaN</td>\n",
       "      <td>2400</td>\n",
       "      <td>2400.0</td>\n",
       "      <td>C</td>\n",
       "      <td>N</td>\n",
       "      <td>RENT</td>\n",
       "      <td>f</td>\n",
       "      <td>84.33</td>\n",
       "      <td>15.96%</td>\n",
       "      <td>Dec-2011</td>\n",
       "      <td>649.91</td>\n",
       "      <td>Jun-2014</td>\n",
       "      <td>2400</td>\n",
       "      <td>Fully Paid</td>\n",
       "      <td>0.0</td>\n",
       "      <td>small_business</td>\n",
       "      <td>n</td>\n",
       "      <td>36 months</td>\n",
       "      <td>real estate business</td>\n",
       "      <td>3005.666844</td>\n",
       "      <td>3005.67</td>\n",
       "      <td>Not Verified</td>\n",
       "    </tr>\n",
       "    <tr>\n",
       "      <th>3</th>\n",
       "      <td>CA</td>\n",
       "      <td>49200.0</td>\n",
       "      <td>Individual</td>\n",
       "      <td>0.0</td>\n",
       "      <td>0</td>\n",
       "      <td>Borrower added on 12/21/11 &gt; to pay for prop...</td>\n",
       "      <td>Cash</td>\n",
       "      <td>20.00</td>\n",
       "      <td>10+ years</td>\n",
       "      <td>AIR RESOURCES BOARD</td>\n",
       "      <td>10000</td>\n",
       "      <td>10000.0</td>\n",
       "      <td>C</td>\n",
       "      <td>N</td>\n",
       "      <td>RENT</td>\n",
       "      <td>f</td>\n",
       "      <td>339.31</td>\n",
       "      <td>13.49%</td>\n",
       "      <td>Dec-2011</td>\n",
       "      <td>357.48</td>\n",
       "      <td>Jan-2015</td>\n",
       "      <td>10000</td>\n",
       "      <td>Fully Paid</td>\n",
       "      <td>0.0</td>\n",
       "      <td>other</td>\n",
       "      <td>n</td>\n",
       "      <td>36 months</td>\n",
       "      <td>personel</td>\n",
       "      <td>12231.890000</td>\n",
       "      <td>12231.89</td>\n",
       "      <td>Source Verified</td>\n",
       "    </tr>\n",
       "    <tr>\n",
       "      <th>4</th>\n",
       "      <td>OR</td>\n",
       "      <td>80000.0</td>\n",
       "      <td>Individual</td>\n",
       "      <td>0.0</td>\n",
       "      <td>0</td>\n",
       "      <td>Borrower added on 12/21/11 &gt; I plan on combi...</td>\n",
       "      <td>Cash</td>\n",
       "      <td>17.94</td>\n",
       "      <td>1 year</td>\n",
       "      <td>University Medical Group</td>\n",
       "      <td>3000</td>\n",
       "      <td>3000.0</td>\n",
       "      <td>B</td>\n",
       "      <td>N</td>\n",
       "      <td>RENT</td>\n",
       "      <td>f</td>\n",
       "      <td>67.79</td>\n",
       "      <td>12.69%</td>\n",
       "      <td>Dec-2011</td>\n",
       "      <td>67.30</td>\n",
       "      <td>Jan-2017</td>\n",
       "      <td>3000</td>\n",
       "      <td>Fully Paid</td>\n",
       "      <td>0.0</td>\n",
       "      <td>other</td>\n",
       "      <td>n</td>\n",
       "      <td>60 months</td>\n",
       "      <td>Personal</td>\n",
       "      <td>4066.908161</td>\n",
       "      <td>4066.91</td>\n",
       "      <td>Source Verified</td>\n",
       "    </tr>\n",
       "  </tbody>\n",
       "</table>\n",
       "</div>"
      ],
      "text/plain": [
       "  addr_state  annual_inc application_type  chargeoff_within_12_mths  \\\n",
       "0         AZ     24000.0       Individual                       0.0   \n",
       "1         GA     30000.0       Individual                       0.0   \n",
       "2         IL     12252.0       Individual                       0.0   \n",
       "3         CA     49200.0       Individual                       0.0   \n",
       "4         OR     80000.0       Individual                       0.0   \n",
       "\n",
       "   delinq_amnt                                               desc  \\\n",
       "0            0    Borrower added on 12/22/11 > I need to upgra...   \n",
       "1            0    Borrower added on 12/22/11 > I plan to use t...   \n",
       "2            0                                                NaN   \n",
       "3            0    Borrower added on 12/21/11 > to pay for prop...   \n",
       "4            0    Borrower added on 12/21/11 > I plan on combi...   \n",
       "\n",
       "  disbursement_method    dti emp_length                 emp_title  \\\n",
       "0                Cash  27.65  10+ years                       NaN   \n",
       "1                Cash   1.00   < 1 year                     Ryder   \n",
       "2                Cash   8.72  10+ years                       NaN   \n",
       "3                Cash  20.00  10+ years       AIR RESOURCES BOARD   \n",
       "4                Cash  17.94     1 year  University Medical Group   \n",
       "\n",
       "   funded_amnt  funded_amnt_inv grade hardship_flag home_ownership  \\\n",
       "0         5000           4975.0     B             N           RENT   \n",
       "1         2500           2500.0     C             N           RENT   \n",
       "2         2400           2400.0     C             N           RENT   \n",
       "3        10000          10000.0     C             N           RENT   \n",
       "4         3000           3000.0     B             N           RENT   \n",
       "\n",
       "  initial_list_status  installment int_rate   issue_d  last_pymnt_amnt  \\\n",
       "0                   f       162.87   10.65%  Dec-2011           171.62   \n",
       "1                   f        59.83   15.27%  Dec-2011           119.66   \n",
       "2                   f        84.33   15.96%  Dec-2011           649.91   \n",
       "3                   f       339.31   13.49%  Dec-2011           357.48   \n",
       "4                   f        67.79   12.69%  Dec-2011            67.30   \n",
       "\n",
       "  last_pymnt_d  Loan Amount  loan_status  pub_rec_bankruptcies  \\\n",
       "0     Jan-2015         5000   Fully Paid                   0.0   \n",
       "1     Apr-2013         2500  Charged Off                   0.0   \n",
       "2     Jun-2014         2400   Fully Paid                   0.0   \n",
       "3     Jan-2015        10000   Fully Paid                   0.0   \n",
       "4     Jan-2017         3000   Fully Paid                   0.0   \n",
       "\n",
       "          purpose pymnt_plan        term            Loan Title   total_pymnt  \\\n",
       "0     credit_card          n   36 months              Computer   5863.155187   \n",
       "1             car          n   60 months                  bike   1014.530000   \n",
       "2  small_business          n   36 months  real estate business   3005.666844   \n",
       "3           other          n   36 months              personel  12231.890000   \n",
       "4           other          n   60 months              Personal   4066.908161   \n",
       "\n",
       "   total_pymnt_inv verification_status  \n",
       "0          5833.84            Verified  \n",
       "1          1014.53     Source Verified  \n",
       "2          3005.67        Not Verified  \n",
       "3         12231.89     Source Verified  \n",
       "4          4066.91     Source Verified  "
      ]
     },
     "execution_count": 10,
     "metadata": {},
     "output_type": "execute_result"
    }
   ],
   "source": [
    "loans.head()"
   ]
  },
  {
   "cell_type": "code",
   "execution_count": 11,
   "metadata": {},
   "outputs": [],
   "source": [
    "# Concatenate loans and rejections into a single file\n",
    "applications = pd.concat([loans.loc[:,['Loan Title', 'Loan Amount']], rejections.loc[:,['Loan Title', 'Loan Amount']]], axis=0)"
   ]
  },
  {
   "cell_type": "code",
   "execution_count": 12,
   "metadata": {},
   "outputs": [
    {
     "data": {
      "text/plain": [
       "array([[<matplotlib.axes._subplots.AxesSubplot object at 0x10e13d160>]],\n",
       "      dtype=object)"
      ]
     },
     "execution_count": 12,
     "metadata": {},
     "output_type": "execute_result"
    },
    {
     "data": {
      "image/png": "[encoded data removed]",
      "text/plain": [
       "<matplotlib.figure.Figure at 0x10e122780>"
      ]
     },
     "metadata": {},
     "output_type": "display_data"
    }
   ],
   "source": [
    "# Check distribution of loan amounts\n",
    "applications.hist('Loan Amount',bins=5)"
   ]
  },
  {
   "cell_type": "code",
   "execution_count": 13,
   "metadata": {},
   "outputs": [],
   "source": [
    "# Classify the applications as no loan, or normal loan, or large loan\n",
    "applications['Loan Type'] = 'none'\n",
    "applications.loc[applications[\"Loan Amount\"].between(1, 10000), 'Loan Type'] = 'normal' \n",
    "applications.loc[applications[\"Loan Amount\"].between(10001, 40000), 'Loan Type'] = 'high' "
   ]
  },
  {
   "cell_type": "code",
   "execution_count": 14,
   "metadata": {},
   "outputs": [],
   "source": [
    "applications.dropna(inplace=True)"
   ]
  },
  {
   "cell_type": "code",
   "execution_count": 15,
   "metadata": {},
   "outputs": [
    {
     "name": "stdout",
     "output_type": "stream",
     "text": [
      "Computer\n",
      "normal\n"
     ]
    }
   ],
   "source": [
    "# Read the data into a single numpy darray\n",
    "loan_titles = applications[\"Loan Title\"].values\n",
    "loan_type = applications[\"Loan Type\"].values\n",
    "print(loan_titles[0])\n",
    "print(loan_type[0])"
   ]
  },
  {
   "cell_type": "code",
   "execution_count": 16,
   "metadata": {},
   "outputs": [
    {
     "data": {
      "text/plain": [
       "array(['Computer', 'bike', 'real estate business', ...,\n",
       "       'debt_consolidation', 'debt_consolidation', 'other'], dtype=object)"
      ]
     },
     "execution_count": 16,
     "metadata": {},
     "output_type": "execute_result"
    }
   ],
   "source": [
    "loan_titles"
   ]
  },
  {
   "cell_type": "code",
   "execution_count": 18,
   "metadata": {},
   "outputs": [
    {
     "name": "stdout",
     "output_type": "stream",
     "text": [
      "['computer']\n",
      "comput\n"
     ]
    }
   ],
   "source": [
    "from nltk.stem.snowball import SnowballStemmer\n",
    "stemmer = SnowballStemmer('english')\n",
    "# test the approach on a single title\n",
    "title = applications[\"Loan Title\"].values[0]\n",
    "\n",
    "title_lower = [w.lower() for w in title.split()]\n",
    "print (title_lower)\n",
    "print (\" \".join([stemmer.stem(w) for w in title_lower]))"
   ]
  },
  {
   "cell_type": "code",
   "execution_count": 19,
   "metadata": {},
   "outputs": [],
   "source": [
    "def clean_up_text(title):\n",
    "    # step 1: make lower case\n",
    "    title_lower = [w.lower() for w in title.split()]\n",
    "    # step 2: stemming\n",
    "    return \" \".join([stemmer.stem(w) for w in title_lower])"
   ]
  },
  {
   "cell_type": "code",
   "execution_count": 20,
   "metadata": {},
   "outputs": [],
   "source": [
    "applications[\"Loan Title Cleaned\"] = applications[\"Loan Title\"].apply(clean_up_text)"
   ]
  },
  {
   "cell_type": "code",
   "execution_count": 21,
   "metadata": {},
   "outputs": [
    {
     "data": {
      "text/plain": [
       "none      755477\n",
       "normal     22531\n",
       "high       17243\n",
       "Name: Loan Type, dtype: int64"
      ]
     },
     "execution_count": 21,
     "metadata": {},
     "output_type": "execute_result"
    }
   ],
   "source": [
    "from sklearn.model_selection import train_test_split\n",
    "\n",
    "X = applications[\"Loan Title Cleaned\"]\n",
    "y = applications['Loan Type']\n",
    "\n",
    "X_train, X_test, y_train, y_test = train_test_split(X, y, test_size=0.5, random_state=42, stratify=y)\n",
    "y.value_counts()"
   ]
  },
  {
   "cell_type": "code",
   "execution_count": 22,
   "metadata": {},
   "outputs": [
    {
     "name": "stdout",
     "output_type": "stream",
     "text": [
      "14174\n"
     ]
    }
   ],
   "source": [
    "from sklearn.feature_extraction.text import CountVectorizer\n",
    "\n",
    "vec = CountVectorizer(binary=True,\n",
    "                      stop_words='english',\n",
    "                      lowercase=True # default\n",
    "                     )\n",
    "\n",
    "X_train_text = vec.fit_transform(X_train)\n",
    "X_test_text = vec.transform(X_test)\n",
    "\n",
    "# vocabulary_ is a dict obtained from the data\n",
    "print(len(vec.vocabulary_))\n",
    "# look at some random features"
   ]
  },
  {
   "cell_type": "code",
   "execution_count": null,
   "metadata": {},
   "outputs": [],
   "source": [
    "# X_train_text.todense()"
   ]
  },
  {
   "cell_type": "code",
   "execution_count": 23,
   "metadata": {},
   "outputs": [
    {
     "name": "stdout",
     "output_type": "stream",
     "text": [
      "[0.94499857 0.94588355] 0.9454410573844474\n"
     ]
    }
   ],
   "source": [
    "import numpy as np\n",
    "from sklearn.ensemble import RandomForestClassifier\n",
    "from sklearn.model_selection import cross_val_score\n",
    "\n",
    "rf = RandomForestClassifier()\n",
    "\n",
    "scores = cross_val_score(rf, X_train_text, y_train, scoring=\"accuracy\", cv=2)\n",
    "print(scores, np.mean(scores))"
   ]
  },
  {
   "cell_type": "code",
   "execution_count": 25,
   "metadata": {},
   "outputs": [
    {
     "data": {
      "text/plain": [
       "none      0.949986\n",
       "normal    0.028331\n",
       "high      0.021684\n",
       "Name: Loan Type, dtype: float64"
      ]
     },
     "execution_count": 25,
     "metadata": {},
     "output_type": "execute_result"
    }
   ],
   "source": [
    "y_train.value_counts()/len(y_train)"
   ]
  },
  {
   "cell_type": "code",
   "execution_count": 26,
   "metadata": {
    "scrolled": true
   },
   "outputs": [
    {
     "name": "stdout",
     "output_type": "stream",
     "text": [
      "(('consolid', 2985), 0.06862031807520494)\n",
      "(('loan', 7795), 0.06430232334522619)\n",
      "(('debt', 3635), 0.04694132935763433)\n",
      "(('credit', 3282), 0.018478612626198057)\n",
      "(('debt_consolid', 3640), 0.01481085565590981)\n",
      "(('payoff', 9840), 0.012358931642695383)\n",
      "(('person', 9947), 0.01209592054055821)\n",
      "(('card', 2210), 0.011997378182988294)\n",
      "(('pay', 9787), 0.008978418076893913)\n",
      "(('home', 6037), 0.008181867754580581)\n"
     ]
    }
   ],
   "source": [
    "rf = RandomForestClassifier()\n",
    "rf.fit(X_train_text, y_train);\n",
    "\n",
    "def get_feature_importances(vocabulary, rf_importances, top_n):\n",
    "    vocab_features = sorted(vocabulary.items(), key=lambda x: x[1])\n",
    "    importances = zip(vocab_features, rf_importances)\n",
    "    \n",
    "    for z in sorted(importances, key=lambda x: abs(x[1]), reverse=True)[:top_n]:\n",
    "        print(z)\n",
    "\n",
    "get_feature_importances(vec.vocabulary_, rf.feature_importances_, 10)"
   ]
  },
  {
   "cell_type": "code",
   "execution_count": 27,
   "metadata": {},
   "outputs": [],
   "source": [
    "from sklearn.metrics import confusion_matrix"
   ]
  },
  {
   "cell_type": "code",
   "execution_count": 28,
   "metadata": {},
   "outputs": [],
   "source": [
    "train_pred = rf.predict(X_train_text)"
   ]
  },
  {
   "cell_type": "code",
   "execution_count": 29,
   "metadata": {},
   "outputs": [
    {
     "data": {
      "text/plain": [
       "array([[  2543,   5952,    127],\n",
       "       [   225, 377067,    446],\n",
       "       [   130,   7064,   4071]])"
      ]
     },
     "execution_count": 29,
     "metadata": {},
     "output_type": "execute_result"
    }
   ],
   "source": [
    "confusion_matrix(y_train, train_pred)"
   ]
  },
  {
   "cell_type": "code",
   "execution_count": 30,
   "metadata": {},
   "outputs": [
    {
     "data": {
      "text/plain": [
       "none      377738\n",
       "normal     11265\n",
       "high        8622\n",
       "Name: Loan Type, dtype: int64"
      ]
     },
     "execution_count": 30,
     "metadata": {},
     "output_type": "execute_result"
    }
   ],
   "source": [
    "y_train.value_counts()"
   ]
  },
  {
   "cell_type": "code",
   "execution_count": 31,
   "metadata": {},
   "outputs": [
    {
     "name": "stdout",
     "output_type": "stream",
     "text": [
      "1000\n"
     ]
    }
   ],
   "source": [
    "from sklearn.feature_extraction.text import TfidfVectorizer\n",
    "\n",
    "tfidf_vec = TfidfVectorizer(stop_words=\"english\",\n",
    "                            min_df=5,\n",
    "                            max_features=1000)\n",
    "\n",
    "X_train_text = tfidf_vec.fit_transform(X_train)\n",
    "X_test_text = tfidf_vec.transform(X_test)\n",
    "\n",
    "# vocabulary_ is a dict obtained from the data\n",
    "print(len(tfidf_vec.vocabulary_))"
   ]
  },
  {
   "cell_type": "code",
   "execution_count": 32,
   "metadata": {},
   "outputs": [
    {
     "name": "stdout",
     "output_type": "stream",
     "text": [
      "(('loan', 563), 0.08617086910413665)\n",
      "(('consolid', 242), 0.0808559081326284)\n",
      "(('debt', 291), 0.07929769622976382)\n",
      "(('credit', 264), 0.03213694724608869)\n",
      "(('card', 174), 0.02638412056668543)\n",
      "(('debt_consolid', 292), 0.023112564523748803)\n",
      "(('person', 680), 0.01635105191932765)\n",
      "(('payoff', 676), 0.013998586858638917)\n",
      "(('pay', 670), 0.0120007864063605)\n",
      "(('improv', 488), 0.011654899813224909)\n"
     ]
    }
   ],
   "source": [
    "rf = RandomForestClassifier()\n",
    "rf.fit(X_train_text, y_train);\n",
    "\n",
    "def get_feature_importances(vocabulary, rf_importances, top_n):\n",
    "    vocab_features = sorted(vocabulary.items(), key=lambda x: x[1])\n",
    "    importances = zip(vocab_features, rf_importances)\n",
    "    \n",
    "    for z in sorted(importances, key=lambda x: abs(x[1]), reverse=True)[:top_n]:\n",
    "        print(z)\n",
    "\n",
    "get_feature_importances(tfidf_vec.vocabulary_, rf.feature_importances_, 10)"
   ]
  },
  {
   "cell_type": "code",
   "execution_count": 33,
   "metadata": {},
   "outputs": [
    {
     "data": {
      "text/html": [
       "<div>\n",
       "<style scoped>\n",
       "    .dataframe tbody tr th:only-of-type {\n",
       "        vertical-align: middle;\n",
       "    }\n",
       "\n",
       "    .dataframe tbody tr th {\n",
       "        vertical-align: top;\n",
       "    }\n",
       "\n",
       "    .dataframe thead th {\n",
       "        text-align: right;\n",
       "    }\n",
       "</style>\n",
       "<table border=\"1\" class=\"dataframe\">\n",
       "  <thead>\n",
       "    <tr style=\"text-align: right;\">\n",
       "      <th></th>\n",
       "      <th>Loan Title</th>\n",
       "      <th>Loan Amount</th>\n",
       "      <th>Loan Type</th>\n",
       "      <th>Loan Title Cleaned</th>\n",
       "    </tr>\n",
       "  </thead>\n",
       "  <tbody>\n",
       "    <tr>\n",
       "      <th>0</th>\n",
       "      <td>Computer</td>\n",
       "      <td>5000</td>\n",
       "      <td>normal</td>\n",
       "      <td>comput</td>\n",
       "    </tr>\n",
       "    <tr>\n",
       "      <th>1</th>\n",
       "      <td>bike</td>\n",
       "      <td>2500</td>\n",
       "      <td>normal</td>\n",
       "      <td>bike</td>\n",
       "    </tr>\n",
       "    <tr>\n",
       "      <th>2</th>\n",
       "      <td>real estate business</td>\n",
       "      <td>2400</td>\n",
       "      <td>normal</td>\n",
       "      <td>real estat busi</td>\n",
       "    </tr>\n",
       "    <tr>\n",
       "      <th>3</th>\n",
       "      <td>personel</td>\n",
       "      <td>10000</td>\n",
       "      <td>normal</td>\n",
       "      <td>personel</td>\n",
       "    </tr>\n",
       "    <tr>\n",
       "      <th>4</th>\n",
       "      <td>Personal</td>\n",
       "      <td>3000</td>\n",
       "      <td>normal</td>\n",
       "      <td>person</td>\n",
       "    </tr>\n",
       "  </tbody>\n",
       "</table>\n",
       "</div>"
      ],
      "text/plain": [
       "             Loan Title  Loan Amount Loan Type Loan Title Cleaned\n",
       "0              Computer         5000    normal             comput\n",
       "1                  bike         2500    normal               bike\n",
       "2  real estate business         2400    normal    real estat busi\n",
       "3              personel        10000    normal           personel\n",
       "4              Personal         3000    normal             person"
      ]
     },
     "execution_count": 33,
     "metadata": {},
     "output_type": "execute_result"
    }
   ],
   "source": [
    "applications.head()"
   ]
  },
  {
   "cell_type": "code",
   "execution_count": 40,
   "metadata": {},
   "outputs": [],
   "source": [
    "X_train_dense = X_train_text.todense()"
   ]
  },
  {
   "cell_type": "code",
   "execution_count": null,
   "metadata": {},
   "outputs": [],
   "source": []
  }
 ],
 "metadata": {
  "kernelspec": {
   "display_name": "Python 3",
   "language": "python",
   "name": "python3"
  },
  "language_info": {
   "codemirror_mode": {
    "name": "ipython",
    "version": 3
   },
   "file_extension": ".py",
   "mimetype": "text/x-python",
   "name": "python",
   "nbconvert_exporter": "python",
   "pygments_lexer": "ipython3",
   "version": "3.6.4"
  }
 },
 "nbformat": 4,
 "nbformat_minor": 2
}
