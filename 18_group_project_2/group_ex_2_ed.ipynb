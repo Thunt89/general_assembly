{
 "cells": [
  {
   "cell_type": "code",
   "execution_count": 238,
   "metadata": {},
   "outputs": [],
   "source": [
    "import pandas as pd\n",
    "import numpy as np\n",
    "import matplotlib.pyplot as plt\n",
    "import seaborn as sns\n",
    "from sklearn.preprocessing import StandardScaler\n",
    "%matplotlib inline\n",
    "\n",
    "import re\n",
    "from sklearn.model_selection import train_test_split\n",
    "from sklearn.ensemble import RandomForestClassifier\n",
    "from sklearn.model_selection import cross_val_score, GridSearchCV\n",
    "\n",
    "from sklearn.metrics import accuracy_score, precision_score, recall_score, confusion_matrix, roc_auc_score"
   ]
  },
  {
   "cell_type": "code",
   "execution_count": 239,
   "metadata": {},
   "outputs": [],
   "source": [
    "loans = pd.read_csv('data/loans.csv.gz')"
   ]
  },
  {
   "cell_type": "code",
   "execution_count": 240,
   "metadata": {},
   "outputs": [
    {
     "data": {
      "text/plain": [
       "Index(['addr_state', 'annual_inc', 'application_type',\n",
       "       'chargeoff_within_12_mths', 'delinq_amnt', 'desc',\n",
       "       'disbursement_method', 'dti', 'emp_length', 'emp_title', 'funded_amnt',\n",
       "       'funded_amnt_inv', 'grade', 'hardship_flag', 'home_ownership',\n",
       "       'initial_list_status', 'installment', 'int_rate', 'issue_d',\n",
       "       'last_pymnt_amnt', 'last_pymnt_d', 'loan_amnt', 'loan_status',\n",
       "       'pub_rec_bankruptcies', 'purpose', 'pymnt_plan', 'term', 'title',\n",
       "       'total_pymnt', 'total_pymnt_inv', 'verification_status'],\n",
       "      dtype='object')"
      ]
     },
     "execution_count": 240,
     "metadata": {},
     "output_type": "execute_result"
    }
   ],
   "source": [
    "loans.columns"
   ]
  },
  {
   "cell_type": "code",
   "execution_count": 241,
   "metadata": {},
   "outputs": [
    {
     "data": {
      "text/plain": [
       "addr_state                      0\n",
       "annual_inc                      0\n",
       "application_type                0\n",
       "chargeoff_within_12_mths       56\n",
       "delinq_amnt                     0\n",
       "desc                        12967\n",
       "disbursement_method             0\n",
       "dti                             0\n",
       "emp_length                   1078\n",
       "emp_title                    2467\n",
       "funded_amnt                     0\n",
       "funded_amnt_inv                 0\n",
       "grade                           0\n",
       "hardship_flag                   0\n",
       "home_ownership                  0\n",
       "initial_list_status             0\n",
       "installment                     0\n",
       "int_rate                        0\n",
       "issue_d                         0\n",
       "last_pymnt_amnt                 0\n",
       "last_pymnt_d                   71\n",
       "loan_amnt                       0\n",
       "loan_status                     0\n",
       "pub_rec_bankruptcies          697\n",
       "purpose                         0\n",
       "pymnt_plan                      0\n",
       "term                            0\n",
       "title                          11\n",
       "total_pymnt                     0\n",
       "total_pymnt_inv                 0\n",
       "verification_status             0\n",
       "dtype: int64"
      ]
     },
     "execution_count": 241,
     "metadata": {},
     "output_type": "execute_result"
    }
   ],
   "source": [
    "loans.isnull().sum()"
   ]
  },
  {
   "cell_type": "code",
   "execution_count": 242,
   "metadata": {},
   "outputs": [
    {
     "name": "stdout",
     "output_type": "stream",
     "text": [
      "<class 'pandas.core.frame.DataFrame'>\n",
      "RangeIndex: 39785 entries, 0 to 39784\n",
      "Data columns (total 31 columns):\n",
      "addr_state                  39785 non-null object\n",
      "annual_inc                  39785 non-null float64\n",
      "application_type            39785 non-null object\n",
      "chargeoff_within_12_mths    39729 non-null float64\n",
      "delinq_amnt                 39785 non-null int64\n",
      "desc                        26818 non-null object\n",
      "disbursement_method         39785 non-null object\n",
      "dti                         39785 non-null float64\n",
      "emp_length                  38707 non-null object\n",
      "emp_title                   37318 non-null object\n",
      "funded_amnt                 39785 non-null int64\n",
      "funded_amnt_inv             39785 non-null float64\n",
      "grade                       39785 non-null object\n",
      "hardship_flag               39785 non-null object\n",
      "home_ownership              39785 non-null object\n",
      "initial_list_status         39785 non-null object\n",
      "installment                 39785 non-null float64\n",
      "int_rate                    39785 non-null object\n",
      "issue_d                     39785 non-null object\n",
      "last_pymnt_amnt             39785 non-null float64\n",
      "last_pymnt_d                39714 non-null object\n",
      "loan_amnt                   39785 non-null int64\n",
      "loan_status                 39785 non-null object\n",
      "pub_rec_bankruptcies        39088 non-null float64\n",
      "purpose                     39785 non-null object\n",
      "pymnt_plan                  39785 non-null object\n",
      "term                        39785 non-null object\n",
      "title                       39774 non-null object\n",
      "total_pymnt                 39785 non-null float64\n",
      "total_pymnt_inv             39785 non-null float64\n",
      "verification_status         39785 non-null object\n",
      "dtypes: float64(9), int64(3), object(19)\n",
      "memory usage: 9.4+ MB\n"
     ]
    }
   ],
   "source": [
    "loans.info()"
   ]
  },
  {
   "cell_type": "code",
   "execution_count": 243,
   "metadata": {},
   "outputs": [
    {
     "name": "stdout",
     "output_type": "stream",
     "text": [
      "---------\n",
      "addr_state\n",
      "0    AZ\n",
      "1    GA\n",
      "2    IL\n",
      "3    CA\n",
      "4    OR\n",
      "Name: addr_state, dtype: object\n",
      "---------\n",
      "annual_inc\n",
      "0    24000.0\n",
      "1    30000.0\n",
      "2    12252.0\n",
      "3    49200.0\n",
      "4    80000.0\n",
      "Name: annual_inc, dtype: float64\n",
      "---------\n",
      "application_type\n",
      "0    Individual\n",
      "1    Individual\n",
      "2    Individual\n",
      "3    Individual\n",
      "4    Individual\n",
      "Name: application_type, dtype: object\n",
      "---------\n",
      "chargeoff_within_12_mths\n",
      "0    0.0\n",
      "1    0.0\n",
      "2    0.0\n",
      "3    0.0\n",
      "4    0.0\n",
      "Name: chargeoff_within_12_mths, dtype: float64\n",
      "---------\n",
      "delinq_amnt\n",
      "0    0\n",
      "1    0\n",
      "2    0\n",
      "3    0\n",
      "4    0\n",
      "Name: delinq_amnt, dtype: int64\n",
      "---------\n",
      "desc\n",
      "0      Borrower added on 12/22/11 > I need to upgra...\n",
      "1      Borrower added on 12/22/11 > I plan to use t...\n",
      "2                                                  NaN\n",
      "3      Borrower added on 12/21/11 > to pay for prop...\n",
      "4      Borrower added on 12/21/11 > I plan on combi...\n",
      "Name: desc, dtype: object\n",
      "---------\n",
      "disbursement_method\n",
      "0    Cash\n",
      "1    Cash\n",
      "2    Cash\n",
      "3    Cash\n",
      "4    Cash\n",
      "Name: disbursement_method, dtype: object\n",
      "---------\n",
      "dti\n",
      "0    27.65\n",
      "1     1.00\n",
      "2     8.72\n",
      "3    20.00\n",
      "4    17.94\n",
      "Name: dti, dtype: float64\n",
      "---------\n",
      "emp_length\n",
      "0    10+ years\n",
      "1     < 1 year\n",
      "2    10+ years\n",
      "3    10+ years\n",
      "4       1 year\n",
      "Name: emp_length, dtype: object\n",
      "---------\n",
      "emp_title\n",
      "0                         NaN\n",
      "1                       Ryder\n",
      "2                         NaN\n",
      "3         AIR RESOURCES BOARD\n",
      "4    University Medical Group\n",
      "Name: emp_title, dtype: object\n",
      "---------\n",
      "funded_amnt\n",
      "0     5000\n",
      "1     2500\n",
      "2     2400\n",
      "3    10000\n",
      "4     3000\n",
      "Name: funded_amnt, dtype: int64\n",
      "---------\n",
      "funded_amnt_inv\n",
      "0     4975.0\n",
      "1     2500.0\n",
      "2     2400.0\n",
      "3    10000.0\n",
      "4     3000.0\n",
      "Name: funded_amnt_inv, dtype: float64\n",
      "---------\n",
      "grade\n",
      "0    B\n",
      "1    C\n",
      "2    C\n",
      "3    C\n",
      "4    B\n",
      "Name: grade, dtype: object\n",
      "---------\n",
      "hardship_flag\n",
      "0    N\n",
      "1    N\n",
      "2    N\n",
      "3    N\n",
      "4    N\n",
      "Name: hardship_flag, dtype: object\n",
      "---------\n",
      "home_ownership\n",
      "0    RENT\n",
      "1    RENT\n",
      "2    RENT\n",
      "3    RENT\n",
      "4    RENT\n",
      "Name: home_ownership, dtype: object\n",
      "---------\n",
      "initial_list_status\n",
      "0    f\n",
      "1    f\n",
      "2    f\n",
      "3    f\n",
      "4    f\n",
      "Name: initial_list_status, dtype: object\n",
      "---------\n",
      "installment\n",
      "0    162.87\n",
      "1     59.83\n",
      "2     84.33\n",
      "3    339.31\n",
      "4     67.79\n",
      "Name: installment, dtype: float64\n",
      "---------\n",
      "int_rate\n",
      "0     10.65%\n",
      "1     15.27%\n",
      "2     15.96%\n",
      "3     13.49%\n",
      "4     12.69%\n",
      "Name: int_rate, dtype: object\n",
      "---------\n",
      "issue_d\n",
      "0    Dec-2011\n",
      "1    Dec-2011\n",
      "2    Dec-2011\n",
      "3    Dec-2011\n",
      "4    Dec-2011\n",
      "Name: issue_d, dtype: object\n",
      "---------\n",
      "last_pymnt_amnt\n",
      "0    171.62\n",
      "1    119.66\n",
      "2    649.91\n",
      "3    357.48\n",
      "4     67.30\n",
      "Name: last_pymnt_amnt, dtype: float64\n",
      "---------\n",
      "last_pymnt_d\n",
      "0    Jan-2015\n",
      "1    Apr-2013\n",
      "2    Jun-2014\n",
      "3    Jan-2015\n",
      "4    Jan-2017\n",
      "Name: last_pymnt_d, dtype: object\n",
      "---------\n",
      "loan_amnt\n",
      "0     5000\n",
      "1     2500\n",
      "2     2400\n",
      "3    10000\n",
      "4     3000\n",
      "Name: loan_amnt, dtype: int64\n",
      "---------\n",
      "loan_status\n",
      "0     Fully Paid\n",
      "1    Charged Off\n",
      "2     Fully Paid\n",
      "3     Fully Paid\n",
      "4     Fully Paid\n",
      "Name: loan_status, dtype: object\n",
      "---------\n",
      "pub_rec_bankruptcies\n",
      "0    0.0\n",
      "1    0.0\n",
      "2    0.0\n",
      "3    0.0\n",
      "4    0.0\n",
      "Name: pub_rec_bankruptcies, dtype: float64\n",
      "---------\n",
      "purpose\n",
      "0       credit_card\n",
      "1               car\n",
      "2    small_business\n",
      "3             other\n",
      "4             other\n",
      "Name: purpose, dtype: object\n",
      "---------\n",
      "pymnt_plan\n",
      "0    n\n",
      "1    n\n",
      "2    n\n",
      "3    n\n",
      "4    n\n",
      "Name: pymnt_plan, dtype: object\n",
      "---------\n",
      "term\n",
      "0     36 months\n",
      "1     60 months\n",
      "2     36 months\n",
      "3     36 months\n",
      "4     60 months\n",
      "Name: term, dtype: object\n",
      "---------\n",
      "title\n",
      "0                Computer\n",
      "1                    bike\n",
      "2    real estate business\n",
      "3                personel\n",
      "4                Personal\n",
      "Name: title, dtype: object\n",
      "---------\n",
      "total_pymnt\n",
      "0     5863.155187\n",
      "1     1014.530000\n",
      "2     3005.666844\n",
      "3    12231.890000\n",
      "4     4066.908161\n",
      "Name: total_pymnt, dtype: float64\n",
      "---------\n",
      "total_pymnt_inv\n",
      "0     5833.84\n",
      "1     1014.53\n",
      "2     3005.67\n",
      "3    12231.89\n",
      "4     4066.91\n",
      "Name: total_pymnt_inv, dtype: float64\n",
      "---------\n",
      "verification_status\n",
      "0           Verified\n",
      "1    Source Verified\n",
      "2       Not Verified\n",
      "3    Source Verified\n",
      "4    Source Verified\n",
      "Name: verification_status, dtype: object\n"
     ]
    }
   ],
   "source": [
    "for colname in loans: \n",
    "    print(\"---------\")\n",
    "    print(colname)\n",
    "    print(loans[colname].head())"
   ]
  },
  {
   "cell_type": "code",
   "execution_count": 244,
   "metadata": {},
   "outputs": [
    {
     "data": {
      "text/plain": [
       "nan"
      ]
     },
     "execution_count": 244,
     "metadata": {},
     "output_type": "execute_result"
    }
   ],
   "source": [
    "loans.loc[210, \"desc\"]"
   ]
  },
  {
   "cell_type": "code",
   "execution_count": 245,
   "metadata": {},
   "outputs": [],
   "source": [
    "rejections = pd.read_csv('./data/rejections.csv.gz')"
   ]
  },
  {
   "cell_type": "code",
   "execution_count": 246,
   "metadata": {},
   "outputs": [],
   "source": [
    "rejections['outcome'] = 0"
   ]
  },
  {
   "cell_type": "code",
   "execution_count": 247,
   "metadata": {},
   "outputs": [
    {
     "data": {
      "text/html": [
       "<div>\n",
       "<style scoped>\n",
       "    .dataframe tbody tr th:only-of-type {\n",
       "        vertical-align: middle;\n",
       "    }\n",
       "\n",
       "    .dataframe tbody tr th {\n",
       "        vertical-align: top;\n",
       "    }\n",
       "\n",
       "    .dataframe thead th {\n",
       "        text-align: right;\n",
       "    }\n",
       "</style>\n",
       "<table border=\"1\" class=\"dataframe\">\n",
       "  <thead>\n",
       "    <tr style=\"text-align: right;\">\n",
       "      <th></th>\n",
       "      <th>Amount Requested</th>\n",
       "      <th>Application Date</th>\n",
       "      <th>Loan Title</th>\n",
       "      <th>Risk_Score</th>\n",
       "      <th>Debt-To-Income Ratio</th>\n",
       "      <th>State</th>\n",
       "      <th>Employment Length</th>\n",
       "      <th>outcome</th>\n",
       "    </tr>\n",
       "  </thead>\n",
       "  <tbody>\n",
       "    <tr>\n",
       "      <th>0</th>\n",
       "      <td>1000.0</td>\n",
       "      <td>2007-05-26</td>\n",
       "      <td>Wedding Covered but No Honeymoon</td>\n",
       "      <td>693.0</td>\n",
       "      <td>10%</td>\n",
       "      <td>NM</td>\n",
       "      <td>4 years</td>\n",
       "      <td>0</td>\n",
       "    </tr>\n",
       "    <tr>\n",
       "      <th>1</th>\n",
       "      <td>1000.0</td>\n",
       "      <td>2007-05-26</td>\n",
       "      <td>Consolidating Debt</td>\n",
       "      <td>703.0</td>\n",
       "      <td>10%</td>\n",
       "      <td>MA</td>\n",
       "      <td>&lt; 1 year</td>\n",
       "      <td>0</td>\n",
       "    </tr>\n",
       "    <tr>\n",
       "      <th>2</th>\n",
       "      <td>11000.0</td>\n",
       "      <td>2007-05-27</td>\n",
       "      <td>Want to consolidate my debt</td>\n",
       "      <td>715.0</td>\n",
       "      <td>10%</td>\n",
       "      <td>MD</td>\n",
       "      <td>1 year</td>\n",
       "      <td>0</td>\n",
       "    </tr>\n",
       "    <tr>\n",
       "      <th>3</th>\n",
       "      <td>6000.0</td>\n",
       "      <td>2007-05-27</td>\n",
       "      <td>waksman</td>\n",
       "      <td>698.0</td>\n",
       "      <td>38.64%</td>\n",
       "      <td>MA</td>\n",
       "      <td>&lt; 1 year</td>\n",
       "      <td>0</td>\n",
       "    </tr>\n",
       "    <tr>\n",
       "      <th>4</th>\n",
       "      <td>1500.0</td>\n",
       "      <td>2007-05-27</td>\n",
       "      <td>mdrigo</td>\n",
       "      <td>509.0</td>\n",
       "      <td>9.43%</td>\n",
       "      <td>MD</td>\n",
       "      <td>&lt; 1 year</td>\n",
       "      <td>0</td>\n",
       "    </tr>\n",
       "  </tbody>\n",
       "</table>\n",
       "</div>"
      ],
      "text/plain": [
       "   Amount Requested Application Date                        Loan Title  \\\n",
       "0            1000.0       2007-05-26  Wedding Covered but No Honeymoon   \n",
       "1            1000.0       2007-05-26                Consolidating Debt   \n",
       "2           11000.0       2007-05-27       Want to consolidate my debt   \n",
       "3            6000.0       2007-05-27                           waksman   \n",
       "4            1500.0       2007-05-27                            mdrigo   \n",
       "\n",
       "   Risk_Score Debt-To-Income Ratio State Employment Length  outcome  \n",
       "0       693.0                  10%    NM           4 years        0  \n",
       "1       703.0                  10%    MA          < 1 year        0  \n",
       "2       715.0                  10%    MD            1 year        0  \n",
       "3       698.0               38.64%    MA          < 1 year        0  \n",
       "4       509.0                9.43%    MD          < 1 year        0  "
      ]
     },
     "execution_count": 247,
     "metadata": {},
     "output_type": "execute_result"
    }
   ],
   "source": [
    "rejections.head()"
   ]
  },
  {
   "cell_type": "code",
   "execution_count": 248,
   "metadata": {},
   "outputs": [],
   "source": [
    "rejections_filtered = rejections[['Amount Requested', 'Application Date', 'Debt-To-Income Ratio', 'Loan Title', 'Employment Length', 'outcome']]"
   ]
  },
  {
   "cell_type": "code",
   "execution_count": 249,
   "metadata": {},
   "outputs": [
    {
     "data": {
      "text/html": [
       "<div>\n",
       "<style scoped>\n",
       "    .dataframe tbody tr th:only-of-type {\n",
       "        vertical-align: middle;\n",
       "    }\n",
       "\n",
       "    .dataframe tbody tr th {\n",
       "        vertical-align: top;\n",
       "    }\n",
       "\n",
       "    .dataframe thead th {\n",
       "        text-align: right;\n",
       "    }\n",
       "</style>\n",
       "<table border=\"1\" class=\"dataframe\">\n",
       "  <thead>\n",
       "    <tr style=\"text-align: right;\">\n",
       "      <th></th>\n",
       "      <th>Amount Requested</th>\n",
       "      <th>Application Date</th>\n",
       "      <th>Debt-To-Income Ratio</th>\n",
       "      <th>Loan Title</th>\n",
       "      <th>Employment Length</th>\n",
       "      <th>outcome</th>\n",
       "    </tr>\n",
       "  </thead>\n",
       "  <tbody>\n",
       "    <tr>\n",
       "      <th>0</th>\n",
       "      <td>1000.0</td>\n",
       "      <td>2007-05-26</td>\n",
       "      <td>10%</td>\n",
       "      <td>Wedding Covered but No Honeymoon</td>\n",
       "      <td>4 years</td>\n",
       "      <td>0</td>\n",
       "    </tr>\n",
       "    <tr>\n",
       "      <th>1</th>\n",
       "      <td>1000.0</td>\n",
       "      <td>2007-05-26</td>\n",
       "      <td>10%</td>\n",
       "      <td>Consolidating Debt</td>\n",
       "      <td>&lt; 1 year</td>\n",
       "      <td>0</td>\n",
       "    </tr>\n",
       "    <tr>\n",
       "      <th>2</th>\n",
       "      <td>11000.0</td>\n",
       "      <td>2007-05-27</td>\n",
       "      <td>10%</td>\n",
       "      <td>Want to consolidate my debt</td>\n",
       "      <td>1 year</td>\n",
       "      <td>0</td>\n",
       "    </tr>\n",
       "    <tr>\n",
       "      <th>3</th>\n",
       "      <td>6000.0</td>\n",
       "      <td>2007-05-27</td>\n",
       "      <td>38.64%</td>\n",
       "      <td>waksman</td>\n",
       "      <td>&lt; 1 year</td>\n",
       "      <td>0</td>\n",
       "    </tr>\n",
       "    <tr>\n",
       "      <th>4</th>\n",
       "      <td>1500.0</td>\n",
       "      <td>2007-05-27</td>\n",
       "      <td>9.43%</td>\n",
       "      <td>mdrigo</td>\n",
       "      <td>&lt; 1 year</td>\n",
       "      <td>0</td>\n",
       "    </tr>\n",
       "  </tbody>\n",
       "</table>\n",
       "</div>"
      ],
      "text/plain": [
       "   Amount Requested Application Date Debt-To-Income Ratio  \\\n",
       "0            1000.0       2007-05-26                  10%   \n",
       "1            1000.0       2007-05-26                  10%   \n",
       "2           11000.0       2007-05-27                  10%   \n",
       "3            6000.0       2007-05-27               38.64%   \n",
       "4            1500.0       2007-05-27                9.43%   \n",
       "\n",
       "                         Loan Title Employment Length  outcome  \n",
       "0  Wedding Covered but No Honeymoon           4 years        0  \n",
       "1                Consolidating Debt          < 1 year        0  \n",
       "2       Want to consolidate my debt            1 year        0  \n",
       "3                           waksman          < 1 year        0  \n",
       "4                            mdrigo          < 1 year        0  "
      ]
     },
     "execution_count": 249,
     "metadata": {},
     "output_type": "execute_result"
    }
   ],
   "source": [
    "rejections_filtered.head()"
   ]
  },
  {
   "cell_type": "code",
   "execution_count": 250,
   "metadata": {},
   "outputs": [
    {
     "data": {
      "text/plain": [
       "Index(['Amount Requested', 'Application Date', 'Loan Title', 'Risk_Score',\n",
       "       'Debt-To-Income Ratio', 'State', 'Employment Length', 'outcome'],\n",
       "      dtype='object')"
      ]
     },
     "execution_count": 250,
     "metadata": {},
     "output_type": "execute_result"
    }
   ],
   "source": [
    "rejections.columns"
   ]
  },
  {
   "cell_type": "code",
   "execution_count": 251,
   "metadata": {},
   "outputs": [],
   "source": [
    "loans['outcome'] = 1"
   ]
  },
  {
   "cell_type": "code",
   "execution_count": 252,
   "metadata": {},
   "outputs": [],
   "source": [
    "loans_filtered = loans[[\"loan_amnt\", \"issue_d\", \"dti\", \"title\", \"emp_length\", \"outcome\"]]"
   ]
  },
  {
   "cell_type": "code",
   "execution_count": 253,
   "metadata": {},
   "outputs": [
    {
     "data": {
      "text/html": [
       "<div>\n",
       "<style scoped>\n",
       "    .dataframe tbody tr th:only-of-type {\n",
       "        vertical-align: middle;\n",
       "    }\n",
       "\n",
       "    .dataframe tbody tr th {\n",
       "        vertical-align: top;\n",
       "    }\n",
       "\n",
       "    .dataframe thead th {\n",
       "        text-align: right;\n",
       "    }\n",
       "</style>\n",
       "<table border=\"1\" class=\"dataframe\">\n",
       "  <thead>\n",
       "    <tr style=\"text-align: right;\">\n",
       "      <th></th>\n",
       "      <th>loan_amnt</th>\n",
       "      <th>issue_d</th>\n",
       "      <th>dti</th>\n",
       "      <th>title</th>\n",
       "      <th>emp_length</th>\n",
       "      <th>outcome</th>\n",
       "    </tr>\n",
       "  </thead>\n",
       "  <tbody>\n",
       "    <tr>\n",
       "      <th>0</th>\n",
       "      <td>5000</td>\n",
       "      <td>Dec-2011</td>\n",
       "      <td>27.65</td>\n",
       "      <td>Computer</td>\n",
       "      <td>10+ years</td>\n",
       "      <td>1</td>\n",
       "    </tr>\n",
       "    <tr>\n",
       "      <th>1</th>\n",
       "      <td>2500</td>\n",
       "      <td>Dec-2011</td>\n",
       "      <td>1.00</td>\n",
       "      <td>bike</td>\n",
       "      <td>&lt; 1 year</td>\n",
       "      <td>1</td>\n",
       "    </tr>\n",
       "    <tr>\n",
       "      <th>2</th>\n",
       "      <td>2400</td>\n",
       "      <td>Dec-2011</td>\n",
       "      <td>8.72</td>\n",
       "      <td>real estate business</td>\n",
       "      <td>10+ years</td>\n",
       "      <td>1</td>\n",
       "    </tr>\n",
       "    <tr>\n",
       "      <th>3</th>\n",
       "      <td>10000</td>\n",
       "      <td>Dec-2011</td>\n",
       "      <td>20.00</td>\n",
       "      <td>personel</td>\n",
       "      <td>10+ years</td>\n",
       "      <td>1</td>\n",
       "    </tr>\n",
       "    <tr>\n",
       "      <th>4</th>\n",
       "      <td>3000</td>\n",
       "      <td>Dec-2011</td>\n",
       "      <td>17.94</td>\n",
       "      <td>Personal</td>\n",
       "      <td>1 year</td>\n",
       "      <td>1</td>\n",
       "    </tr>\n",
       "  </tbody>\n",
       "</table>\n",
       "</div>"
      ],
      "text/plain": [
       "   loan_amnt   issue_d    dti                 title emp_length  outcome\n",
       "0       5000  Dec-2011  27.65              Computer  10+ years        1\n",
       "1       2500  Dec-2011   1.00                  bike   < 1 year        1\n",
       "2       2400  Dec-2011   8.72  real estate business  10+ years        1\n",
       "3      10000  Dec-2011  20.00              personel  10+ years        1\n",
       "4       3000  Dec-2011  17.94              Personal     1 year        1"
      ]
     },
     "execution_count": 253,
     "metadata": {},
     "output_type": "execute_result"
    }
   ],
   "source": [
    "loans_filtered.head()"
   ]
  },
  {
   "cell_type": "code",
   "execution_count": 254,
   "metadata": {},
   "outputs": [],
   "source": [
    "rejections_filtered.columns = [\"loan_amnt\", \"issue_d\", \"dti\", \"title\", \"emp_length\", \"outcome\"]"
   ]
  },
  {
   "cell_type": "code",
   "execution_count": 255,
   "metadata": {},
   "outputs": [
    {
     "name": "stdout",
     "output_type": "stream",
     "text": [
      "<class 'pandas.core.frame.DataFrame'>\n",
      "RangeIndex: 755491 entries, 0 to 755490\n",
      "Data columns (total 6 columns):\n",
      "loan_amnt     755491 non-null float64\n",
      "issue_d       755491 non-null object\n",
      "dti           755491 non-null object\n",
      "title         755477 non-null object\n",
      "emp_length    747361 non-null object\n",
      "outcome       755491 non-null int64\n",
      "dtypes: float64(1), int64(1), object(4)\n",
      "memory usage: 34.6+ MB\n"
     ]
    }
   ],
   "source": [
    "rejections_filtered.info()"
   ]
  },
  {
   "cell_type": "code",
   "execution_count": 256,
   "metadata": {},
   "outputs": [
    {
     "name": "stdout",
     "output_type": "stream",
     "text": [
      "<class 'pandas.core.frame.DataFrame'>\n",
      "RangeIndex: 39785 entries, 0 to 39784\n",
      "Data columns (total 6 columns):\n",
      "loan_amnt     39785 non-null int64\n",
      "issue_d       39785 non-null object\n",
      "dti           39785 non-null float64\n",
      "title         39774 non-null object\n",
      "emp_length    38707 non-null object\n",
      "outcome       39785 non-null int64\n",
      "dtypes: float64(1), int64(2), object(3)\n",
      "memory usage: 1.8+ MB\n"
     ]
    }
   ],
   "source": [
    "loans_filtered.info()"
   ]
  },
  {
   "cell_type": "code",
   "execution_count": 257,
   "metadata": {},
   "outputs": [
    {
     "name": "stderr",
     "output_type": "stream",
     "text": [
      "/Users/lowthe01/anaconda/lib/python3.6/site-packages/ipykernel_launcher.py:1: SettingWithCopyWarning: \n",
      "A value is trying to be set on a copy of a slice from a DataFrame.\n",
      "Try using .loc[row_indexer,col_indexer] = value instead\n",
      "\n",
      "See the caveats in the documentation: http://pandas.pydata.org/pandas-docs/stable/indexing.html#indexing-view-versus-copy\n",
      "  \"\"\"Entry point for launching an IPython kernel.\n",
      "/Users/lowthe01/anaconda/lib/python3.6/site-packages/ipykernel_launcher.py:2: SettingWithCopyWarning: \n",
      "A value is trying to be set on a copy of a slice from a DataFrame.\n",
      "Try using .loc[row_indexer,col_indexer] = value instead\n",
      "\n",
      "See the caveats in the documentation: http://pandas.pydata.org/pandas-docs/stable/indexing.html#indexing-view-versus-copy\n",
      "  \n"
     ]
    }
   ],
   "source": [
    "loans_filtered['issue_d'] = pd.to_datetime(loans_filtered['issue_d'])\n",
    "rejections_filtered['issue_d'] = pd.to_datetime(rejections_filtered['issue_d'])"
   ]
  },
  {
   "cell_type": "code",
   "execution_count": 258,
   "metadata": {},
   "outputs": [
    {
     "data": {
      "text/html": [
       "<div>\n",
       "<style scoped>\n",
       "    .dataframe tbody tr th:only-of-type {\n",
       "        vertical-align: middle;\n",
       "    }\n",
       "\n",
       "    .dataframe tbody tr th {\n",
       "        vertical-align: top;\n",
       "    }\n",
       "\n",
       "    .dataframe thead th {\n",
       "        text-align: right;\n",
       "    }\n",
       "</style>\n",
       "<table border=\"1\" class=\"dataframe\">\n",
       "  <thead>\n",
       "    <tr style=\"text-align: right;\">\n",
       "      <th></th>\n",
       "      <th>loan_amnt</th>\n",
       "      <th>issue_d</th>\n",
       "      <th>dti</th>\n",
       "      <th>title</th>\n",
       "      <th>emp_length</th>\n",
       "      <th>outcome</th>\n",
       "    </tr>\n",
       "  </thead>\n",
       "  <tbody>\n",
       "    <tr>\n",
       "      <th>0</th>\n",
       "      <td>1000.0</td>\n",
       "      <td>2007-05-26</td>\n",
       "      <td>10%</td>\n",
       "      <td>Wedding Covered but No Honeymoon</td>\n",
       "      <td>4 years</td>\n",
       "      <td>0</td>\n",
       "    </tr>\n",
       "    <tr>\n",
       "      <th>1</th>\n",
       "      <td>1000.0</td>\n",
       "      <td>2007-05-26</td>\n",
       "      <td>10%</td>\n",
       "      <td>Consolidating Debt</td>\n",
       "      <td>&lt; 1 year</td>\n",
       "      <td>0</td>\n",
       "    </tr>\n",
       "    <tr>\n",
       "      <th>2</th>\n",
       "      <td>11000.0</td>\n",
       "      <td>2007-05-27</td>\n",
       "      <td>10%</td>\n",
       "      <td>Want to consolidate my debt</td>\n",
       "      <td>1 year</td>\n",
       "      <td>0</td>\n",
       "    </tr>\n",
       "    <tr>\n",
       "      <th>3</th>\n",
       "      <td>6000.0</td>\n",
       "      <td>2007-05-27</td>\n",
       "      <td>38.64%</td>\n",
       "      <td>waksman</td>\n",
       "      <td>&lt; 1 year</td>\n",
       "      <td>0</td>\n",
       "    </tr>\n",
       "    <tr>\n",
       "      <th>4</th>\n",
       "      <td>1500.0</td>\n",
       "      <td>2007-05-27</td>\n",
       "      <td>9.43%</td>\n",
       "      <td>mdrigo</td>\n",
       "      <td>&lt; 1 year</td>\n",
       "      <td>0</td>\n",
       "    </tr>\n",
       "  </tbody>\n",
       "</table>\n",
       "</div>"
      ],
      "text/plain": [
       "   loan_amnt    issue_d     dti                             title emp_length  \\\n",
       "0     1000.0 2007-05-26     10%  Wedding Covered but No Honeymoon    4 years   \n",
       "1     1000.0 2007-05-26     10%                Consolidating Debt   < 1 year   \n",
       "2    11000.0 2007-05-27     10%       Want to consolidate my debt     1 year   \n",
       "3     6000.0 2007-05-27  38.64%                           waksman   < 1 year   \n",
       "4     1500.0 2007-05-27   9.43%                            mdrigo   < 1 year   \n",
       "\n",
       "   outcome  \n",
       "0        0  \n",
       "1        0  \n",
       "2        0  \n",
       "3        0  \n",
       "4        0  "
      ]
     },
     "execution_count": 258,
     "metadata": {},
     "output_type": "execute_result"
    }
   ],
   "source": [
    "rejections_filtered.head()"
   ]
  },
  {
   "cell_type": "code",
   "execution_count": 259,
   "metadata": {},
   "outputs": [
    {
     "name": "stderr",
     "output_type": "stream",
     "text": [
      "/Users/lowthe01/anaconda/lib/python3.6/site-packages/ipykernel_launcher.py:7: SettingWithCopyWarning: \n",
      "A value is trying to be set on a copy of a slice from a DataFrame.\n",
      "Try using .loc[row_indexer,col_indexer] = value instead\n",
      "\n",
      "See the caveats in the documentation: http://pandas.pydata.org/pandas-docs/stable/indexing.html#indexing-view-versus-copy\n",
      "  import sys\n"
     ]
    }
   ],
   "source": [
    "def tidy_dti(dti): \n",
    "    if pd.isnull(dti): \n",
    "        return np.nan\n",
    "    else: \n",
    "        return float(dti.replace(\"%\", \"\").strip())\n",
    "    \n",
    "rejections_filtered['dti'] = rejections_filtered['dti'].apply(tidy_dti)"
   ]
  },
  {
   "cell_type": "code",
   "execution_count": 260,
   "metadata": {},
   "outputs": [
    {
     "name": "stderr",
     "output_type": "stream",
     "text": [
      "/Users/lowthe01/anaconda/lib/python3.6/site-packages/ipykernel_launcher.py:12: SettingWithCopyWarning: \n",
      "A value is trying to be set on a copy of a slice from a DataFrame.\n",
      "Try using .loc[row_indexer,col_indexer] = value instead\n",
      "\n",
      "See the caveats in the documentation: http://pandas.pydata.org/pandas-docs/stable/indexing.html#indexing-view-versus-copy\n",
      "  if sys.path[0] == '':\n"
     ]
    }
   ],
   "source": [
    "def tidy_emp_length(emp_length): \n",
    "    if pd.isnull(emp_length): \n",
    "        return np.nan\n",
    "    else: \n",
    "        emp_length = emp_length.lower()\n",
    "        emp_length = re.sub(\"years?\", \"\", emp_length)\n",
    "        if emp_length.strip() == \"< 1\" or emp_length.strip() == \"<1\": \n",
    "            emp_length = \"0\"\n",
    "        emp_length = re.sub(\">|\\+\", \"\", emp_length).strip()\n",
    "        return int(emp_length)\n",
    "    \n",
    "rejections_filtered['emp_length'] = rejections_filtered['emp_length'].apply(tidy_emp_length)"
   ]
  },
  {
   "cell_type": "code",
   "execution_count": 261,
   "metadata": {},
   "outputs": [
    {
     "name": "stderr",
     "output_type": "stream",
     "text": [
      "/Users/lowthe01/anaconda/lib/python3.6/site-packages/ipykernel_launcher.py:1: SettingWithCopyWarning: \n",
      "A value is trying to be set on a copy of a slice from a DataFrame.\n",
      "Try using .loc[row_indexer,col_indexer] = value instead\n",
      "\n",
      "See the caveats in the documentation: http://pandas.pydata.org/pandas-docs/stable/indexing.html#indexing-view-versus-copy\n",
      "  \"\"\"Entry point for launching an IPython kernel.\n"
     ]
    }
   ],
   "source": [
    "loans_filtered['emp_length'] = loans_filtered['emp_length'].apply(tidy_emp_length)"
   ]
  },
  {
   "cell_type": "code",
   "execution_count": 262,
   "metadata": {},
   "outputs": [
    {
     "data": {
      "text/plain": [
       "loan_amnt        0\n",
       "issue_d          0\n",
       "dti              0\n",
       "title           14\n",
       "emp_length    8130\n",
       "outcome          0\n",
       "dtype: int64"
      ]
     },
     "execution_count": 262,
     "metadata": {},
     "output_type": "execute_result"
    }
   ],
   "source": [
    "rejections_filtered.isnull().sum()"
   ]
  },
  {
   "cell_type": "code",
   "execution_count": 263,
   "metadata": {},
   "outputs": [
    {
     "name": "stdout",
     "output_type": "stream",
     "text": [
      "<class 'pandas.core.frame.DataFrame'>\n",
      "RangeIndex: 755491 entries, 0 to 755490\n",
      "Data columns (total 6 columns):\n",
      "loan_amnt     755491 non-null float64\n",
      "issue_d       755491 non-null datetime64[ns]\n",
      "dti           755491 non-null float64\n",
      "title         755477 non-null object\n",
      "emp_length    747361 non-null float64\n",
      "outcome       755491 non-null int64\n",
      "dtypes: datetime64[ns](1), float64(3), int64(1), object(1)\n",
      "memory usage: 34.6+ MB\n"
     ]
    }
   ],
   "source": [
    "rejections_filtered.info()"
   ]
  },
  {
   "cell_type": "code",
   "execution_count": 264,
   "metadata": {},
   "outputs": [
    {
     "data": {
      "text/plain": [
       "loan_amnt        0\n",
       "issue_d          0\n",
       "dti              0\n",
       "title           11\n",
       "emp_length    1078\n",
       "outcome          0\n",
       "dtype: int64"
      ]
     },
     "execution_count": 264,
     "metadata": {},
     "output_type": "execute_result"
    }
   ],
   "source": [
    "loans_filtered.isnull().sum()"
   ]
  },
  {
   "cell_type": "code",
   "execution_count": 265,
   "metadata": {},
   "outputs": [],
   "source": [
    "df = pd.concat([loans_filtered, rejections_filtered])"
   ]
  },
  {
   "cell_type": "code",
   "execution_count": 266,
   "metadata": {},
   "outputs": [
    {
     "data": {
      "text/html": [
       "<div>\n",
       "<style scoped>\n",
       "    .dataframe tbody tr th:only-of-type {\n",
       "        vertical-align: middle;\n",
       "    }\n",
       "\n",
       "    .dataframe tbody tr th {\n",
       "        vertical-align: top;\n",
       "    }\n",
       "\n",
       "    .dataframe thead th {\n",
       "        text-align: right;\n",
       "    }\n",
       "</style>\n",
       "<table border=\"1\" class=\"dataframe\">\n",
       "  <thead>\n",
       "    <tr style=\"text-align: right;\">\n",
       "      <th></th>\n",
       "      <th>loan_amnt</th>\n",
       "      <th>issue_d</th>\n",
       "      <th>dti</th>\n",
       "      <th>title</th>\n",
       "      <th>emp_length</th>\n",
       "      <th>outcome</th>\n",
       "    </tr>\n",
       "  </thead>\n",
       "  <tbody>\n",
       "    <tr>\n",
       "      <th>755486</th>\n",
       "      <td>35000.0</td>\n",
       "      <td>2012-12-31</td>\n",
       "      <td>20.29</td>\n",
       "      <td>other</td>\n",
       "      <td>0.0</td>\n",
       "      <td>0</td>\n",
       "    </tr>\n",
       "    <tr>\n",
       "      <th>755487</th>\n",
       "      <td>3000.0</td>\n",
       "      <td>2012-12-31</td>\n",
       "      <td>6.75</td>\n",
       "      <td>other</td>\n",
       "      <td>0.0</td>\n",
       "      <td>0</td>\n",
       "    </tr>\n",
       "    <tr>\n",
       "      <th>755488</th>\n",
       "      <td>10000.0</td>\n",
       "      <td>2012-12-31</td>\n",
       "      <td>20.03</td>\n",
       "      <td>debt_consolidation</td>\n",
       "      <td>0.0</td>\n",
       "      <td>0</td>\n",
       "    </tr>\n",
       "    <tr>\n",
       "      <th>755489</th>\n",
       "      <td>25000.0</td>\n",
       "      <td>2012-12-31</td>\n",
       "      <td>44.59</td>\n",
       "      <td>debt_consolidation</td>\n",
       "      <td>0.0</td>\n",
       "      <td>0</td>\n",
       "    </tr>\n",
       "    <tr>\n",
       "      <th>755490</th>\n",
       "      <td>35000.0</td>\n",
       "      <td>2012-12-31</td>\n",
       "      <td>4.13</td>\n",
       "      <td>other</td>\n",
       "      <td>0.0</td>\n",
       "      <td>0</td>\n",
       "    </tr>\n",
       "  </tbody>\n",
       "</table>\n",
       "</div>"
      ],
      "text/plain": [
       "        loan_amnt    issue_d    dti               title  emp_length  outcome\n",
       "755486    35000.0 2012-12-31  20.29               other         0.0        0\n",
       "755487     3000.0 2012-12-31   6.75               other         0.0        0\n",
       "755488    10000.0 2012-12-31  20.03  debt_consolidation         0.0        0\n",
       "755489    25000.0 2012-12-31  44.59  debt_consolidation         0.0        0\n",
       "755490    35000.0 2012-12-31   4.13               other         0.0        0"
      ]
     },
     "execution_count": 266,
     "metadata": {},
     "output_type": "execute_result"
    }
   ],
   "source": [
    "df.tail()"
   ]
  },
  {
   "cell_type": "code",
   "execution_count": 267,
   "metadata": {},
   "outputs": [],
   "source": [
    "# df = pd.get_dummies(df, columns=[\"addr_state\"], drop_first=True)"
   ]
  },
  {
   "cell_type": "code",
   "execution_count": 268,
   "metadata": {},
   "outputs": [],
   "source": [
    "df = df.dropna()"
   ]
  },
  {
   "cell_type": "code",
   "execution_count": 269,
   "metadata": {},
   "outputs": [
    {
     "data": {
      "text/html": [
       "<div>\n",
       "<style scoped>\n",
       "    .dataframe tbody tr th:only-of-type {\n",
       "        vertical-align: middle;\n",
       "    }\n",
       "\n",
       "    .dataframe tbody tr th {\n",
       "        vertical-align: top;\n",
       "    }\n",
       "\n",
       "    .dataframe thead th {\n",
       "        text-align: right;\n",
       "    }\n",
       "</style>\n",
       "<table border=\"1\" class=\"dataframe\">\n",
       "  <thead>\n",
       "    <tr style=\"text-align: right;\">\n",
       "      <th></th>\n",
       "      <th>loan_amnt</th>\n",
       "      <th>issue_d</th>\n",
       "      <th>dti</th>\n",
       "      <th>title</th>\n",
       "      <th>emp_length</th>\n",
       "      <th>outcome</th>\n",
       "    </tr>\n",
       "  </thead>\n",
       "  <tbody>\n",
       "    <tr>\n",
       "      <th>0</th>\n",
       "      <td>5000.0</td>\n",
       "      <td>2011-12-01</td>\n",
       "      <td>27.65</td>\n",
       "      <td>Computer</td>\n",
       "      <td>10.0</td>\n",
       "      <td>1</td>\n",
       "    </tr>\n",
       "    <tr>\n",
       "      <th>1</th>\n",
       "      <td>2500.0</td>\n",
       "      <td>2011-12-01</td>\n",
       "      <td>1.00</td>\n",
       "      <td>bike</td>\n",
       "      <td>0.0</td>\n",
       "      <td>1</td>\n",
       "    </tr>\n",
       "    <tr>\n",
       "      <th>2</th>\n",
       "      <td>2400.0</td>\n",
       "      <td>2011-12-01</td>\n",
       "      <td>8.72</td>\n",
       "      <td>real estate business</td>\n",
       "      <td>10.0</td>\n",
       "      <td>1</td>\n",
       "    </tr>\n",
       "    <tr>\n",
       "      <th>3</th>\n",
       "      <td>10000.0</td>\n",
       "      <td>2011-12-01</td>\n",
       "      <td>20.00</td>\n",
       "      <td>personel</td>\n",
       "      <td>10.0</td>\n",
       "      <td>1</td>\n",
       "    </tr>\n",
       "    <tr>\n",
       "      <th>4</th>\n",
       "      <td>3000.0</td>\n",
       "      <td>2011-12-01</td>\n",
       "      <td>17.94</td>\n",
       "      <td>Personal</td>\n",
       "      <td>1.0</td>\n",
       "      <td>1</td>\n",
       "    </tr>\n",
       "  </tbody>\n",
       "</table>\n",
       "</div>"
      ],
      "text/plain": [
       "   loan_amnt    issue_d    dti                 title  emp_length  outcome\n",
       "0     5000.0 2011-12-01  27.65              Computer        10.0        1\n",
       "1     2500.0 2011-12-01   1.00                  bike         0.0        1\n",
       "2     2400.0 2011-12-01   8.72  real estate business        10.0        1\n",
       "3    10000.0 2011-12-01  20.00              personel        10.0        1\n",
       "4     3000.0 2011-12-01  17.94              Personal         1.0        1"
      ]
     },
     "execution_count": 269,
     "metadata": {},
     "output_type": "execute_result"
    }
   ],
   "source": [
    "df.head()"
   ]
  },
  {
   "cell_type": "code",
   "execution_count": 270,
   "metadata": {},
   "outputs": [],
   "source": [
    "sc = StandardScaler()"
   ]
  },
  {
   "cell_type": "code",
   "execution_count": 271,
   "metadata": {},
   "outputs": [
    {
     "data": {
      "text/plain": [
       "array([[-0.74189456, -0.01466403,  3.00800041,  4.39463185],\n",
       "       [-0.97865034, -0.01511646, -0.48225787,  4.39463185],\n",
       "       [-0.98812057, -0.0149854 ,  3.00800041,  4.39463185],\n",
       "       ...,\n",
       "       [-0.26838299, -0.01479339, -0.48225787, -0.22755035],\n",
       "       [ 1.1521517 , -0.01437645, -0.48225787, -0.22755035],\n",
       "       [ 2.09917484, -0.01506332, -0.48225787, -0.22755035]])"
      ]
     },
     "execution_count": 271,
     "metadata": {},
     "output_type": "execute_result"
    }
   ],
   "source": [
    "sc.fit_transform(df.drop([\"title\", \"issue_d\"], axis=1))"
   ]
  },
  {
   "cell_type": "code",
   "execution_count": null,
   "metadata": {},
   "outputs": [],
   "source": []
  },
  {
   "cell_type": "code",
   "execution_count": 272,
   "metadata": {},
   "outputs": [],
   "source": [
    "X = df.drop([\"title\", \"issue_d\", \"outcome\"], axis=1)\n",
    "y = df['outcome']"
   ]
  },
  {
   "cell_type": "code",
   "execution_count": 273,
   "metadata": {},
   "outputs": [],
   "source": [
    "X_train, X_test, y_train, y_test = train_test_split(X, y, test_size=0.3, random_state=42)"
   ]
  },
  {
   "cell_type": "code",
   "execution_count": 280,
   "metadata": {},
   "outputs": [],
   "source": [
    "success_mask = y_train == 1\n",
    "rejection_mask = y_train == 0\n",
    "\n",
    "X_train_successes = X_train.loc[success_mask]\n",
    "X_train_rejections = X_train.loc[rejection_mask]\n",
    "\n",
    "y_train_successes = y_train.loc[success_mask]\n",
    "y_train_rejections = y_train.loc[rejection_mask]"
   ]
  },
  {
   "cell_type": "code",
   "execution_count": 274,
   "metadata": {},
   "outputs": [
    {
     "data": {
      "text/plain": [
       "array([[-0.36216376, -0.01307232,  3.01362983],\n",
       "       [ 0.30057668, -0.01279527, -0.48135412],\n",
       "       [-0.88288839, -0.01326476,  3.01362983],\n",
       "       ...,\n",
       "       [-0.55151817, -0.01323584, -0.48135412],\n",
       "       [-1.02490419, -0.0132785 , -0.48135412],\n",
       "       [-0.59885677, -0.01294031, -0.48135412]])"
      ]
     },
     "execution_count": 274,
     "metadata": {},
     "output_type": "execute_result"
    }
   ],
   "source": [
    "std_scale = sc.fit(X_train)\n",
    "std_scale.transform(X_train)\n",
    "std_scale.transform(X_test)"
   ]
  },
  {
   "cell_type": "code",
   "execution_count": 275,
   "metadata": {},
   "outputs": [
    {
     "data": {
      "text/plain": [
       "0    523142\n",
       "1     27088\n",
       "Name: outcome, dtype: int64"
      ]
     },
     "execution_count": 275,
     "metadata": {},
     "output_type": "execute_result"
    }
   ],
   "source": [
    "y_train.value_counts()"
   ]
  },
  {
   "cell_type": "code",
   "execution_count": 279,
   "metadata": {},
   "outputs": [
    {
     "name": "stdout",
     "output_type": "stream",
     "text": [
      "0.9180723489395274 {'max_depth': 5, 'min_samples_leaf': 5, 'n_estimators': 50}\n",
      "accuracy_array [0.92311546 0.92099837 0.91731289 0.91683296 0.91765492 0.91576841\n",
      " 0.91109764 0.91940335 0.91450598 0.91758745]\n",
      "mean 0.917427743006171\n",
      "0.9507705225304689\n",
      "0.0\n",
      "0.0\n",
      "0.5\n",
      "[[224205      0]\n",
      " [ 11609      0]]\n",
      "('emp_length', 0.6086188391730828)\n",
      "('dti', 0.30222837282580706)\n",
      "('loan_amnt', 0.08915278800111025)\n"
     ]
    },
    {
     "name": "stderr",
     "output_type": "stream",
     "text": [
      "/Users/lowthe01/anaconda/lib/python3.6/site-packages/sklearn/metrics/classification.py:1135: UndefinedMetricWarning: Precision is ill-defined and being set to 0.0 due to no predicted samples.\n",
      "  'precision', 'predicted', average, warn_for)\n"
     ]
    }
   ],
   "source": [
    "grid_rf = GridSearchCV(estimator=RandomForestClassifier(),\n",
    "                param_grid={\n",
    "                    'n_estimators': [50], \n",
    "                    'min_samples_leaf': range(3, 6, 2), \n",
    "                    'max_depth': range(3, 6, 2)\n",
    "                },\n",
    "                scoring='roc_auc',\n",
    "                return_train_score=True,\n",
    "                cv=4)\n",
    "\n",
    "grid_rf.fit(X_train, y_train)\n",
    "best_model_rf = grid_rf.best_estimator_\n",
    "print(grid_rf.best_score_, grid_rf.best_params_)\n",
    "\n",
    "accuracy_array = cross_val_score(best_model_rf, X_train, y_train, cv=10, scoring=\"roc_auc\")\n",
    "print(\"accuracy_array\", accuracy_array)\n",
    "print(\"mean\", accuracy_array.mean())\n",
    "\n",
    "best_model_rf.fit(X_train, y_train)\n",
    "\n",
    "y_pred = best_model_rf.predict(X_test)\n",
    "y_pred_proba = best_model_rf.predict_proba(X_test)\n",
    "\n",
    "print(accuracy_score(y_test, y_pred))\n",
    "print(precision_score(y_test, y_pred))\n",
    "print(recall_score(y_test, y_pred))\n",
    "print(roc_auc_score(y_test, y_pred))\n",
    "print(confusion_matrix(y_test, y_pred))\n",
    "\n",
    "for z in sorted(zip(X.columns, best_model_rf.feature_importances_), key=lambda x: np.abs(x[1]), reverse=True):\n",
    "    print(z)"
   ]
  },
  {
   "cell_type": "code",
   "execution_count": 287,
   "metadata": {},
   "outputs": [
    {
     "name": "stderr",
     "output_type": "stream",
     "text": [
      "/Users/lowthe01/anaconda/lib/python3.6/site-packages/matplotlib/axes/_axes.py:6462: UserWarning: The 'normed' kwarg is deprecated, and has been replaced by the 'density' kwarg.\n",
      "  warnings.warn(\"The 'normed' kwarg is deprecated, and has been \"\n"
     ]
    },
    {
     "data": {
      "text/plain": [
       "<matplotlib.axes._subplots.AxesSubplot at 0x1a329a4320>"
      ]
     },
     "execution_count": 287,
     "metadata": {},
     "output_type": "execute_result"
    },
    {
     "data": {
      "image/png": "[encoded data removed]",
      "text/plain": [
       "<Figure size 432x288 with 1 Axes>"
      ]
     },
     "metadata": {},
     "output_type": "display_data"
    }
   ],
   "source": [
    "sns.distplot(y_pred_proba[:,1])"
   ]
  },
  {
   "cell_type": "code",
   "execution_count": 292,
   "metadata": {},
   "outputs": [
    {
     "data": {
      "text/plain": [
       "array([ True, False,  True, ..., False, False, False])"
      ]
     },
     "execution_count": 292,
     "metadata": {},
     "output_type": "execute_result"
    }
   ],
   "source": [
    "y_pred_proba[:,1] > 0.2"
   ]
  },
  {
   "cell_type": "code",
   "execution_count": 299,
   "metadata": {},
   "outputs": [],
   "source": [
    "y_pred_v2 = []\n",
    "for y_n in y_pred_proba[:,1]: \n",
    "    if y_n > 0.1: \n",
    "        y_pred_v2.append(1)\n",
    "    else: \n",
    "        y_pred_v2.append(0)"
   ]
  },
  {
   "cell_type": "code",
   "execution_count": 300,
   "metadata": {},
   "outputs": [
    {
     "name": "stdout",
     "output_type": "stream",
     "text": [
      "0.8530027903347553\n",
      "0.23226106143305075\n",
      "0.8614006374364717\n",
      "0.8569842998961757\n",
      "[[191150  33055]\n",
      " [  1609  10000]]\n"
     ]
    }
   ],
   "source": [
    "print(accuracy_score(y_test, y_pred_v2))\n",
    "print(precision_score(y_test, y_pred_v2))\n",
    "print(recall_score(y_test, y_pred_v2))\n",
    "print(roc_auc_score(y_test, y_pred_v2))\n",
    "print(confusion_matrix(y_test, y_pred_v2))"
   ]
  },
  {
   "cell_type": "code",
   "execution_count": 301,
   "metadata": {},
   "outputs": [
    {
     "name": "stdout",
     "output_type": "stream",
     "text": [
      "0.9103742780326868\n",
      "0.31458268452195576\n",
      "0.6960978551124127\n",
      "0.808783523127224\n",
      "[[206598  17607]\n",
      " [  3528   8081]]\n"
     ]
    }
   ],
   "source": [
    "y_pred_v2 = []\n",
    "for y_n in y_pred_proba[:,1]: \n",
    "    if y_n > 0.2: \n",
    "        y_pred_v2.append(1)\n",
    "    else: \n",
    "        y_pred_v2.append(0)\n",
    "        \n",
    "print(accuracy_score(y_test, y_pred_v2))\n",
    "print(precision_score(y_test, y_pred_v2))\n",
    "print(recall_score(y_test, y_pred_v2))\n",
    "print(roc_auc_score(y_test, y_pred_v2))\n",
    "print(confusion_matrix(y_test, y_pred_v2))"
   ]
  },
  {
   "cell_type": "code",
   "execution_count": 308,
   "metadata": {},
   "outputs": [
    {
     "name": "stdout",
     "output_type": "stream",
     "text": [
      "0.8790911481082548\n",
      "0.2651251980101715\n",
      "0.821776208114394\n",
      "0.8519175191014645\n",
      "[[197762  26443]\n",
      " [  2069   9540]]\n"
     ]
    }
   ],
   "source": [
    "y_pred_v2 = []\n",
    "for y_n in y_pred_proba[:,1]: \n",
    "    if y_n > 0.14: \n",
    "        y_pred_v2.append(1)\n",
    "    else: \n",
    "        y_pred_v2.append(0)\n",
    "        \n",
    "print(accuracy_score(y_test, y_pred_v2))\n",
    "print(precision_score(y_test, y_pred_v2))\n",
    "print(recall_score(y_test, y_pred_v2))\n",
    "print(roc_auc_score(y_test, y_pred_v2))\n",
    "print(confusion_matrix(y_test, y_pred_v2))"
   ]
  },
  {
   "cell_type": "code",
   "execution_count": 303,
   "metadata": {},
   "outputs": [],
   "source": [
    "df_2 = pd.DataFrame({\n",
    "    \"y_test\": y_test, \n",
    "    \"y_proba\": y_pred_proba[:,1]\n",
    "})"
   ]
  },
  {
   "cell_type": "code",
   "execution_count": 307,
   "metadata": {},
   "outputs": [
    {
     "name": "stderr",
     "output_type": "stream",
     "text": [
      "/Users/lowthe01/anaconda/lib/python3.6/site-packages/matplotlib/axes/_axes.py:6462: UserWarning: The 'normed' kwarg is deprecated, and has been replaced by the 'density' kwarg.\n",
      "  warnings.warn(\"The 'normed' kwarg is deprecated, and has been \"\n",
      "/Users/lowthe01/anaconda/lib/python3.6/site-packages/matplotlib/axes/_axes.py:6462: UserWarning: The 'normed' kwarg is deprecated, and has been replaced by the 'density' kwarg.\n",
      "  warnings.warn(\"The 'normed' kwarg is deprecated, and has been \"\n"
     ]
    },
    {
     "data": {
      "text/plain": [
       "<matplotlib.axes._subplots.AxesSubplot at 0x1a3f4c7198>"
      ]
     },
     "execution_count": 307,
     "metadata": {},
     "output_type": "execute_result"
    },
    {
     "data": {
      "image/png": "[encoded data removed]",
      "text/plain": [
       "<Figure size 432x288 with 1 Axes>"
      ]
     },
     "metadata": {},
     "output_type": "display_data"
    }
   ],
   "source": [
    "sns.distplot(df_2.loc[df_2['y_test'] == 1, \"y_proba\"])\n",
    "sns.distplot(df_2.loc[df_2['y_test'] == 0, \"y_proba\"])"
   ]
  }
 ],
 "metadata": {
  "kernelspec": {
   "display_name": "Python 3",
   "language": "python",
   "name": "python3"
  },
  "language_info": {
   "codemirror_mode": {
    "name": "ipython",
    "version": 3
   },
   "file_extension": ".py",
   "mimetype": "text/x-python",
   "name": "python",
   "nbconvert_exporter": "python",
   "pygments_lexer": "ipython3",
   "version": "3.6.5"
  }
 },
 "nbformat": 4,
 "nbformat_minor": 2
}
