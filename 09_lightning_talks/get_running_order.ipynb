{
 "cells": [
  {
   "cell_type": "code",
   "execution_count": null,
   "metadata": {},
   "outputs": [],
   "source": [
    "import numpy as np\n",
    "\n",
    "# all names\n",
    "names = [\"AC\", \"Adam\", \"Andy\", \"Chantale\", \"Cyril\", \"Daniel\", \"Ed\", \"Elisabeth\", \"Gui\", \"Matt\",\n",
    "         \"Prash\", \"Rajiv\", \"Ricardo\", \"Sabine\", \"Sean\", \"Serdar\", \"Tyrone\"]\n",
    "\n",
    "# deal gracefully with absences\n",
    "absent = [\"Chantale\", \"AC\", \"Cyril\"]\n",
    "\n",
    "print(\"{} names in total\\n\".format(len(names) - len(absent)))\n",
    "\n",
    "np.random.seed(43) # for reproducibility\n",
    "\n",
    "# remove absent names from list to randomise\n",
    "name_order = [n for n in names if n not in absent]\n",
    "\n",
    "np.random.shuffle(name_order)\n",
    "\n",
    "cutoff = int(len(name_order) / 2)\n",
    "print(\"{0} before the break, {1} after\\n\".format(cutoff, len(name_order) - cutoff))\n",
    "\n",
    "print(\"Running order:\")\n",
    "\n",
    "for i in range(0, cutoff):\n",
    "    print(f\"{i+1}: {name_order[i]}\")\n",
    "\n",
    "print(\"=========== BREAK ============\")\n",
    "    \n",
    "for i in range(cutoff, len(name_order)):\n",
    "    print(f\"{i+1}: {name_order[i]}\")"
   ]
  }
 ],
 "metadata": {
  "kernelspec": {
   "display_name": "Python 3",
   "language": "python",
   "name": "python3"
  },
  "language_info": {
   "codemirror_mode": {
    "name": "ipython",
    "version": 3
   },
   "file_extension": ".py",
   "mimetype": "text/x-python",
   "name": "python",
   "nbconvert_exporter": "python",
   "pygments_lexer": "ipython3",
   "version": "3.6.5"
  }
 },
 "nbformat": 4,
 "nbformat_minor": 2
}
