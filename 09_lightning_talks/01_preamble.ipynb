{
 "cells": [
  {
   "cell_type": "markdown",
   "metadata": {
    "slideshow": {
     "slide_type": "slide"
    }
   },
   "source": [
    "<img src=\"http://imgur.com/1ZcRyrc.png\" style=\"float: left; margin: 20px; height: 55px\">\n",
    "\n",
    "# Lightning Talks"
   ]
  },
  {
   "cell_type": "markdown",
   "metadata": {
    "slideshow": {
     "slide_type": "subslide"
    }
   },
   "source": [
    "## Before we start"
   ]
  },
  {
   "cell_type": "markdown",
   "metadata": {
    "slideshow": {
     "slide_type": "fragment"
    }
   },
   "source": [
    "**Feedback survey**"
   ]
  },
  {
   "cell_type": "markdown",
   "metadata": {
    "slideshow": {
     "slide_type": "subslide"
    }
   },
   "source": [
    "## Schedule (to come)\n",
    "\n",
    "Session Number  | Session | Unit Number\n",
    "--- | ---  | ---\n",
    "10 | Introduction to Regression | Unit 3\n",
    "11 | Evaluating Machine Learning Models | Unit 3\n",
    "12 | Introduction to Classification | Unit 3\n",
    "13 | Logistic Regression | Unit 3\n",
    "14 | Decision Trees & Random Forests | Unit 3\n",
    "--- | ---  | ---\n",
    "15 | Intro to Natural Language Processing | Unit 4\n",
    "16 | Intro to Time Series | Unit 4\n",
    "17 | Clustering | Unit 4\n",
    "18 | Group Activity #2 | Unit 4\n",
    "19 | Wrap up & Final Project Presentations (Part 1) | Unit 4\n",
    "20 | Final Project Presentations (Part 2) | Unit 4"
   ]
  },
  {
   "cell_type": "markdown",
   "metadata": {
    "slideshow": {
     "slide_type": "subslide"
    }
   },
   "source": [
    "## Deliverables\n",
    "\n",
    "End of Unit  | Exercise | Final Project | Due Date\n",
    "--- | ---  | --- | ---\n",
    "Unit 3 | Machine learning exercise | Exploratory data analysis | approx. June 21\n",
    "Unit 4 | N/A | Technical report & presentation | approx. July 5-6"
   ]
  },
  {
   "cell_type": "markdown",
   "metadata": {
    "slideshow": {
     "slide_type": "subslide"
    }
   },
   "source": [
    "# Today - Lightning Talks!\n",
    "\n",
    "## Schedule\n",
    "\n",
    "- lightning talks (half the class)\n",
    "- BREAK\n",
    "- lightning talks (rest of class)\n",
    "- time left over for 1-to-1 discussions and working on projects"
   ]
  },
  {
   "cell_type": "markdown",
   "metadata": {
    "slideshow": {
     "slide_type": "subslide"
    }
   },
   "source": [
    "Order of talks..."
   ]
  }
 ],
 "metadata": {
  "celltoolbar": "Slideshow",
  "kernelspec": {
   "display_name": "Python 3",
   "language": "python",
   "name": "python3"
  },
  "language_info": {
   "codemirror_mode": {
    "name": "ipython",
    "version": 3
   },
   "file_extension": ".py",
   "mimetype": "text/x-python",
   "name": "python",
   "nbconvert_exporter": "python",
   "pygments_lexer": "ipython3",
   "version": "3.6.4"
  }
 },
 "nbformat": 4,
 "nbformat_minor": 2
}
