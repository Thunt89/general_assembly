{
 "cells": [
  {
   "cell_type": "markdown",
   "metadata": {},
   "source": [
    "<img src=\"http://imgur.com/1ZcRyrc.png\" style=\"float: left; margin: 20px; height: 55px\">\n",
    "\n",
    "# Unit Project 1: Python Coding Exercises\n",
    "\n",
    "---"
   ]
  },
  {
   "cell_type": "markdown",
   "metadata": {},
   "source": [
    "The following code challenges are drawn from common exercises used in technical interviews.\n",
    "\n",
    "Please note that there may be several ways to approach each challenge.\n",
    "\n",
    "If you get stuck, try mapping out your approach in pseudocode first.\n",
    "\n",
    "Finally, while solutions to problems like these may be found online, remember that if you copy/paste code that you can't explain, you'll be missing out on the point of the project. The only way to truly learn a new skill is through practice, trial, and error - we can only help you improve by understanding where you are having trouble."
   ]
  },
  {
   "cell_type": "markdown",
   "metadata": {},
   "source": [
    "### Challenge 1: Largest Palindrome\n",
    "A palindromic number reads the same both ways. For example, 1234321 is a palindrome. The largest palindrome made from the product of two two-digit numbers is 9009 = 91 × 99. Find the largest palindrome made from the product of two three-digit numbers. Afterward, write a brief explanation walking through your code's logic in markdown.\n",
    "\n",
    "It might help to break it into smaller tasks, like:\n",
    "- a separate function to detect a palindrome\n",
    "- pseudo code for how to iterate through combinations of three-digit numbers\n",
    "- keeping track of the largest palindrome you've seen"
   ]
  },
  {
   "cell_type": "code",
   "execution_count": 1,
   "metadata": {},
   "outputs": [],
   "source": [
    "# Define a function that checks if a number is a pallindrome\n",
    "def pallindrome_check(number):\n",
    "    \n",
    "    # Convert number to string, to allow iteration over characters\n",
    "    number = str(number)\n",
    "    \n",
    "    # Initiate count variable for use in for loop\n",
    "    count_true = 0\n",
    "    count_all = 0\n",
    "    \n",
    "    # ODD numbers - Create a for loop to check start = end of number, and increments count variable if so\n",
    "    if int(len(number)) % 2 != 0:\n",
    "        for i in range(0, int((len(number)-1)/2)):\n",
    "            count_all += 1\n",
    "            if number[i] == number[len(number)-i-1]:\n",
    "                count_true += 1\n",
    "                \n",
    "    # EVEN numbers - Create a for loop to check start = end of number, and increments count variable if so\n",
    "    else:\n",
    "        for i in range(0, int((len(number))/2)):\n",
    "            count_all += 1\n",
    "            if number[i] == number[len(number)-i-1]:\n",
    "                count_true += 1\n",
    "\n",
    "    # To be a pallindrome, the count must have incremented for every check\n",
    "    if count_true == count_all:\n",
    "        return True\n",
    "    else:\n",
    "        return False\n",
    "        \n",
    "    \n",
    "# pallindrome_check(8911198)"
   ]
  },
  {
   "cell_type": "code",
   "execution_count": 2,
   "metadata": {},
   "outputs": [
    {
     "name": "stdout",
     "output_type": "stream",
     "text": [
      "Numbers are: 995 and 583 with pallindrome 580085\n",
      "Numbers are: 993 and 913 with pallindrome 906609\n"
     ]
    }
   ],
   "source": [
    "# Create two arrays of three digit numbers\n",
    "a = range(999,100,-1)\n",
    "b = range(999,100,-1)\n",
    "\n",
    "# Set a placeholder variable to store the largest pallindrome\n",
    "largest_pallindrome = 0\n",
    "\n",
    "# Use nested for loops to multiple every combination of numbers together\n",
    "for x in a:\n",
    "    for y in b:\n",
    "        product = x * y\n",
    "    \n",
    "        # Check if number is a pallindrome\n",
    "        t = pallindrome_check(product)\n",
    "    \n",
    "        # If number is a pallindrome, check if it's larger than the previous largest\n",
    "        if t == True and product > largest_pallindrome:\n",
    "            print (f\"Numbers are: {x} and {y} with pallindrome {product}\")\n",
    "            largest_pallindrome = product"
   ]
  },
  {
   "cell_type": "markdown",
   "metadata": {},
   "source": [
    "\n",
    "### Challenge 2: Summation of Primes\n",
    "The sum of the primes below 10 is 2 + 3 + 5 + 7 = 17. Find the sum of all the primes below 2,000. Afterward, write a brief explanation walking through your code's logic in markdown."
   ]
  },
  {
   "cell_type": "code",
   "execution_count": 3,
   "metadata": {},
   "outputs": [
    {
     "name": "stdout",
     "output_type": "stream",
     "text": [
      "Sum of primes below 2000 is: 277050\n"
     ]
    }
   ],
   "source": [
    "# Create an array of known prime numbers \n",
    "primes = [2,3,5,7]\n",
    "\n",
    "# Create an array of all numbers that might be primes less than 2000\n",
    "all_numbers = range(8,2001)\n",
    "\n",
    "# For each number in all_numbers, check whether it is a prime, if so, append it to primes\n",
    "for num in all_numbers:\n",
    "    count = 0\n",
    "    for prime in primes:\n",
    "        if num % prime == 0:\n",
    "            break\n",
    "        else:\n",
    "            count += 1\n",
    "    if count == len(primes):\n",
    "        primes.append(num)\n",
    "        \n",
    "# Now sum the list of primes\n",
    "print (f\"Sum of primes below {all_numbers[-1]} is: {sum(primes)}\")"
   ]
  },
  {
   "cell_type": "markdown",
   "metadata": {},
   "source": [
    "### Challenge 3: Multiples of 3 and 5\n",
    "If we list all of the natural numbers below 10 that are multiples of 3 or 5, we get 3, 5, 6, and 9. The sum of these multiples is 23. Find the sum of all the multiples of 3 and 5 below 1,000. Afterward, write a brief explanation walking through your code's logic in markdown."
   ]
  },
  {
   "cell_type": "code",
   "execution_count": 4,
   "metadata": {},
   "outputs": [
    {
     "name": "stdout",
     "output_type": "stream",
     "text": [
      "Sum of multiples of 3 or 5 below 1000 is: 234168\n"
     ]
    }
   ],
   "source": [
    "# Create an array of all numbers below 1000\n",
    "all_numbers = range(10,1001)\n",
    "\n",
    "# Create an array to store multiples of 3 or 5\n",
    "multiples_3_or_5 = [3, 5, 6, 9]\n",
    "\n",
    "# For each number in all_numbers, check whether it is a multiple of 3 or 5, if so, append it to multiples variable\n",
    "for num in all_numbers:\n",
    "    if num % 3 == 0 and num % 5 == 0:\n",
    "        multiples_3_or_5.append(num)\n",
    "        \n",
    "    elif num % 3 == 0:\n",
    "        multiples_3_or_5.append(num)\n",
    "        \n",
    "    elif num % 5 == 0:\n",
    "        multiples_3_or_5.append(num)\n",
    "    \n",
    "# Sum all multiples below 1000\n",
    "print (f\"Sum of multiples of 3 or 5 below {all_numbers[-1]} is: {sum(multiples_3_or_5)}\")"
   ]
  },
  {
   "cell_type": "markdown",
   "metadata": {},
   "source": [
    "### Challenge 4: String Compressor\n",
    "Implement a method to perform basic string compression using the counts of repeated characters. (This is called run-length encoding.) For example, the string \"aabcccccaaa\" would become a2b1c5a3. If the “compressed” string would not become smaller than the original string, your method should return the original string. You can assume the string has only uppercase and lowercase letters (a–z). Specify whether your solution is case sensitive or case insensitive and what you would need to change to make it the other. Afterward, write a brief explanation walking through your code's logic in markdown."
   ]
  },
  {
   "cell_type": "code",
   "execution_count": 17,
   "metadata": {},
   "outputs": [
    {
     "name": "stdout",
     "output_type": "stream",
     "text": [
      "mis3ip2i and swim2ing and!21234£\n"
     ]
    }
   ],
   "source": [
    "def string_compression(text_input):\n",
    "    text_input = text_input.lower()   \n",
    "    output_list = []\n",
    "    i = 1\n",
    "\n",
    "    for idx, letter in enumerate(text_input):\n",
    "        \n",
    "        if idx == 0:\n",
    "            output_list.append(letter)\n",
    "            continue\n",
    "        \n",
    "        if letter == output_list[-1]:\n",
    "            i += 1\n",
    "            continue\n",
    "            \n",
    "        if i > 1:\n",
    "            output_list.append(str(i))\n",
    "            output_list.append(letter)\n",
    "            i = 1\n",
    "            \n",
    "        else:\n",
    "            output_list.append(letter)\n",
    "            \n",
    "                \n",
    "    return ''.join(output_list)\n",
    "    \n",
    "print (string_compression('misssippi and swimming and!!1234£££')) \n"
   ]
  },
  {
   "cell_type": "code",
   "execution_count": null,
   "metadata": {},
   "outputs": [],
   "source": []
  }
 ],
 "metadata": {
  "anaconda-cloud": {},
  "kernelspec": {
   "display_name": "Python 3",
   "language": "python",
   "name": "python3"
  },
  "language_info": {
   "codemirror_mode": {
    "name": "ipython",
    "version": 3
   },
   "file_extension": ".py",
   "mimetype": "text/x-python",
   "name": "python",
   "nbconvert_exporter": "python",
   "pygments_lexer": "ipython3",
   "version": "3.6.4"
  }
 },
 "nbformat": 4,
 "nbformat_minor": 2
}
