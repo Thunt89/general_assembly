{
 "cells": [
  {
   "cell_type": "markdown",
   "metadata": {},
   "source": [
    "<img src=\"http://imgur.com/1ZcRyrc.png\" style=\"float: left; margin: 20px; height: 55px\">\n",
    "\n",
    "# Linear Regression: Further Practice"
   ]
  },
  {
   "cell_type": "markdown",
   "metadata": {},
   "source": [
    "For this example, we will build on the bikes dataset we used last time, this time with more \"best practice\".\n",
    "\n",
    "Read in the bikes dataset."
   ]
  },
  {
   "cell_type": "code",
   "execution_count": 8,
   "metadata": {},
   "outputs": [],
   "source": [
    "import pandas as pd"
   ]
  },
  {
   "cell_type": "code",
   "execution_count": 20,
   "metadata": {},
   "outputs": [],
   "source": [
    "df = pd.read_csv(\"/Users/tyrone/programming/ga/datascience/11_making_better_predictions/assets/data/bikeshare.csv\")\n",
    "df.rename(columns={'count':'total_rentals'},inplace=True)"
   ]
  },
  {
   "cell_type": "code",
   "execution_count": 21,
   "metadata": {},
   "outputs": [
    {
     "data": {
      "text/html": [
       "<div>\n",
       "<style scoped>\n",
       "    .dataframe tbody tr th:only-of-type {\n",
       "        vertical-align: middle;\n",
       "    }\n",
       "\n",
       "    .dataframe tbody tr th {\n",
       "        vertical-align: top;\n",
       "    }\n",
       "\n",
       "    .dataframe thead th {\n",
       "        text-align: right;\n",
       "    }\n",
       "</style>\n",
       "<table border=\"1\" class=\"dataframe\">\n",
       "  <thead>\n",
       "    <tr style=\"text-align: right;\">\n",
       "      <th></th>\n",
       "      <th>datetime</th>\n",
       "      <th>season</th>\n",
       "      <th>holiday</th>\n",
       "      <th>workingday</th>\n",
       "      <th>weather</th>\n",
       "      <th>temp</th>\n",
       "      <th>atemp</th>\n",
       "      <th>humidity</th>\n",
       "      <th>windspeed</th>\n",
       "      <th>total_rentals</th>\n",
       "    </tr>\n",
       "  </thead>\n",
       "  <tbody>\n",
       "    <tr>\n",
       "      <th>0</th>\n",
       "      <td>2011-01-01 00:00:00</td>\n",
       "      <td>1</td>\n",
       "      <td>0</td>\n",
       "      <td>0</td>\n",
       "      <td>1</td>\n",
       "      <td>9.84</td>\n",
       "      <td>14.395</td>\n",
       "      <td>81</td>\n",
       "      <td>0.0</td>\n",
       "      <td>16</td>\n",
       "    </tr>\n",
       "    <tr>\n",
       "      <th>1</th>\n",
       "      <td>2011-01-01 01:00:00</td>\n",
       "      <td>1</td>\n",
       "      <td>0</td>\n",
       "      <td>0</td>\n",
       "      <td>1</td>\n",
       "      <td>9.02</td>\n",
       "      <td>13.635</td>\n",
       "      <td>80</td>\n",
       "      <td>0.0</td>\n",
       "      <td>40</td>\n",
       "    </tr>\n",
       "    <tr>\n",
       "      <th>2</th>\n",
       "      <td>2011-01-01 02:00:00</td>\n",
       "      <td>1</td>\n",
       "      <td>0</td>\n",
       "      <td>0</td>\n",
       "      <td>1</td>\n",
       "      <td>9.02</td>\n",
       "      <td>13.635</td>\n",
       "      <td>80</td>\n",
       "      <td>0.0</td>\n",
       "      <td>32</td>\n",
       "    </tr>\n",
       "  </tbody>\n",
       "</table>\n",
       "</div>"
      ],
      "text/plain": [
       "              datetime  season  holiday  workingday  weather  temp   atemp  \\\n",
       "0  2011-01-01 00:00:00       1        0           0        1  9.84  14.395   \n",
       "1  2011-01-01 01:00:00       1        0           0        1  9.02  13.635   \n",
       "2  2011-01-01 02:00:00       1        0           0        1  9.02  13.635   \n",
       "\n",
       "   humidity  windspeed  total_rentals  \n",
       "0        81        0.0             16  \n",
       "1        80        0.0             40  \n",
       "2        80        0.0             32  "
      ]
     },
     "execution_count": 21,
     "metadata": {},
     "output_type": "execute_result"
    }
   ],
   "source": [
    "df.head(3)"
   ]
  },
  {
   "cell_type": "markdown",
   "metadata": {},
   "source": [
    "#### 1: Choose 3 features to predict `total_rentals` and put them in variables X and y"
   ]
  },
  {
   "cell_type": "code",
   "execution_count": 17,
   "metadata": {},
   "outputs": [
    {
     "data": {
      "image/png": "[encoded data removed]",
      "text/plain": [
       "<matplotlib.figure.Figure at 0x1a0e4a7b00>"
      ]
     },
     "metadata": {},
     "output_type": "display_data"
    }
   ],
   "source": [
    "import seaborn as sns\n",
    "\n",
    "sns.heatmap(df.corr(),\n",
    "           vmin=-1,\n",
    "           vmax=1,\n",
    "           center=0,\n",
    "            cmap=\"coolwarm\");"
   ]
  },
  {
   "cell_type": "code",
   "execution_count": 22,
   "metadata": {},
   "outputs": [],
   "source": [
    "X = df[[\"season\", \"temp\", \"humidity\"]]\n",
    "y = df[\"total_rentals\"]"
   ]
  },
  {
   "cell_type": "markdown",
   "metadata": {},
   "source": [
    "#### 2: Create a training and test set\n",
    "\n",
    "We'll be using the training set for cross-validation"
   ]
  },
  {
   "cell_type": "code",
   "execution_count": 25,
   "metadata": {},
   "outputs": [],
   "source": [
    "from sklearn.model_selection import KFold, train_test_split\n",
    "\n",
    "X_train, X_test, y_train, y_test = train_test_split(X, y, test_size=0.3, random_state=42)\n",
    "\n",
    "seven_fold_cv = KFold(n_splits=7, shuffle=True, random_state=42)"
   ]
  },
  {
   "cell_type": "markdown",
   "metadata": {},
   "source": [
    "#### 3: Measure the performance of your model across 7 folds\n",
    "\n",
    "Get a feel for your model's performance. Try both RMSE (using `'neg_mean_squared_error'`) and Mean Absolute Error (MAE) using `'neg_mean_absolute_error'` as scoring metrics and compare them."
   ]
  },
  {
   "cell_type": "code",
   "execution_count": 33,
   "metadata": {},
   "outputs": [
    {
     "name": "stdout",
     "output_type": "stream",
     "text": [
      "[155.04805375 152.50671366 158.44548146 158.4206036  161.77141179\n",
      " 153.15227598 156.57588155]\n",
      "Mean RMSE: 156.6\n"
     ]
    }
   ],
   "source": [
    "from sklearn.model_selection import train_test_split, cross_val_score\n",
    "import numpy as np\n",
    "from sklearn.linear_model import LinearRegression\n",
    "model = LinearRegression()\n",
    "\n",
    "cv_scores = cross_val_score(model, X_train, y_train, scoring=\"neg_mean_squared_error\", cv=7)\n",
    "\n",
    "rmse_scores = np.sqrt(-cv_scores)\n",
    "print(rmse_scores)\n",
    "print(\"Mean RMSE: {0:.1f}\".format(np.mean(rmse_scores)))"
   ]
  },
  {
   "cell_type": "code",
   "execution_count": 35,
   "metadata": {},
   "outputs": [
    {
     "name": "stdout",
     "output_type": "stream",
     "text": [
      "[-119.58216915 -114.55047028 -118.40816072 -117.88322953 -118.3682506\n",
      " -115.48530362 -119.83742521]\n",
      "Mean MAE: 117.7\n"
     ]
    }
   ],
   "source": [
    "# Now try MAE instead\n",
    "\n",
    "cv_scores_mae = cross_val_score(model, X_train, y_train, scoring=\"neg_mean_absolute_error\", cv=7)\n",
    "\n",
    "print(cv_scores_mae)\n",
    "print(\"Mean MAE: {0:.1f}\".format(np.mean(-cv_scores_mae)))"
   ]
  },
  {
   "cell_type": "markdown",
   "metadata": {},
   "source": [
    "#### 4: We'll try two more models\n",
    "\n",
    "First, do a new train-test split on the entire bikes data.\n",
    "\n",
    "Previously, we only used 3 features for our split, but we want access to all of them now, so we can train different models that use different combinations of features.\n",
    "\n",
    "We will do both our cross-validated training and model evaluation on our **training** set."
   ]
  },
  {
   "cell_type": "code",
   "execution_count": 41,
   "metadata": {},
   "outputs": [],
   "source": [
    "from sklearn.model_selection import KFold, train_test_split\n",
    "\n",
    "X = df[[\"season\",\"holiday\",\"workingday\",\"weather\",\"windspeed\", \"temp\", \"humidity\"]]\n",
    "y = df[\"total_rentals\"]\n",
    "\n",
    "X_train, X_test, y_train, y_test = train_test_split(X, y, test_size=0.3, random_state=41)"
   ]
  },
  {
   "cell_type": "markdown",
   "metadata": {},
   "source": [
    "Now try **two** more models with different combinations of features and compare their performance.\n",
    "\n",
    "*As bonus practice, you could put the code you've written so far into a function so you can easily try different combinations of features!*\n",
    "\n",
    "*For example, it could take as parameters a feature matrix X (your training set) and y (your training targets) and a list of columns to use for the model, and could print/return the cross-validated scores.*\n",
    "\n",
    "```python\n",
    "def evaluate_features(features, X, y):\n",
    "    ...```"
   ]
  },
  {
   "cell_type": "code",
   "execution_count": 42,
   "metadata": {},
   "outputs": [
    {
     "name": "stdout",
     "output_type": "stream",
     "text": [
      "[157.05844436 156.65774622 155.04165225 152.45109692 150.729215\n",
      " 156.46559846 158.18487235]\n",
      "Mean RMSE: 155.2\n"
     ]
    }
   ],
   "source": [
    "# Features - Variation 1 (everything)\n",
    "cv_scores = cross_val_score(model, X_train, y_train, scoring=\"neg_mean_squared_error\", cv=7)\n",
    "\n",
    "rmse_scores = np.sqrt(-cv_scores)\n",
    "print(rmse_scores)\n",
    "print(\"Mean RMSE: {0:.1f}\".format(np.mean(rmse_scores)))"
   ]
  },
  {
   "cell_type": "code",
   "execution_count": 43,
   "metadata": {},
   "outputs": [
    {
     "name": "stdout",
     "output_type": "stream",
     "text": [
      "[167.525619   165.1814032  165.31663673 168.36034205 158.81718075\n",
      " 166.35545666 170.17272389]\n",
      "Mean RMSE: 166.0\n"
     ]
    }
   ],
   "source": [
    "# Features - Variation 2 (simple)\n",
    "X = df[[\"holiday\",\"temp\"]]\n",
    "X_train, X_test, y_train, y_test = train_test_split(X, y, test_size=0.3, random_state=41)\n",
    "\n",
    "# This is the point where it is best to cut the global dataframe X to get the columns you require!!\n",
    "cv_scores = cross_val_score(model, X_train, y_train, scoring=\"neg_mean_squared_error\", cv=7)\n",
    "\n",
    "rmse_scores = np.sqrt(-cv_scores)\n",
    "print(rmse_scores)\n",
    "print(\"Mean RMSE: {0:.1f}\".format(np.mean(rmse_scores)))"
   ]
  },
  {
   "cell_type": "code",
   "execution_count": 44,
   "metadata": {},
   "outputs": [],
   "source": [
    "# Define a generic function to test different feature combinations with cross-validation folds\n",
    "def evaluate_features(features, X, y):\n",
    "    X = df[features]\n",
    "    X_train, X_test, y_train, y_test = train_test_split(X, y, test_size=0.3, random_state=41)\n",
    "    cv_scores = cross_val_score(model, X_train, y_train, scoring=\"neg_mean_squared_error\", cv=7)\n",
    "    rmse_scores = np.sqrt(-cv_scores)\n",
    "    print(rmse_scores)\n",
    "    print(\"Mean RMSE: {0:.1f}\".format(np.mean(rmse_scores)))"
   ]
  },
  {
   "cell_type": "code",
   "execution_count": 51,
   "metadata": {},
   "outputs": [
    {
     "name": "stdout",
     "output_type": "stream",
     "text": [
      "[175.27644063 175.57332034 176.25444145 176.70542424 171.27201924\n",
      " 180.01220801 179.10119249]\n",
      "Mean RMSE: 176.3\n",
      "[167.90124277 164.94949009 164.76217184 167.24860179 158.44102449\n",
      " 166.16880585 169.40989735]\n",
      "Mean RMSE: 165.6\n",
      "[157.54982796 158.20517752 156.89840525 155.80750507 152.43994709\n",
      " 157.87162448 160.50783779]\n",
      "Mean RMSE: 157.0\n"
     ]
    }
   ],
   "source": [
    "# Run different combinations through the function to evaluate model fit\n",
    "X = df[[\"season\",\"holiday\",\"workingday\",\"weather\",\"windspeed\", \"temp\", \"humidity\"]]\n",
    "y = df[\"total_rentals\"]\n",
    "evaluate_features([\"season\", \"windspeed\"], X, y)\n",
    "evaluate_features([\"season\", \"temp\"], X, y)\n",
    "evaluate_features([\"humidity\", \"temp\", \"windspeed\"], X, y)"
   ]
  },
  {
   "cell_type": "markdown",
   "metadata": {},
   "source": [
    "#### 5: Take the best of your three trained models and evaluate it on the *test* set.\n",
    "\n",
    "This is to get an estimate of how well your model performs in the real world. It would be your final reported accuracy score. After this step, you should **not** train-test on the same data anymore, because you will be prone to overfitting.\n",
    "\n",
    "For this question, first use your best model to predict values on the test inputs (X_test) and compare to the actual values (y_test).\n",
    "\n",
    "(*Note: if you have a model object from step 4, but used `cross_val_score` to evaluate performance, you will need to fit the model again because `cross_val_score` doesn't do this for you.*)"
   ]
  },
  {
   "cell_type": "code",
   "execution_count": 55,
   "metadata": {},
   "outputs": [
    {
     "name": "stdout",
     "output_type": "stream",
     "text": [
      "RMSE: 159.77361936689957\n"
     ]
    }
   ],
   "source": [
    "# Split (according to previous best outcome)\n",
    "X = df[[\"humidity\", \"temp\", \"windspeed\"]]\n",
    "X_train, X_test, y_train, y_test = train_test_split(X, y, test_size=0.3, random_state=41)\n",
    "\n",
    "# Train\n",
    "model.fit(X_train.values, y_train)\n",
    "\n",
    "# Predict \n",
    "y_pred = model.predict(X_test.values)\n",
    "y_pred\n",
    "\n",
    "# Check predicted metrics\n",
    "from sklearn import metrics\n",
    "print('RMSE:', np.sqrt(metrics.mean_squared_error(y_test, y_pred)))"
   ]
  },
  {
   "cell_type": "markdown",
   "metadata": {},
   "source": [
    "#### 6: How did your model do?\n",
    "\n",
    "If your test set error is similar to the training/cross-validated error, it means your training accuracy was representative of the model's real world performance.\n",
    "\n",
    "Overfitting happens when your test error is much higher than your training error - i.e. your model hasn't generalised.\n",
    "\n",
    "Look at the output from **5** - how well did your model do \"in the real world\"?"
   ]
  },
  {
   "cell_type": "code",
   "execution_count": null,
   "metadata": {},
   "outputs": [],
   "source": [
    "# It was really close 157, vs. 159"
   ]
  },
  {
   "cell_type": "code",
   "execution_count": 57,
   "metadata": {},
   "outputs": [
    {
     "name": "stdout",
     "output_type": "stream",
     "text": [
      "RMSE (model): 183.24962019993424\n"
     ]
    }
   ],
   "source": [
    "# Compare it to a dumb model\n",
    "y_pred_mean = [y_train.mean()] * len(y_test)\n",
    "\n",
    "print('RMSE (model):', np.sqrt(metrics.mean_squared_error(y_test, y_pred_mean)))"
   ]
  },
  {
   "cell_type": "code",
   "execution_count": null,
   "metadata": {},
   "outputs": [],
   "source": []
  }
 ],
 "metadata": {
  "kernelspec": {
   "display_name": "Python 3",
   "language": "python",
   "name": "python3"
  },
  "language_info": {
   "codemirror_mode": {
    "name": "ipython",
    "version": 3
   },
   "file_extension": ".py",
   "mimetype": "text/x-python",
   "name": "python",
   "nbconvert_exporter": "python",
   "pygments_lexer": "ipython3",
   "version": "3.6.4"
  }
 },
 "nbformat": 4,
 "nbformat_minor": 2
}
