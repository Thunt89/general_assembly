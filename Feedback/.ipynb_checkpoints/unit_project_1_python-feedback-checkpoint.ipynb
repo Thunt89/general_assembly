{
 "cells": [
  {
   "cell_type": "markdown",
   "metadata": {},
   "source": [
    "<img src=\"http://imgur.com/1ZcRyrc.png\" style=\"float: left; margin: 20px; height: 55px\">\n",
    "\n",
    "# Unit Project 1: Python Coding Exercises\n",
    "\n",
    "---"
   ]
  },
  {
   "cell_type": "markdown",
   "metadata": {},
   "source": [
    "The following code challenges are drawn from common exercises used in technical interviews.\n",
    "\n",
    "Please note that there may be several ways to approach each challenge.\n",
    "\n",
    "If you get stuck, try mapping out your approach in pseudocode first.\n",
    "\n",
    "Finally, while solutions to problems like these may be found online, remember that if you copy/paste code that you can't explain, you'll be missing out on the point of the project. The only way to truly learn a new skill is through practice, trial, and error - we can only help you improve by understanding where you are having trouble."
   ]
  },
  {
   "cell_type": "markdown",
   "metadata": {},
   "source": [
    "### Challenge 1: Largest Palindrome\n",
    "A palindromic number reads the same both ways. For example, 1234321 is a palindrome. The largest palindrome made from the product of two two-digit numbers is 9009 = 91 × 99. Find the largest palindrome made from the product of two three-digit numbers. Afterward, write a brief explanation walking through your code's logic in markdown.\n",
    "\n",
    "It might help to break it into smaller tasks, like:\n",
    "- a separate function to detect a palindrome\n",
    "- pseudo code for how to iterate through combinations of three-digit numbers\n",
    "- keeping track of the largest palindrome you've seen"
   ]
  },
  {
   "cell_type": "code",
   "execution_count": 1,
   "metadata": {
    "collapsed": true
   },
   "outputs": [],
   "source": [
    "# Define a function that checks if a number is a pallindrome\n",
    "def pallindrome_check(number):\n",
    "    \n",
    "    # Convert number to string, to allow iteration over characters\n",
    "    number = str(number)\n",
    "    \n",
    "    # Initiate count variable for use in for loop\n",
    "    count_true = 0\n",
    "    count_all = 0\n",
    "    \n",
    "    # ODD numbers - Create a for loop to check start = end of number, and increments count variable if so\n",
    "    if int(len(number)) % 2 != 0:\n",
    "        for i in range(0, int((len(number)-1)/2)):\n",
    "            count_all += 1\n",
    "            if number[i] == number[len(number)-i-1]:\n",
    "                count_true += 1\n",
    "                \n",
    "    # EVEN numbers - Create a for loop to check start = end of number, and increments count variable if so\n",
    "    else:\n",
    "        for i in range(0, int((len(number))/2)):\n",
    "            count_all += 1\n",
    "            if number[i] == number[len(number)-i-1]:\n",
    "                count_true += 1\n",
    "\n",
    "    # To be a pallindrome, the count must have incremented for every check\n",
    "    if count_true == count_all:\n",
    "        return True\n",
    "    else:\n",
    "        return False\n",
    "        \n",
    "    \n",
    "# pallindrome_check(8911198)"
   ]
  },
  {
   "cell_type": "code",
   "execution_count": 2,
   "metadata": {},
   "outputs": [
    {
     "name": "stdout",
     "output_type": "stream",
     "text": [
      "Numbers are: 995 and 583 with pallindrome 580085\n",
      "Numbers are: 993 and 913 with pallindrome 906609\n"
     ]
    }
   ],
   "source": [
    "# Create two arrays of three digit numbers\n",
    "a = range(999,100,-1)\n",
    "b = range(999,100,-1)\n",
    "\n",
    "# Set a placeholder variable to store the largest pallindrome\n",
    "largest_pallindrome = 0\n",
    "\n",
    "# Use nested for loops to multiple every combination of numbers together\n",
    "for x in a:\n",
    "    for y in b:\n",
    "        product = x * y\n",
    "    \n",
    "        # Check if number is a pallindrome\n",
    "        t = pallindrome_check(product)\n",
    "    \n",
    "        # If number is a pallindrome, check if it's larger than the previous largest\n",
    "        if t == True and product > largest_pallindrome:\n",
    "            print (f\"Numbers are: {x} and {y} with pallindrome {product}\")\n",
    "            largest_pallindrome = product"
   ]
  },
  {
   "cell_type": "markdown",
   "metadata": {},
   "source": [
    "<i> Nice use of inline comments and elegant solution! I didn't even think of testing for odd number Pallindromes! \n",
    "</i>"
   ]
  },
  {
   "cell_type": "code",
   "execution_count": 1,
   "metadata": {},
   "outputs": [
    {
     "name": "stdout",
     "output_type": "stream",
     "text": [
      "906609\n"
     ]
    }
   ],
   "source": [
    "result = 0\n",
    "\n",
    "# Iterate through first set of numbers\n",
    "for i in range(100, 1000):\n",
    "    \n",
    "    # Iterate through second set of numbers\n",
    "    for n in range(100, 1000):\n",
    "        \n",
    "        # Multiply\n",
    "        num = i * n\n",
    "        # Check forward string\n",
    "        str_num = str(num)\n",
    "        # Check backward string\n",
    "        rev_str = str_num[::-1]\n",
    "        # Store biggest\n",
    "        if str_num == rev_str:\n",
    "            if num > result:\n",
    "                result = num\n",
    "\n",
    "print(result)"
   ]
  },
  {
   "cell_type": "markdown",
   "metadata": {},
   "source": [
    "\n",
    "### Challenge 2: Summation of Primes\n",
    "The sum of the primes below 10 is 2 + 3 + 5 + 7 = 17. Find the sum of all the primes below 2,000. Afterward, write a brief explanation walking through your code's logic in markdown."
   ]
  },
  {
   "cell_type": "code",
   "execution_count": 3,
   "metadata": {},
   "outputs": [
    {
     "name": "stdout",
     "output_type": "stream",
     "text": [
      "Sum of primes below 2000 is: 277050\n"
     ]
    }
   ],
   "source": [
    "# Create an array of known prime numbers \n",
    "primes = [2,3,5,7]\n",
    "\n",
    "# Create an array of all numbers that might be primes less than 2000\n",
    "all_numbers = range(8,2001)\n",
    "\n",
    "# For each number in all_numbers, check whether it is a prime, if so, append it to primes\n",
    "for num in all_numbers:\n",
    "    count = 0\n",
    "    for prime in primes:\n",
    "        if num % prime == 0:\n",
    "            break\n",
    "        else:\n",
    "            count += 1\n",
    "    if count == len(primes):\n",
    "        primes.append(num)\n",
    "        \n",
    "# Now sum the list of primes\n",
    "print (f\"Sum of primes below {all_numbers[-1]} is: {sum(primes)}\")"
   ]
  },
  {
   "cell_type": "markdown",
   "metadata": {},
   "source": [
    "<i> Yup this works well! You can probably make the below into a one-liner which is cool but yours is much more readable!\n",
    "</i>"
   ]
  },
  {
   "cell_type": "code",
   "execution_count": 8,
   "metadata": {},
   "outputs": [
    {
     "name": "stdout",
     "output_type": "stream",
     "text": [
      "277050\n"
     ]
    }
   ],
   "source": [
    "primes = [] # Set a list to catch prime values\n",
    "\n",
    "for i in range(2, 2000): \n",
    "    # All statement evaluates to true if all of the iterables satisfy the criteria\n",
    "    # If i divided by the existing primes(x) never has a remainder of 0\n",
    "    if all(i % x != 0 for x in primes):\n",
    "        # Append this number to the primes list\n",
    "        primes.append(i)\n",
    "\n",
    "print(sum(primes))"
   ]
  },
  {
   "cell_type": "markdown",
   "metadata": {},
   "source": [
    "### Challenge 3: Multiples of 3 and 5\n",
    "If we list all of the natural numbers below 10 that are multiples of 3 or 5, we get 3, 5, 6, and 9. The sum of these multiples is 23. Find the sum of all the multiples of 3 and 5 below 1,000. Afterward, write a brief explanation walking through your code's logic in markdown."
   ]
  },
  {
   "cell_type": "code",
   "execution_count": 32,
   "metadata": {},
   "outputs": [
    {
     "name": "stdout",
     "output_type": "stream",
     "text": [
      "Sum of multiples of 3 or 5 below 999 is: 233168\n"
     ]
    }
   ],
   "source": [
    "# Create an array of all numbers below 1000\n",
    "all_numbers = range(3,1000)\n",
    "\n",
    "# Create an array to store multiples of 3 or 5\n",
    "multiples_3_or_5 = []\n",
    "\n",
    "# For each number in all_numbers, check whether it is a multiple of 3 or 5, if so, append it to multiples variable\n",
    "for num in all_numbers:\n",
    "\n",
    "        \n",
    "    if num % 3 == 0:\n",
    "        multiples_3_or_5.append(num)\n",
    "        \n",
    "    elif num % 5 == 0:\n",
    "        multiples_3_or_5.append(num)\n",
    "    \n",
    "# Sum all multiples below 1000\n",
    "print (f\"Sum of multiples of 3 or 5 below {all_numbers[-1]} is: {sum(multiples_3_or_5)}\")"
   ]
  },
  {
   "cell_type": "markdown",
   "metadata": {},
   "source": [
    "<i> You dont need to create the initial array as it will append 3/5/6/9 already and also 15 if a multipled of 3 OR 5 so you can actually catch them all (Pokemon) with just a 3 or 5 condition:\n",
    "</i>"
   ]
  },
  {
   "cell_type": "code",
   "execution_count": 9,
   "metadata": {},
   "outputs": [
    {
     "data": {
      "text/plain": [
       "233168"
      ]
     },
     "execution_count": 9,
     "metadata": {},
     "output_type": "execute_result"
    }
   ],
   "source": [
    "# Empty list initialized\n",
    "multiples = []\n",
    "\n",
    "# Iterate through desired range\n",
    "for i in range(3,1000):\n",
    "    \n",
    "    # check if divisible by 3 or 5\n",
    "    if i % 3 == 0 or i % 5 == 0:\n",
    "        # Add to list\n",
    "        multiples.append(i)\n",
    "        \n",
    "# Sum list\n",
    "sum(multiples)"
   ]
  },
  {
   "cell_type": "code",
   "execution_count": 10,
   "metadata": {},
   "outputs": [
    {
     "data": {
      "text/plain": [
       "233168"
      ]
     },
     "execution_count": 10,
     "metadata": {},
     "output_type": "execute_result"
    }
   ],
   "source": [
    "# Using the range function we can create ranges of allowed multples of 5 as well as 3.\n",
    "# The union of the ranges is every element in either range\n",
    "# Once they are concatenated together, we set them to remove all duplicates.\n",
    "# Sum the set range.\n",
    "\n",
    "all_multiples = set(range(0,1000,5)).union(set(range(0,1000,3)))\n",
    "\n",
    "sum(all_multiples)"
   ]
  },
  {
   "cell_type": "markdown",
   "metadata": {},
   "source": [
    "### Challenge 4: String Compressor\n",
    "Implement a method to perform basic string compression using the counts of repeated characters. (This is called run-length encoding.) For example, the string \"aabcccccaaa\" would become a2b1c5a3. If the “compressed” string would not become smaller than the original string, your method should return the original string. You can assume the string has only uppercase and lowercase letters (a–z). Specify whether your solution is case sensitive or case insensitive and what you would need to change to make it the other. Afterward, write a brief explanation walking through your code's logic in markdown."
   ]
  },
  {
   "cell_type": "code",
   "execution_count": 13,
   "metadata": {},
   "outputs": [
    {
     "name": "stdout",
     "output_type": "stream",
     "text": [
      "mis3ip2i and swim2ing and!21234£\n"
     ]
    }
   ],
   "source": [
    "def string_compression(text_input):\n",
    "    text_input = text_input.lower()   \n",
    "    output_list = \"\"\n",
    "    i = 1\n",
    "\n",
    "    for idx, letter in enumerate(text_input):\n",
    "        \n",
    "        if idx == 0:\n",
    "            output_list += letter\n",
    "            continue\n",
    "        \n",
    "        if letter == output_list[-1]:\n",
    "            i += 1\n",
    "            continue\n",
    "            \n",
    "        if i > 1:\n",
    "            output_list += str(i)\n",
    "            output_list += letter\n",
    "            i = 1\n",
    "            \n",
    "        else:\n",
    "            output_list += letter\n",
    "            \n",
    "                \n",
    "    return output_list\n",
    "    \n",
    "print (string_compression('misssippi and swimming and!!1234£££')) \n"
   ]
  },
  {
   "cell_type": "markdown",
   "metadata": {},
   "source": [
    "<i> It would be good if you could add some inline comments to your solution here.\n",
    "\n",
    "You could add the letter and str(i) directly to an empty string to return instead of joining each element in a list? But very clean code here, easy to read.\n",
    "</i>"
   ]
  },
  {
   "cell_type": "code",
   "execution_count": 14,
   "metadata": {},
   "outputs": [
    {
     "data": {
      "text/plain": [
       "'s1a2c2n1e2t1d1i1'"
      ]
     },
     "execution_count": 14,
     "metadata": {},
     "output_type": "execute_result"
    }
   ],
   "source": [
    "def compressed_string(string):\n",
    "    # Initialize empty string\n",
    "    compressed = ''\n",
    "    \n",
    "    # If string length is not all unique letters (the set of letters), otherwise return original string\n",
    "    if len(string) != len(set(string)):\n",
    "        \n",
    "        # Loop through each; first set count to zero\n",
    "        for i in set(string):\n",
    "            count = 0\n",
    "            # Look for if each letter matches another letter in the string; increment count by one\n",
    "            for j in list(string):\n",
    "                if i == j:\n",
    "                    count += 1\n",
    "            # Put together the letter and count for that letter's occurrences\n",
    "            compressed += i+str(count)\n",
    "        return compressed\n",
    "    else:\n",
    "        return string\n",
    "\n",
    "compressed_string('datascience')"
   ]
  },
  {
   "cell_type": "code",
   "execution_count": 27,
   "metadata": {},
   "outputs": [
    {
     "name": "stdout",
     "output_type": "stream",
     "text": [
      "a2b1c5a3\n"
     ]
    }
   ],
   "source": [
    "import itertools\n",
    "\n",
    "def compressor(string):\n",
    "    output = ''\n",
    "    for k, g in itertools.groupby(string):\n",
    "        output += k + str(len(list(g)))\n",
    "    if len(output) > len(string):\n",
    "        print(string)\n",
    "    else:\n",
    "        print(output)\n",
    "        \n",
    "compressor('aabcccccaaa')"
   ]
  },
  {
   "cell_type": "code",
   "execution_count": null,
   "metadata": {},
   "outputs": [],
   "source": []
  }
 ],
 "metadata": {
  "anaconda-cloud": {},
  "kernelspec": {
   "display_name": "Python 3",
   "language": "python",
   "name": "python3"
  },
  "language_info": {
   "codemirror_mode": {
    "name": "ipython",
    "version": 3
   },
   "file_extension": ".py",
   "mimetype": "text/x-python",
   "name": "python",
   "nbconvert_exporter": "python",
   "pygments_lexer": "ipython3",
   "version": "3.6.5"
  }
 },
 "nbformat": 4,
 "nbformat_minor": 2
}
