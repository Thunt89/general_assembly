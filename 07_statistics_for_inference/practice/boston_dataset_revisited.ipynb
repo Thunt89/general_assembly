{
 "cells": [
  {
   "cell_type": "markdown",
   "metadata": {},
   "source": [
    "<img src=\"http://imgur.com/1ZcRyrc.png\" style=\"float: left; margin: 20px; height: 55px\">\n",
    "\n",
    "## Further analysis of Boston housing data\n",
    "\n",
    "---"
   ]
  },
  {
   "cell_type": "markdown",
   "metadata": {},
   "source": [
    "In this lab you will practise further data analysis using Python.\n",
    "\n",
    "Reminder of the [source and data dictionary of the Boston housing data](https://www.cs.toronto.edu/~delve/data/boston/bostonDetail.html)"
   ]
  },
  {
   "cell_type": "code",
   "execution_count": 14,
   "metadata": {},
   "outputs": [
    {
     "data": {
      "text/html": [
       "<div>\n",
       "<style scoped>\n",
       "    .dataframe tbody tr th:only-of-type {\n",
       "        vertical-align: middle;\n",
       "    }\n",
       "\n",
       "    .dataframe tbody tr th {\n",
       "        vertical-align: top;\n",
       "    }\n",
       "\n",
       "    .dataframe thead th {\n",
       "        text-align: right;\n",
       "    }\n",
       "</style>\n",
       "<table border=\"1\" class=\"dataframe\">\n",
       "  <thead>\n",
       "    <tr style=\"text-align: right;\">\n",
       "      <th></th>\n",
       "      <th>crime_rate</th>\n",
       "      <th>lot_allocation</th>\n",
       "      <th>non_retail_business</th>\n",
       "      <th>bounds_river</th>\n",
       "      <th>nox_conc</th>\n",
       "      <th>rooms</th>\n",
       "      <th>pre_1940</th>\n",
       "      <th>emp_centre_dist</th>\n",
       "      <th>rad_highways</th>\n",
       "      <th>tax_rate</th>\n",
       "      <th>pupil_ratio</th>\n",
       "      <th>blacks</th>\n",
       "      <th>lower_status</th>\n",
       "      <th>home_value</th>\n",
       "    </tr>\n",
       "  </thead>\n",
       "  <tbody>\n",
       "    <tr>\n",
       "      <th>0</th>\n",
       "      <td>0.00632</td>\n",
       "      <td>18.0</td>\n",
       "      <td>2.31</td>\n",
       "      <td>0</td>\n",
       "      <td>0.538</td>\n",
       "      <td>6.575</td>\n",
       "      <td>65.2</td>\n",
       "      <td>4.0900</td>\n",
       "      <td>1</td>\n",
       "      <td>296.0</td>\n",
       "      <td>15.3</td>\n",
       "      <td>396.90</td>\n",
       "      <td>4.98</td>\n",
       "      <td>24.0</td>\n",
       "    </tr>\n",
       "    <tr>\n",
       "      <th>1</th>\n",
       "      <td>0.02731</td>\n",
       "      <td>0.0</td>\n",
       "      <td>7.07</td>\n",
       "      <td>0</td>\n",
       "      <td>0.469</td>\n",
       "      <td>6.421</td>\n",
       "      <td>78.9</td>\n",
       "      <td>4.9671</td>\n",
       "      <td>2</td>\n",
       "      <td>242.0</td>\n",
       "      <td>17.8</td>\n",
       "      <td>396.90</td>\n",
       "      <td>9.14</td>\n",
       "      <td>21.6</td>\n",
       "    </tr>\n",
       "    <tr>\n",
       "      <th>2</th>\n",
       "      <td>0.02729</td>\n",
       "      <td>0.0</td>\n",
       "      <td>7.07</td>\n",
       "      <td>0</td>\n",
       "      <td>0.469</td>\n",
       "      <td>7.185</td>\n",
       "      <td>61.1</td>\n",
       "      <td>4.9671</td>\n",
       "      <td>2</td>\n",
       "      <td>242.0</td>\n",
       "      <td>17.8</td>\n",
       "      <td>392.83</td>\n",
       "      <td>4.03</td>\n",
       "      <td>34.7</td>\n",
       "    </tr>\n",
       "    <tr>\n",
       "      <th>3</th>\n",
       "      <td>0.03237</td>\n",
       "      <td>0.0</td>\n",
       "      <td>2.18</td>\n",
       "      <td>0</td>\n",
       "      <td>0.458</td>\n",
       "      <td>6.998</td>\n",
       "      <td>45.8</td>\n",
       "      <td>6.0622</td>\n",
       "      <td>3</td>\n",
       "      <td>222.0</td>\n",
       "      <td>18.7</td>\n",
       "      <td>394.63</td>\n",
       "      <td>2.94</td>\n",
       "      <td>33.4</td>\n",
       "    </tr>\n",
       "    <tr>\n",
       "      <th>4</th>\n",
       "      <td>0.06905</td>\n",
       "      <td>0.0</td>\n",
       "      <td>2.18</td>\n",
       "      <td>0</td>\n",
       "      <td>0.458</td>\n",
       "      <td>7.147</td>\n",
       "      <td>54.2</td>\n",
       "      <td>6.0622</td>\n",
       "      <td>3</td>\n",
       "      <td>222.0</td>\n",
       "      <td>18.7</td>\n",
       "      <td>396.90</td>\n",
       "      <td>5.33</td>\n",
       "      <td>36.2</td>\n",
       "    </tr>\n",
       "  </tbody>\n",
       "</table>\n",
       "</div>"
      ],
      "text/plain": [
       "   crime_rate  lot_allocation  non_retail_business  bounds_river  nox_conc  \\\n",
       "0     0.00632            18.0                 2.31             0     0.538   \n",
       "1     0.02731             0.0                 7.07             0     0.469   \n",
       "2     0.02729             0.0                 7.07             0     0.469   \n",
       "3     0.03237             0.0                 2.18             0     0.458   \n",
       "4     0.06905             0.0                 2.18             0     0.458   \n",
       "\n",
       "   rooms  pre_1940  emp_centre_dist  rad_highways  tax_rate  pupil_ratio  \\\n",
       "0  6.575      65.2           4.0900             1     296.0         15.3   \n",
       "1  6.421      78.9           4.9671             2     242.0         17.8   \n",
       "2  7.185      61.1           4.9671             2     242.0         17.8   \n",
       "3  6.998      45.8           6.0622             3     222.0         18.7   \n",
       "4  7.147      54.2           6.0622             3     222.0         18.7   \n",
       "\n",
       "   blacks  lower_status  home_value  \n",
       "0  396.90          4.98        24.0  \n",
       "1  396.90          9.14        21.6  \n",
       "2  392.83          4.03        34.7  \n",
       "3  394.63          2.94        33.4  \n",
       "4  396.90          5.33        36.2  "
      ]
     },
     "execution_count": 14,
     "metadata": {},
     "output_type": "execute_result"
    }
   ],
   "source": [
    "import pandas as pd\n",
    "boston_cols = ['crime_rate','lot_allocation','non_retail_business','bounds_river','nox_conc','rooms','pre_1940','emp_centre_dist','rad_highways','tax_rate','pupil_ratio','blacks','lower_status','home_value'] \n",
    "df = pd.read_csv(\"../assets/datasets/boston_housing_data.csv\", header=0, names=boston_cols)\n",
    "df.head()"
   ]
  },
  {
   "cell_type": "markdown",
   "metadata": {},
   "source": [
    "2 - Is there a link between the amount of non-retail business and the amount of nitric oxide? How confident are you about your findings?"
   ]
  },
  {
   "cell_type": "code",
   "execution_count": 17,
   "metadata": {},
   "outputs": [
    {
     "name": "stdout",
     "output_type": "stream",
     "text": [
      "0.763651446920915\n"
     ]
    }
   ],
   "source": [
    "from scipy import stats\n",
    "correlation, p_value = stats.pearsonr(df[\"non_retail_business\"], df[\"nox_conc\"])\n",
    "print (correlation)"
   ]
  },
  {
   "cell_type": "markdown",
   "metadata": {},
   "source": [
    "3 - What about average number of rooms per dwelling and crime rate?"
   ]
  },
  {
   "cell_type": "code",
   "execution_count": 18,
   "metadata": {},
   "outputs": [
    {
     "name": "stdout",
     "output_type": "stream",
     "text": [
      "-0.19019730213043468\n"
     ]
    }
   ],
   "source": [
    "from scipy import stats\n",
    "correlation, p_value = stats.pearsonr(df[\"crime_rate\"], df[\"rooms\"])\n",
    "print (correlation)"
   ]
  },
  {
   "cell_type": "markdown",
   "metadata": {},
   "source": [
    "4 - What would you conclude based on these findings?"
   ]
  },
  {
   "cell_type": "code",
   "execution_count": 13,
   "metadata": {},
   "outputs": [],
   "source": [
    "# The extremelly small number means it is almost certain these two variables are related"
   ]
  },
  {
   "cell_type": "markdown",
   "metadata": {},
   "source": [
    "5 - Is there a significant difference between the crime rate near the river vs. away from it?"
   ]
  },
  {
   "cell_type": "code",
   "execution_count": 20,
   "metadata": {},
   "outputs": [
    {
     "data": {
      "text/plain": [
       "bounds_river\n",
       "0    1.70623\n",
       "1    1.85167\n",
       "Name: crime_rate, dtype: float64"
      ]
     },
     "execution_count": 20,
     "metadata": {},
     "output_type": "execute_result"
    }
   ],
   "source": [
    "from scipy import stats\n",
    "near_river = df[\"bounds_river\"][df[\"bounds_river\"] == 0]\n",
    "far_away_river = df[\"bounds_river\"][df[\"bounds_river\"] == 1]\n",
    "t_statistic, p_value = stats.ttest_ind(df[\"bounds_river\"] == 0,df[\"bounds_river\"])\n",
    "p_value"
   ]
  },
  {
   "cell_type": "code",
   "execution_count": 22,
   "metadata": {},
   "outputs": [
    {
     "data": {
      "text/plain": [
       "0      0\n",
       "1      0\n",
       "2      0\n",
       "3      0\n",
       "4      0\n",
       "5      0\n",
       "6      0\n",
       "7      0\n",
       "8      0\n",
       "9      0\n",
       "10     0\n",
       "11     0\n",
       "12     0\n",
       "13     0\n",
       "14     0\n",
       "15     0\n",
       "16     0\n",
       "17     0\n",
       "18     0\n",
       "19     0\n",
       "20     0\n",
       "21     0\n",
       "22     0\n",
       "23     0\n",
       "24     0\n",
       "25     0\n",
       "26     0\n",
       "27     0\n",
       "28     0\n",
       "29     0\n",
       "      ..\n",
       "476    0\n",
       "477    0\n",
       "478    0\n",
       "479    0\n",
       "480    0\n",
       "481    0\n",
       "482    0\n",
       "483    0\n",
       "484    0\n",
       "485    0\n",
       "486    0\n",
       "487    0\n",
       "488    0\n",
       "489    0\n",
       "490    0\n",
       "491    0\n",
       "492    0\n",
       "493    0\n",
       "494    0\n",
       "495    0\n",
       "496    0\n",
       "497    0\n",
       "498    0\n",
       "499    0\n",
       "500    0\n",
       "501    0\n",
       "502    0\n",
       "503    0\n",
       "504    0\n",
       "505    0\n",
       "Name: bounds_river, Length: 471, dtype: int64"
      ]
     },
     "execution_count": 22,
     "metadata": {},
     "output_type": "execute_result"
    }
   ],
   "source": [
    "df[\"bounds_river\"][df[\"bounds_river\"] == 0]"
   ]
  },
  {
   "cell_type": "code",
   "execution_count": null,
   "metadata": {},
   "outputs": [],
   "source": []
  }
 ],
 "metadata": {
  "kernelspec": {
   "display_name": "Python 3",
   "language": "python",
   "name": "python3"
  },
  "language_info": {
   "codemirror_mode": {
    "name": "ipython",
    "version": 3
   },
   "file_extension": ".py",
   "mimetype": "text/x-python",
   "name": "python",
   "nbconvert_exporter": "python",
   "pygments_lexer": "ipython3",
   "version": "3.6.4"
  }
 },
 "nbformat": 4,
 "nbformat_minor": 2
}
