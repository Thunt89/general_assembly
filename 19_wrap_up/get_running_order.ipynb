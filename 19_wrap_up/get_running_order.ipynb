{
 "cells": [
  {
   "cell_type": "code",
   "execution_count": 1,
   "metadata": {},
   "outputs": [
    {
     "name": "stdout",
     "output_type": "stream",
     "text": [
      "=========== TUESDAY ============\n",
      "1: Elisabeth & AC\n",
      "2: Matt\n",
      "3: Cyril\n",
      "4: Serdar\n",
      "5: Ed\n",
      "\n",
      "=========== THURSDAY ============\n",
      "1: Chantale\n",
      "2: Andy\n",
      "3: Rajiv\n",
      "4: Tyrone\n",
      "5: Adam\n",
      "6: Daniel\n",
      "7: Prash\n",
      "8: Sean\n"
     ]
    }
   ],
   "source": [
    "import numpy as np\n",
    "\n",
    "# all names\n",
    "names = [\"Adam\", \"Andy\", \"Chantale\", \"Cyril\", \"Daniel\", \"Ed\", \"Elisabeth & AC\", \"Gui\", \"Matt\",\n",
    "         \"Prash\", \"Rajiv\", \"Ricardo\", \"Sabine\", \"Sean\", \"Serdar\", \"Tyrone\"]\n",
    "\n",
    "# deal gracefully with absences\n",
    "absent = [\"Gui\", \"Ricardo\", \"Sabine\"]\n",
    "\n",
    "np.random.seed(42) # for reproducibility\n",
    "\n",
    "# remove absent names from list to randomise\n",
    "name_order = [n for n in names if n not in absent]\n",
    "\n",
    "# numbers in first vs. second session\n",
    "n_first = 5\n",
    "n_second = len(name_order) - n_first\n",
    "\n",
    "# allow for people asking for specific days\n",
    "tuesday_names = [\"Elisabeth & AC\"]\n",
    "thursday_names = [\"Rajiv\"]\n",
    "\n",
    "for n in tuesday_names:\n",
    "    name_order.remove(n)\n",
    "for n in thursday_names:\n",
    "    name_order.remove(n)\n",
    "\n",
    "# pick names on top of those who asked for Tuesday\n",
    "n_picks_tuesday = n_first - len(tuesday_names)\n",
    "\n",
    "for i in range(n_picks_tuesday):\n",
    "    choice = np.random.choice(name_order, 1)[0]\n",
    "    tuesday_names.append(choice)\n",
    "    name_order.remove(choice)\n",
    "\n",
    "# pick names on top of those who asked for Thursday\n",
    "n_picks_thursday = n_second - len(thursday_names)\n",
    "    \n",
    "for i in range(n_picks_thursday):\n",
    "    choice = np.random.choice(name_order, 1)[0]\n",
    "    thursday_names.append(choice)\n",
    "    name_order.remove(choice)\n",
    "    \n",
    "print(\"=========== TUESDAY ============\")\n",
    "\n",
    "np.random.shuffle(tuesday_names)\n",
    "\n",
    "for i, name in enumerate(tuesday_names):\n",
    "    print(f\"{i+1}: {name}\")\n",
    "\n",
    "print(\"\\n=========== THURSDAY ============\")\n",
    "\n",
    "np.random.shuffle(thursday_names)\n",
    "\n",
    "for i, name in enumerate(thursday_names):\n",
    "    print(f\"{i+1}: {name}\")"
   ]
  }
 ],
 "metadata": {
  "kernelspec": {
   "display_name": "Python 3",
   "language": "python",
   "name": "python3"
  },
  "language_info": {
   "codemirror_mode": {
    "name": "ipython",
    "version": 3
   },
   "file_extension": ".py",
   "mimetype": "text/x-python",
   "name": "python",
   "nbconvert_exporter": "python",
   "pygments_lexer": "ipython3",
   "version": "3.6.5"
  }
 },
 "nbformat": 4,
 "nbformat_minor": 2
}
