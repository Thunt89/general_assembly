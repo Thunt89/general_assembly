{
 "cells": [
  {
   "cell_type": "markdown",
   "metadata": {},
   "source": [
    "<img src=\"http://imgur.com/1ZcRyrc.png\" style=\"float: left; margin: 20px; height: 55px\">\n",
    "\n",
    "## Practise Python Functions\n",
    "\n",
    "---"
   ]
  },
  {
   "cell_type": "markdown",
   "metadata": {},
   "source": [
    "### Resources: potentially helpful functions\n",
    "\n",
    "* [Dictionaries](https://docs.python.org/3/tutorial/datastructures.html#dictionaries)\n",
    "* [`enumerate`](https://docs.python.org/3/library/functions.html#enumerate)\n",
    "* [`len`](https://docs.python.org/3/library/functions.html#len)\n",
    "* [`int`](https://docs.python.org/3/library/functions.html#int)\n",
    "* [`list`](https://docs.python.org/3/library/functions.html#func-list)\n",
    "* [`reversed`](https://docs.python.org/3/library/functions.html#reversed)"
   ]
  },
  {
   "cell_type": "markdown",
   "metadata": {},
   "source": [
    "---\n",
    "\n",
    "### 1) Write a function that takes the length of a side of a square as an argument and returns the area of the square."
   ]
  },
  {
   "cell_type": "code",
   "execution_count": 2,
   "metadata": {},
   "outputs": [
    {
     "data": {
      "text/plain": [
       "9"
      ]
     },
     "execution_count": 2,
     "metadata": {},
     "output_type": "execute_result"
    }
   ],
   "source": [
    "def area_square(side):\n",
    "    area = side**2\n",
    "    return area\n",
    "\n",
    "area_square(3)"
   ]
  },
  {
   "cell_type": "markdown",
   "metadata": {},
   "source": [
    "---\n",
    "\n",
    "### 2) Write a function that takes the height and width of a triangle and returns the area."
   ]
  },
  {
   "cell_type": "code",
   "execution_count": 5,
   "metadata": {},
   "outputs": [
    {
     "data": {
      "text/plain": [
       "4.0"
      ]
     },
     "execution_count": 5,
     "metadata": {},
     "output_type": "execute_result"
    }
   ],
   "source": [
    "def area_triangle(height, width):\n",
    "    area = 0.5 * height * width\n",
    "    return area\n",
    "\n",
    "area_triangle(4,2)"
   ]
  },
  {
   "cell_type": "markdown",
   "metadata": {},
   "source": [
    "---\n",
    "\n",
    "### 3) Write a function that takes a string as an argument and returns a tuple consisting of two elements:\n",
    "- **A list of all of the characters in the string.** \n",
    "- **A count of the number of characters in the string.**"
   ]
  },
  {
   "cell_type": "code",
   "execution_count": 7,
   "metadata": {},
   "outputs": [
    {
     "data": {
      "text/plain": [
       "(['b', 'e', 'g', 'i', 'n', 'n', 'i', 'n', 'g'], 9)"
      ]
     },
     "execution_count": 7,
     "metadata": {},
     "output_type": "execute_result"
    }
   ],
   "source": [
    "def str_to_tup(word):\n",
    "    word_list = []\n",
    "    for letter in word:\n",
    "        word_list.append(letter)\n",
    "    letter_count = len(word_list)\n",
    "    word_tuple = (word_list, letter_count)\n",
    "    return word_tuple\n",
    "\n",
    "str_to_tup('beginning')"
   ]
  },
  {
   "cell_type": "markdown",
   "metadata": {},
   "source": [
    "---\n",
    "\n",
    "### 4) Write a function that takes two integers, passed as strings, and returns the sum, difference, and product as a tuple (with all values as integers)."
   ]
  },
  {
   "cell_type": "code",
   "execution_count": 8,
   "metadata": {},
   "outputs": [
    {
     "data": {
      "text/plain": [
       "(9, -1, 20)"
      ]
     },
     "execution_count": 8,
     "metadata": {},
     "output_type": "execute_result"
    }
   ],
   "source": [
    "def str_to_maths(a, b):\n",
    "    a = int(a)\n",
    "    b = int(b)\n",
    "    ab_sum = a + b\n",
    "    ab_difference = a - b\n",
    "    ab_product = a * b\n",
    "    ab_tup = (ab_sum, ab_difference, ab_product)\n",
    "    return ab_tup\n",
    "\n",
    "str_to_maths('4','5')"
   ]
  },
  {
   "cell_type": "markdown",
   "metadata": {},
   "source": [
    "---\n",
    "\n",
    "### 5) Write a function that takes a list as the argument and returns a tuple consisting of two elements:\n",
    "- **A list with the items in reverse order.**  \n",
    "- **A list of the items in the original list that have an odd index.**"
   ]
  },
  {
   "cell_type": "code",
   "execution_count": 12,
   "metadata": {},
   "outputs": [
    {
     "data": {
      "text/plain": [
       "(['dog', 'why', 'sugar', 'cat', 'bear'], ['why', 'cat'])"
      ]
     },
     "execution_count": 12,
     "metadata": {},
     "output_type": "execute_result"
    }
   ],
   "source": [
    "def list_to_tup(list_name):\n",
    "    list_reversed = []\n",
    "    list_odd = []\n",
    "    for i in reversed(list_name):\n",
    "        list_reversed.append(i)\n",
    "        if list_name.index(i) % 2 != 0:\n",
    "            list_odd.append(i)\n",
    "    return list_reversed, list_odd\n",
    "\n",
    "list_to_tup(['bear', 'cat', 'sugar', 'why', 'dog'])"
   ]
  },
  {
   "cell_type": "markdown",
   "metadata": {},
   "source": [
    "---\n",
    "\n",
    "### Challenge: Write a function that returns the score for a word. A word's score is the sum of the scores of its letters. Each letter's score is equal to its position in the alphabet.\n",
    "\n",
    "So, for example:\n",
    "\n",
    "* A = 1, B = 2, C = 3, D = 4, E = 5\n",
    "* abe = 8 = (1 + 2 + 5)\n",
    "\n",
    "\n",
    "***Hint 1:*** *The string library has a property, `ascii_lowercase`, that can save some typing here.*\n",
    "\n",
    "Nowadays, most of the `string` module's components are already built into Python. However, it still has several [constant values](https://docs.python.org/3/library/string.html#string-constants) that can be useful, including:\n",
    "```python\n",
    "string.ascii_uppercase\n",
    "```\n",
    "\n",
    "***Hint 2:*** *you may want to use a `list`'s [`index` method](https://www.tutorialspoint.com/python3/list_index.htm)*"
   ]
  },
  {
   "cell_type": "code",
   "execution_count": 16,
   "metadata": {},
   "outputs": [
    {
     "data": {
      "text/plain": [
       "'ABCDEFGHIJKLMNOPQRSTUVWXYZ'"
      ]
     },
     "execution_count": 16,
     "metadata": {},
     "output_type": "execute_result"
    }
   ],
   "source": [
    "import string\n",
    "\n",
    "string.ascii_uppercase\n",
    "# string.ascii_lowercase"
   ]
  },
  {
   "cell_type": "code",
   "execution_count": 33,
   "metadata": {},
   "outputs": [
    {
     "name": "stdout",
     "output_type": "stream",
     "text": [
      "Scoring system is: {'A': 1, 'B': 2, 'C': 3, 'D': 4, 'E': 5, 'F': 6, 'G': 7, 'H': 8, 'I': 9, 'J': 10, 'K': 11, 'L': 12, 'M': 13, 'N': 14, 'O': 15, 'P': 16, 'Q': 17, 'R': 18, 'S': 19, 'T': 20, 'U': 21, 'V': 22, 'W': 23, 'X': 24, 'Y': 25, 'Z': 26}\n"
     ]
    },
    {
     "data": {
      "text/plain": [
       "100"
      ]
     },
     "execution_count": 33,
     "metadata": {},
     "output_type": "execute_result"
    }
   ],
   "source": [
    "score_dictionary = {}\n",
    "for char in string.ascii_uppercase:\n",
    "    score_dictionary[char] =  (string.ascii_uppercase.index(char)) + 1\n",
    "    \n",
    "print (f\"Scoring system is: {score_dictionary}\")\n",
    "\n",
    "def word_score(word_in):\n",
    "    score = 0\n",
    "    for char in word_in:\n",
    "        score = score + score_dictionary[char.upper()]\n",
    "    return score\n",
    "\n",
    "word_score('beginnings')\n",
    "        "
   ]
  },
  {
   "cell_type": "code",
   "execution_count": null,
   "metadata": {},
   "outputs": [],
   "source": []
  }
 ],
 "metadata": {
  "anaconda-cloud": {},
  "kernelspec": {
   "display_name": "Python 3",
   "language": "python",
   "name": "python3"
  },
  "language_info": {
   "codemirror_mode": {
    "name": "ipython",
    "version": 3
   },
   "file_extension": ".py",
   "mimetype": "text/x-python",
   "name": "python",
   "nbconvert_exporter": "python",
   "pygments_lexer": "ipython3",
   "version": "3.6.4"
  }
 },
 "nbformat": 4,
 "nbformat_minor": 1
}
