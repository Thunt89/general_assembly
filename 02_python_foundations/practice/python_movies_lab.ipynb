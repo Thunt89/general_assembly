{
 "cells": [
  {
   "cell_type": "markdown",
   "metadata": {},
   "source": [
    "<img src=\"http://imgur.com/1ZcRyrc.png\" style=\"float: left; margin: 20px; height: 55px\">\n",
    "\n",
    "## Python Review With Movie Data\n",
    "\n",
    "---\n",
    "\n",
    "In this lab, you'll be using the [IMDb](http://www.imdb.com/) `movies` list below as your data set. \n",
    "\n",
    "This lab is designed to help you practice iteration and functions in particular. The normal questions are more gentle, and the challenge questions are suitable for advanced/expert Python students or those with programming experience. \n",
    "\n",
    "All of the questions require writing functions and using iteration to solve. You should print out a test of each function you write.\n",
    "\n",
    "\n",
    "### 1) Load the provided list of `movies` dictionaries."
   ]
  },
  {
   "cell_type": "code",
   "execution_count": 2,
   "metadata": {},
   "outputs": [],
   "source": [
    "# List of movies dictionaries:\n",
    "\n",
    "movies = [\n",
    "{\n",
    "\"name\": \"Usual Suspects\", \n",
    "\"imdb\": 7.0,\n",
    "\"category\": \"Thriller\"\n",
    "},\n",
    "{\n",
    "\"name\": \"Hitman\",\n",
    "\"imdb\": 6.3,\n",
    "\"category\": \"Action\"\n",
    "},\n",
    "{\n",
    "\"name\": \"Dark Knight\",\n",
    "\"imdb\": 9.0,\n",
    "\"category\": \"Adventure\"\n",
    "},\n",
    "{\n",
    "\"name\": \"The Help\",\n",
    "\"imdb\": 8.0,\n",
    "\"category\": \"Drama\"\n",
    "},\n",
    "{\n",
    "\"name\": \"The Choice\",\n",
    "\"imdb\": 6.2,\n",
    "\"category\": \"Romance\"\n",
    "},\n",
    "{\n",
    "\"name\": \"Colonia\",\n",
    "\"imdb\": 7.4,\n",
    "\"category\": \"Romance\"\n",
    "},\n",
    "{\n",
    "\"name\": \"Love\",\n",
    "\"imdb\": 6.0,\n",
    "\"category\": \"Romance\"\n",
    "},\n",
    "{\n",
    "\"name\": \"Bride Wars\",\n",
    "\"imdb\": 5.4,\n",
    "\"category\": \"Romance\"\n",
    "},\n",
    "{\n",
    "\"name\": \"AlphaJet\",\n",
    "\"imdb\": 3.2,\n",
    "\"category\": \"War\"\n",
    "},\n",
    "{\n",
    "\"name\": \"Ringing Crime\",\n",
    "\"imdb\": 4.0,\n",
    "\"category\": \"Crime\"\n",
    "},\n",
    "{\n",
    "\"name\": \"Joking muck\",\n",
    "\"imdb\": 7.2,\n",
    "\"category\": \"Comedy\"\n",
    "},\n",
    "{\n",
    "\"name\": \"What is the name\",\n",
    "\"imdb\": 9.2,\n",
    "\"category\": \"Suspense\"\n",
    "},\n",
    "{\n",
    "\"name\": \"Detective\",\n",
    "\"imdb\": 7.0,\n",
    "\"category\": \"Suspense\"\n",
    "},\n",
    "{\n",
    "\"name\": \"Exam\",\n",
    "\"imdb\": 4.2,\n",
    "\"category\": \"Thriller\"\n",
    "},\n",
    "{\n",
    "\"name\": \"We Two\",\n",
    "\"imdb\": 7.2,\n",
    "\"category\": \"Romance\"\n",
    "}\n",
    "]"
   ]
  },
  {
   "cell_type": "markdown",
   "metadata": {},
   "source": [
    "---\n",
    "\n",
    "### 2) Filtering data by IMDb score.\n",
    "\n",
    "#### 2.1)\n",
    "\n",
    "Write a function that:\n",
    "\n",
    "1) Accepts a single movie dictionary from the `movies` list as an argument.\n",
    "<br>2) Returns `True` if the IMDb score is greater than 5.5."
   ]
  },
  {
   "cell_type": "code",
   "execution_count": 3,
   "metadata": {},
   "outputs": [
    {
     "data": {
      "text/plain": [
       "True"
      ]
     },
     "execution_count": 3,
     "metadata": {},
     "output_type": "execute_result"
    }
   ],
   "source": [
    "def movie_filter_by_rating(single_movie_dict):\n",
    "    if single_movie_dict['imdb'] > 5.5:\n",
    "        return True\n",
    "    else:\n",
    "        return False\n",
    "    \n",
    "movie_filter_by_rating(movies[0])"
   ]
  },
  {
   "cell_type": "markdown",
   "metadata": {},
   "source": [
    "#### 2.2 Challenge)\n",
    "\n",
    "Write a function that:\n",
    "\n",
    "1) Accepts the `movies` list and a specified category.\n",
    "<br>2) Returns `True` if the average score of the category is higher than the average score of all movies."
   ]
  },
  {
   "cell_type": "code",
   "execution_count": 4,
   "metadata": {},
   "outputs": [
    {
     "name": "stdout",
     "output_type": "stream",
     "text": [
      "(8.1, True)\n"
     ]
    }
   ],
   "source": [
    "def category_movies_average(movies_list, category):\n",
    "    movies_average_all = 0\n",
    "    movies_average_cat = 0\n",
    "    num_in_cat = 0\n",
    "    for movie in movies_list:\n",
    "        movies_average_all += movie[\"imdb\"]\n",
    "        if movie[\"category\"] == category:\n",
    "            movies_average_cat += movie[\"imdb\"]\n",
    "            num_in_cat += 1\n",
    "    movies_average_all = movies_average_all/ len(movies_list)\n",
    "    movies_average_cat = movies_average_cat/ num_in_cat\n",
    "\n",
    "    # print (f\"Category: {category} Average = {movies_average_cat}\")\n",
    "    # print (f\"All Movies Average = {movies_average_all}\")\n",
    "    \n",
    "    if movies_average_cat > movies_average_all:\n",
    "        return movies_average_cat, True\n",
    "    else:\n",
    "        return movies_average_cat, False\n",
    "    \n",
    "print (category_movies_average(movies, \"Suspense\"))\n",
    "        "
   ]
  },
  {
   "cell_type": "markdown",
   "metadata": {},
   "source": [
    "---\n",
    "\n",
    "### 3) Creating subsets by numeric condition.\n",
    "\n",
    "#### 3.1)\n",
    "\n",
    "Write a function that:\n",
    "\n",
    "1) Accepts the list of movies and a specified IMDb score.\n",
    "<br>2) Returns the sublist of movies that have scores greater than the one specified."
   ]
  },
  {
   "cell_type": "code",
   "execution_count": 5,
   "metadata": {},
   "outputs": [],
   "source": [
    "def return_better_categories(movie_list, IMDB_score):\n",
    "    list_of_better_films = []\n",
    "    for movie in movie_list:\n",
    "        if movie[\"imdb\"] > IMDB_score:\n",
    "            list_of_better_films.append(movie)\n",
    "            \n",
    "    return (list_of_better_films)\n",
    "            \n",
    "# return_better_categories(movies, 8)"
   ]
  },
  {
   "cell_type": "markdown",
   "metadata": {},
   "source": [
    "#### 3.2 Challenge)\n",
    "\n",
    "Write a function that:\n",
    "\n",
    "1) Accepts the `movies` list as an argument.\n",
    "<br>2) Returns the `movies` list sorted first by category and then by movie according to category average score and individual IMDb score, respectively."
   ]
  },
  {
   "cell_type": "code",
   "execution_count": 6,
   "metadata": {},
   "outputs": [
    {
     "name": "stdout",
     "output_type": "stream",
     "text": [
      "Movies sorted by category NAME: [{'name': 'Hitman', 'imdb': 6.3, 'category': 'Action'}, {'name': 'Dark Knight', 'imdb': 9.0, 'category': 'Adventure'}, {'name': 'Joking muck', 'imdb': 7.2, 'category': 'Comedy'}, {'name': 'Ringing Crime', 'imdb': 4.0, 'category': 'Crime'}, {'name': 'The Help', 'imdb': 8.0, 'category': 'Drama'}, {'name': 'The Choice', 'imdb': 6.2, 'category': 'Romance'}, {'name': 'Colonia', 'imdb': 7.4, 'category': 'Romance'}, {'name': 'Love', 'imdb': 6.0, 'category': 'Romance'}, {'name': 'Bride Wars', 'imdb': 5.4, 'category': 'Romance'}, {'name': 'We Two', 'imdb': 7.2, 'category': 'Romance'}, {'name': 'What is the name', 'imdb': 9.2, 'category': 'Suspense'}, {'name': 'Detective', 'imdb': 7.0, 'category': 'Suspense'}, {'name': 'Usual Suspects', 'imdb': 7.0, 'category': 'Thriller'}, {'name': 'Exam', 'imdb': 4.2, 'category': 'Thriller'}, {'name': 'AlphaJet', 'imdb': 3.2, 'category': 'War'}]\n",
      " \n",
      "\n",
      "Movies sorted by category SCORE: [{'name': 'Dark Knight', 'imdb': 9.0, 'category': 'Adventure', 'category_score': 9.0}, {'name': 'What is the name', 'imdb': 9.2, 'category': 'Suspense', 'category_score': 8.1}, {'name': 'Detective', 'imdb': 7.0, 'category': 'Suspense', 'category_score': 8.1}, {'name': 'The Help', 'imdb': 8.0, 'category': 'Drama', 'category_score': 8.0}, {'name': 'Joking muck', 'imdb': 7.2, 'category': 'Comedy', 'category_score': 7.2}, {'name': 'The Choice', 'imdb': 6.2, 'category': 'Romance', 'category_score': 6.44}, {'name': 'Colonia', 'imdb': 7.4, 'category': 'Romance', 'category_score': 6.44}, {'name': 'Love', 'imdb': 6.0, 'category': 'Romance', 'category_score': 6.44}, {'name': 'Bride Wars', 'imdb': 5.4, 'category': 'Romance', 'category_score': 6.44}, {'name': 'We Two', 'imdb': 7.2, 'category': 'Romance', 'category_score': 6.44}, {'name': 'Hitman', 'imdb': 6.3, 'category': 'Action', 'category_score': 6.3}, {'name': 'Usual Suspects', 'imdb': 7.0, 'category': 'Thriller', 'category_score': 5.6}, {'name': 'Exam', 'imdb': 4.2, 'category': 'Thriller', 'category_score': 5.6}, {'name': 'Ringing Crime', 'imdb': 4.0, 'category': 'Crime', 'category_score': 4.0}, {'name': 'AlphaJet', 'imdb': 3.2, 'category': 'War', 'category_score': 3.2}]\n",
      " \n",
      "\n",
      "Movies sorted by category SCORE AND individual SCORE: [{'name': 'Dark Knight', 'imdb': 9.0, 'category': 'Adventure', 'category_score': 9.0}, {'name': 'What is the name', 'imdb': 9.2, 'category': 'Suspense', 'category_score': 8.1}, {'name': 'Detective', 'imdb': 7.0, 'category': 'Suspense', 'category_score': 8.1}, {'name': 'The Help', 'imdb': 8.0, 'category': 'Drama', 'category_score': 8.0}, {'name': 'Joking muck', 'imdb': 7.2, 'category': 'Comedy', 'category_score': 7.2}, {'name': 'Colonia', 'imdb': 7.4, 'category': 'Romance', 'category_score': 6.44}, {'name': 'We Two', 'imdb': 7.2, 'category': 'Romance', 'category_score': 6.44}, {'name': 'The Choice', 'imdb': 6.2, 'category': 'Romance', 'category_score': 6.44}, {'name': 'Love', 'imdb': 6.0, 'category': 'Romance', 'category_score': 6.44}, {'name': 'Bride Wars', 'imdb': 5.4, 'category': 'Romance', 'category_score': 6.44}, {'name': 'Hitman', 'imdb': 6.3, 'category': 'Action', 'category_score': 6.3}, {'name': 'Usual Suspects', 'imdb': 7.0, 'category': 'Thriller', 'category_score': 5.6}, {'name': 'Exam', 'imdb': 4.2, 'category': 'Thriller', 'category_score': 5.6}, {'name': 'Ringing Crime', 'imdb': 4.0, 'category': 'Crime', 'category_score': 4.0}, {'name': 'AlphaJet', 'imdb': 3.2, 'category': 'War', 'category_score': 3.2}]\n"
     ]
    }
   ],
   "source": [
    "# def sort_movies(movies_list):\n",
    "movies_sorted_by_cat_name = sorted(movies, key=lambda k: k['category'])\n",
    "\n",
    "print (f\"Movies sorted by category NAME: {movies_sorted_by_cat_name}\")\n",
    "\n",
    "for movie in movies:\n",
    "    cat_score = category_movies_average(movies, movie['category'])[0]\n",
    "    movie['category_score'] = cat_score\n",
    "\n",
    "movies_sorted_by_cat_score = sorted(movies, key=lambda k: k['category_score'], reverse = True)\n",
    "\n",
    "print (f\" \\n\\nMovies sorted by category SCORE: {movies_sorted_by_cat_score}\")\n",
    "\n",
    "movies_sorted_by_cat_score_and_imdb_score = sorted(movies, key=lambda k: (-k['category_score'], -k['imdb']))\n",
    "\n",
    "print (f\" \\n\\nMovies sorted by category SCORE AND individual SCORE: {movies_sorted_by_cat_score_and_imdb_score}\")"
   ]
  },
  {
   "cell_type": "markdown",
   "metadata": {},
   "source": [
    "---\n",
    "\n",
    "### 4) Creating subsets by string condition.\n",
    "\n",
    "#### 4.1)\n",
    "\n",
    "Write a function that:\n",
    "\n",
    "1) Accepts the `movies` list and a category name.\n",
    "<br>2) Returns the movie names within that category (case-insensitive!).\n",
    "<br>3) If the category is not in the data, prints a message that says it does not exist and returns `None`.\n",
    "\n",
    "Recall that, to convert a string to lowercase, you can use:\n",
    "\n",
    "```python\n",
    "mystring = 'Dumb and Dumber'\n",
    "lowercase_mystring = mystring.lower()\n",
    "print lowercase_mystring\n",
    "'dumb and dumber'\n",
    "```"
   ]
  },
  {
   "cell_type": "code",
   "execution_count": 7,
   "metadata": {},
   "outputs": [
    {
     "name": "stdout",
     "output_type": "stream",
     "text": [
      "[{'name': 'The Choice', 'imdb': 6.2, 'category': 'Romance', 'category_score': 6.44}, {'name': 'Colonia', 'imdb': 7.4, 'category': 'Romance', 'category_score': 6.44}, {'name': 'Love', 'imdb': 6.0, 'category': 'Romance', 'category_score': 6.44}, {'name': 'Bride Wars', 'imdb': 5.4, 'category': 'Romance', 'category_score': 6.44}, {'name': 'What is the name', 'imdb': 9.2, 'category': 'Suspense', 'category_score': 8.1}, {'name': 'Detective', 'imdb': 7.0, 'category': 'Suspense', 'category_score': 8.1}, {'name': 'We Two', 'imdb': 7.2, 'category': 'Romance', 'category_score': 6.44}]\n"
     ]
    }
   ],
   "source": [
    "def movie_subsets(movies, category_name):\n",
    "    \n",
    "    filtered_movies = 0\n",
    "    \n",
    "    keyValList = [i.lower() for i in category_name]\n",
    "    \n",
    "    filtered_movies = [d for d in movies if d['category'].lower() in keyValList]\n",
    "        \n",
    "    if filtered_movies != []:\n",
    "        print (filtered_movies)\n",
    "    else:\n",
    "        print(\"Category is not in the movies library\")\n",
    "        return None\n",
    "\n",
    "movies_filtered_by_category = movie_subsets(movies, [\"Romance\",\"Suspense\"])\n"
   ]
  },
  {
   "cell_type": "markdown",
   "metadata": {},
   "source": [
    "#### 4.2 Challenge)\n",
    "\n",
    "Write a function that:\n",
    "\n",
    "1) Accepts the `movies` list and a \"search string.\"\n",
    "<br>2) Returns a dictionary with the keys `'category'` and `'title'` whose values are lists of categories that contain the search string and titles that contain the search string, respectively (case-insensitive!)."
   ]
  },
  {
   "cell_type": "code",
   "execution_count": 22,
   "metadata": {},
   "outputs": [
    {
     "name": "stdout",
     "output_type": "stream",
     "text": [
      "\n",
      " The subset list is: [{'category': 'Romance', 'name': 'The Choice'}, {'category': 'Romance', 'name': 'Colonia'}, {'category': 'Romance', 'name': 'Love'}, {'category': 'Romance', 'name': 'Bride Wars'}, {'category': 'Romance', 'name': 'We Two'}]\n"
     ]
    },
    {
     "data": {
      "text/plain": [
       "[{'category': 'Romance', 'name': 'The Choice'},\n",
       " {'category': 'Romance', 'name': 'Colonia'},\n",
       " {'category': 'Romance', 'name': 'Love'},\n",
       " {'category': 'Romance', 'name': 'Bride Wars'},\n",
       " {'category': 'Romance', 'name': 'We Two'}]"
      ]
     },
     "execution_count": 22,
     "metadata": {},
     "output_type": "execute_result"
    }
   ],
   "source": [
    "def movies_text_search(movies, search_str):\n",
    "    \n",
    "    filtered_cat_name = 0\n",
    "    search_str = search_str.lower()\n",
    "    \n",
    "    filtered_cat_name = [d for d in movies if search_str in d['category'].lower() or search_str in d['name'].lower()]\n",
    "    \n",
    "    # print (filtered_cat_name)\n",
    "    \n",
    "    subset_keys = ['category', 'name']\n",
    "    subset_filtered_cat_name = []\n",
    "    for d in filtered_cat_name:\n",
    "        # subset_of_d = {k: d[k] for k in subset_keys}\n",
    "        subset_of_d = {k: d.get(k,None) for k in subset_keys}\n",
    "        subset_filtered_cat_name.append(subset_of_d)          \n",
    "    \n",
    "    print (f\"\\n The subset list is: {subset_filtered_cat_name}\")\n",
    "    return subset_filtered_cat_name\n",
    "    \n",
    "movies_text_search(movies,\"Rom\")\n",
    "    "
   ]
  },
  {
   "cell_type": "markdown",
   "metadata": {},
   "source": [
    "---\n",
    "\n",
    "### 5) Multiple conditions.\n",
    "\n",
    "#### 5.1)\n",
    "\n",
    "Write a function that:\n",
    "\n",
    "1) Accepts the `movies` list and a \"search criteria\" variable.\n",
    "<br>2) If the criteria variable is numeric, return a list of movie titles with a score greater than or equal to the criteria.\n",
    "<br>3) If the criteria variable is a string, return a list of movie titles that match that category (case-insensitive!). If there is no match, return an empty list and print an informative message."
   ]
  },
  {
   "cell_type": "code",
   "execution_count": 37,
   "metadata": {},
   "outputs": [
    {
     "name": "stdout",
     "output_type": "stream",
     "text": [
      "You searched for numeric value\n",
      "looks like there isn't a match, sorry!\n"
     ]
    }
   ],
   "source": [
    "def multiple_criteria(movies, search_crit):\n",
    "    d2 = []\n",
    "    subset_keys = ['name']\n",
    "    \n",
    "    def empty_message():\n",
    "        print (\"looks like there isn't a match, sorry!\")\n",
    "    \n",
    "    if isinstance(search_crit, float) == True or isinstance(search_crit, int) == True:\n",
    "        print (\"You searched for numeric value\")\n",
    "        \n",
    "        d = return_better_categories(movies, search_crit)\n",
    "        \n",
    "        for item in d:\n",
    "            subset_d = {k: item[k] for k in subset_keys}\n",
    "            d2.append(subset_d)\n",
    "        \n",
    "        if d2 != []:\n",
    "            return d2\n",
    "        else:\n",
    "            empty_message()\n",
    "        \n",
    "    elif isinstance(search_crit, str) == True:\n",
    "        print (\"You searched for str value\")\n",
    "        \n",
    "        d = movies_text_search(movies, search_crit)\n",
    "        \n",
    "        for item in d:\n",
    "            subset_d = {k: item[k] for k in subset_keys}\n",
    "            d2.append(subset_d)\n",
    "        \n",
    "        if d2 != []:\n",
    "            return d2\n",
    "        else:\n",
    "            empty_message()\n",
    "\n",
    "\n",
    "            \n",
    "# multiple_criteria(movies, \"Dark\")\n",
    "# multiple_criteria(movies, 7.1)\n",
    "multiple_criteria(movies, 10)\n"
   ]
  },
  {
   "cell_type": "code",
   "execution_count": null,
   "metadata": {},
   "outputs": [],
   "source": []
  }
 ],
 "metadata": {
  "kernelspec": {
   "display_name": "Python 3",
   "language": "python",
   "name": "python3"
  }
 },
 "nbformat": 4,
 "nbformat_minor": 1
}
