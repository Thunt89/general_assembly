{
 "cells": [
  {
   "cell_type": "code",
   "execution_count": 1,
   "metadata": {},
   "outputs": [],
   "source": [
    "# IMPORTS FOR SCRIPT\n",
    "import pandas as pd\n",
    "import numpy as np\n",
    "import calendar\n",
    "import datetime\n",
    "import math\n",
    "import matplotlib.pyplot as plt\n",
    "%matplotlib inline\n",
    "pd.options.mode.chained_assignment = None\n",
    "pd.set_option('max_rows', 300)\n",
    "pd.set_option('max_columns', 25)  \n",
    "\n",
    "# pd.set_option('max_rows', None)  - if required to see all results"
   ]
  },
  {
   "cell_type": "code",
   "execution_count": 2,
   "metadata": {},
   "outputs": [
    {
     "data": {
      "text/plain": [
       "' API for CURRENCIES\\nimport requests\\nimport alpha_vantage\\n\\nAPI_URL = \"https://www.alphavantage.co/query\"\\n\\ndata = {\\n    \"function\": \"DIGITAL_CURRENCY_INTRADAY\",\\n    \"symbol\": \"ETH\",\\n    \"market\": \"EUR\",\\n    \"datatype\": \"csv\",\\n    \"apikey\": \"E196CKVJSSDKIZM3\",\\n    }\\nresponse = requests.get(API_URL, params=data)\\nprint(response.text)\\n'"
      ]
     },
     "execution_count": 2,
     "metadata": {},
     "output_type": "execute_result"
    }
   ],
   "source": [
    "\"\"\" API for CURRENCIES\n",
    "import requests\n",
    "import alpha_vantage\n",
    "\n",
    "API_URL = \"https://www.alphavantage.co/query\"\n",
    "\n",
    "data = {\n",
    "    \"function\": \"DIGITAL_CURRENCY_INTRADAY\",\n",
    "    \"symbol\": \"ETH\",\n",
    "    \"market\": \"EUR\",\n",
    "    \"datatype\": \"csv\",\n",
    "    \"apikey\": \"E196CKVJSSDKIZM3\",\n",
    "    }\n",
    "response = requests.get(API_URL, params=data)\n",
    "print(response.text)\n",
    "\"\"\""
   ]
  },
  {
   "cell_type": "markdown",
   "metadata": {},
   "source": [
    "# 1.0 Load and clean historical BTC-EUR price data"
   ]
  },
  {
   "cell_type": "code",
   "execution_count": 3,
   "metadata": {},
   "outputs": [],
   "source": [
    "# Set column names for btc-eur price and volume data import\n",
    "coinbase_btc_eur_cols = ['Time',\n",
    "                   'Coin_price_EUR',\n",
    "                   'Coin_volume',\n",
    "                    ]\n",
    "\n",
    "# File source is 'http://api.bitcoincharts.com/v1/csv/' (14million rows) - note skiprows=2000000 to get to 04/11/2017\n",
    "coinbase_btc_eur = pd.read_csv('coinbase_BTC_EUR.csv', header=0, names=coinbase_btc_eur_cols, skiprows=2000000)"
   ]
  },
  {
   "cell_type": "code",
   "execution_count": 4,
   "metadata": {},
   "outputs": [],
   "source": [
    "# Write a function to transform UNIX Timestamp into datetime format\n",
    "# Note, could change strftime('%Y-%m-%d %H') to reduce granularity of data and not show minutes\n",
    "\n",
    "def unix_to_datetime(i):\n",
    "    u = datetime.datetime.fromtimestamp(\n",
    "        int(i)\n",
    "    ).strftime('%Y/%m/%d %H:%M')\n",
    "    return u"
   ]
  },
  {
   "cell_type": "code",
   "execution_count": 5,
   "metadata": {},
   "outputs": [],
   "source": [
    "# Apply unix_to_datetime function to every row in the coinbase_btc_eur dataframe\n",
    "coinbase_btc_eur['Timestamp'] = coinbase_btc_eur[\"Time\"].apply(lambda row: unix_to_datetime(row))"
   ]
  },
  {
   "cell_type": "code",
   "execution_count": 6,
   "metadata": {},
   "outputs": [],
   "source": [
    "# Write an aggregation function that finds the mean price per minute and the total volume per minute - output this to a new DF\n",
    "coinbase_btc_eur_min=coinbase_btc_eur.groupby('Timestamp', as_index=False).agg({'Coin_price_EUR':'mean', 'Coin_volume':'sum'})"
   ]
  },
  {
   "cell_type": "code",
   "execution_count": 7,
   "metadata": {},
   "outputs": [],
   "source": [
    "# Convert date in 'Timestamp' column from strftime to datetime\n",
    "coinbase_btc_eur_min['Timestamp'] = pd.to_datetime(coinbase_btc_eur_min['Timestamp'], format=\"%Y/%m/%d %H:%M\")"
   ]
  },
  {
   "cell_type": "code",
   "execution_count": 8,
   "metadata": {},
   "outputs": [
    {
     "data": {
      "image/png": "[encoded data removed]",
      "text/plain": [
       "<matplotlib.figure.Figure at 0x106289550>"
      ]
     },
     "metadata": {},
     "output_type": "display_data"
    }
   ],
   "source": [
    "# BTC-EUR price from May 2015\n",
    "coinbase_btc_eur_min.plot(kind='line',x='Timestamp',y='Coin_price_EUR', grid=True);"
   ]
  },
  {
   "cell_type": "markdown",
   "metadata": {},
   "source": [
    "# 1.1 Load and clean Coinbase COIN wallet file"
   ]
  },
  {
   "cell_type": "markdown",
   "metadata": {},
   "source": [
    "<b> Coinbase ETL Function"
   ]
  },
  {
   "cell_type": "code",
   "execution_count": 9,
   "metadata": {},
   "outputs": [],
   "source": [
    "def coinbase_load(csv_name):\n",
    "    # Account specific parameters\n",
    "    bank_name = 'Visa debit ********0110'\n",
    "    \n",
    "    # Read in file and drop redundant columns - Source is Coinbase [BTC] Wallet Transaction History report'\n",
    "    f = pd.read_csv(csv_name, header=0, encoding='latin-1')\n",
    "    # Read what currency the file is for\n",
    "    cryptocurrency = f['Currency'][0]\n",
    "    # Drop the redundant coulumns\n",
    "    f.drop(['Currency',\n",
    "            'Instantly Exchanged',\n",
    "            'Transfer Fee Currency',\n",
    "            'Order Paid Out',\n",
    "            'Order Custom Parameter',\n",
    "            'Order Tracking Code',\n",
    "            'Order BTC',\n",
    "            'Order Currency',\n",
    "            'Order Price',\n",
    "            'Recurring Payment ID',\n",
    "            'Bitcoin Hash (visit https://www.coinbase.com/tx/[HASH] in your browser for more info)',\n",
    "            ], axis=1, inplace=True)\n",
    "    \n",
    "    # Set column names for Coinbase wallet transactions history data import\n",
    "    rename_map = {f.columns[0]:'Timestamp',\n",
    "              f.columns[1]:'Balance',\n",
    "              f.columns[2]:'Amount',\n",
    "              f.columns[3]:'To',\n",
    "              f.columns[4]:'Notes',\n",
    "              f.columns[5]:'Transfer_total',\n",
    "              f.columns[6]:'Transfer_currency',\n",
    "              f.columns[7]:'Transfer_fee',\n",
    "              f.columns[8]:'Transfer_method',\n",
    "              f.columns[9]:'Transfer_id',\n",
    "              f.columns[10]:'Coinbase_id'\n",
    "             }\n",
    "\n",
    "    # Rename the columns to the map\n",
    "    f.rename(columns=rename_map, inplace=True)\n",
    "    \n",
    "    # Convert the timestamp into datetime format (make sure to import calendar first)\n",
    "    f['Timestamp'] = pd.to_datetime(f['Timestamp'], format=\"%d/%m/%Y %H:%M\")\n",
    "    \n",
    "    \"\"\" Where there is no transfer method listed it means BTC has been sent/received to/from another \n",
    "    3rd party wallet (some of which I may own, e.g. Binance/GDAX). If this transfer is positive the \n",
    "    account is funded, else withdrawn from. A new column 'Type' is created to capture this information.\"\"\"\n",
    "    f.loc[(f['Transfer_method'].isnull()) & (f['Amount']>0),'Type'] = 'Fund'\n",
    "    f.loc[(f['Transfer_method'].isnull()) & (f['Amount']<0),'Type'] = 'Withdraw'\n",
    "    \n",
    "    # Third party transactions data is added to replace NaN in applicable columns (Transfer Fee, Transfer_currency, Transfer_method)\n",
    "    # Note, transaction_fee for BTC is not actually 0, but fee has already been paid in BTC terms prior to amount shown\n",
    "    f.loc[f['Transfer_method'].isnull(),'Transfer_fee'] = 0\n",
    "    f.loc[f['Transfer_method'].isnull(),'Transfer_currency'] = cryptocurrency\n",
    "    f.loc[f['Transfer_method'].isnull(),'Transfer_method'] = 'Third_party'\n",
    "    \n",
    "    # The transactions that are not classified as 'Third_party' are trades to and from the Coinbase btc wallet\n",
    "    # These transactions are labelled as buy or sell in the 'Type' column\n",
    "    f.loc[(f['Transfer_method'] != 'Third_party') & (f['Amount']>0),'Type'] = 'Buy'\n",
    "    f.loc[(f['Transfer_method'] != 'Third_party') & (f['Amount']<0),'Type'] = 'Sell'\n",
    "\n",
    "    # Input bank details to classify Type as Fund\n",
    "    f.loc[f['Transfer_method'] == bank_name,'Type'] = 'Fund'\n",
    "    \n",
    "    # Write a function to calculate the transacted price per coin in transaction currency (post fees)\n",
    "    def price_per_coin(Transfer_total,coin):\n",
    "        if coin < 0:\n",
    "            price_per_coin = Transfer_total/-coin\n",
    "            return price_per_coin\n",
    "        else:\n",
    "            price_per_coin = Transfer_total/coin\n",
    "            return price_per_coin\n",
    "    \n",
    "    # Run the price_per_coin function on each transaction (where a Transfer_total value exists)\n",
    "    f['Transaction_price_per_coin'] = f.apply(lambda row: price_per_coin(row[\"Transfer_total\"], row[\"Amount\"]), axis=1)\n",
    "    return f"
   ]
  },
  {
   "cell_type": "markdown",
   "metadata": {},
   "source": [
    "<b> Get Coin prices function"
   ]
  },
  {
   "cell_type": "code",
   "execution_count": 10,
   "metadata": {},
   "outputs": [],
   "source": [
    "def get_coin_prices(wallet, coin_prices):\n",
    "    # Merge the Coinbase wallet with COIN-EUR price information\n",
    "    wallet = pd.merge(wallet, coin_prices.iloc[:,:2], on=\"Timestamp\", how=\"left\")\n",
    "\n",
    "    # Function to take a timestamp, price.isnull pair and increment the timestamp until a non-null price is found\n",
    "    def fill_missing_prices(t, p):\n",
    "        t = t + datetime.timedelta(0,60) \n",
    "        p = coin_prices.loc[coin_prices['Timestamp'] == t, 'Coin_price_EUR'].values[0]\n",
    "        v = coin_prices.loc[coin_prices['Timestamp'] == t, 'Coin_volume'].values[0]\n",
    "        print ('missing time updated to:', t)\n",
    "        if math.isnan(p) == True:\n",
    "            fill_missing_prices(t, p)\n",
    "        else:\n",
    "            return (p)\n",
    "\n",
    "    # Apply the fill_missing_prices function to each line the btc_wallet where price information is missing\n",
    "    wallet_missing = wallet[wallet['Coin_price_EUR'].isnull()]\n",
    "    wallet.loc[wallet['Coin_price_EUR'].isnull(),'Coin_price_EUR'] = wallet_missing.apply(lambda row: fill_missing_prices(row[\"Timestamp\"], row[\"Coin_price_EUR\"]), axis=1);\n",
    "\n",
    "    return wallet"
   ]
  },
  {
   "cell_type": "markdown",
   "metadata": {},
   "source": [
    "<b> Get Fiat currencies function"
   ]
  },
  {
   "cell_type": "code",
   "execution_count": 11,
   "metadata": {},
   "outputs": [],
   "source": [
    "def get_fiat_currencies(wallet, COIN):\n",
    "    \n",
    "    # Load Euro-GBP exchange rates - note granularity is only monthly and from Jan 2017\n",
    "    eur_rate = pd.read_csv('eur_rate.csv', header=0)\n",
    "    eur_rate['Date'] = pd.to_datetime(eur_rate['Date'], format=\"%m/%Y\")\n",
    "    eur_rate['Year'] = eur_rate['Date'].dt.year\n",
    "    eur_rate['Month'] = eur_rate['Date'].dt.month\n",
    "\n",
    "    # Create year and month columns in both DFs to look up values on\n",
    "    wallet['Year'] = wallet['Timestamp'].dt.year\n",
    "    wallet['Month'] = wallet['Timestamp'].dt.month\n",
    "    wallet['Day'] = wallet['Timestamp'].dt.day\n",
    "    # Then merge on eur_rate DF\n",
    "    wallet = pd.merge(wallet, eur_rate.iloc[:,1:], on=['Year','Month'], how=\"left\")\n",
    "\n",
    "    # Create a Coin transaction price column in Euros. If GBP, convert from GBP transaction price. \n",
    "    # If Euros, just copy across and if [COIN] transfer, take market price \n",
    "    wallet.loc[wallet['Transfer_currency'] == 'GBP','Transaction_price_EUR'] = wallet.loc[wallet['Transfer_currency'] == 'GBP', 'Transaction_price_per_coin'] * wallet.loc[wallet['Transfer_currency'] == 'GBP', 'EUR_GBP']\n",
    "    wallet.loc[wallet['Transfer_currency'] == 'EUR','Transaction_price_EUR'] = wallet.loc[wallet['Transfer_currency'] == 'EUR', 'Transaction_price_per_coin']\n",
    "    wallet.loc[wallet['Transfer_currency'] == COIN,'Transaction_price_EUR'] = wallet.loc[wallet['Transfer_currency'] == COIN, 'Coin_price_EUR'] # Note, having to use spot price rather than transaction price for these transfers\n",
    "\n",
    "    # Create a COIN transaction total value in Euros column\n",
    "    wallet['Transaction_total_EUR'] = wallet['Transaction_price_EUR'] * wallet['Amount']\n",
    "\n",
    "    # Create a COIN balance equivalent in Euros column (note using spot price, not transaction price)\n",
    "    wallet['Coin_balance_EUR'] = wallet['Coin_price_EUR'] * wallet['Balance']\n",
    "\n",
    "    # Create a BTC transaction price column in GBP\n",
    "    wallet.loc[wallet['Transfer_currency'] == 'EUR','Transaction_price_GBP'] = wallet.loc[wallet['Transfer_currency'] == 'EUR', 'Transaction_price_per_coin'] / wallet.loc[wallet['Transfer_currency'] == 'EUR', 'EUR_GBP']\n",
    "    wallet.loc[wallet['Transfer_currency'] == 'GBP','Transaction_price_GBP'] = wallet.loc[wallet['Transfer_currency'] == 'GBP', 'Transaction_price_per_coin']\n",
    "    wallet.loc[wallet['Transfer_currency'] == COIN,'Transaction_price_GBP'] = wallet.loc[wallet['Transfer_currency'] == COIN, 'Coin_price_EUR'] / wallet.loc[wallet['Transfer_currency'] == COIN, 'EUR_GBP']\n",
    "\n",
    "    # Create a BTC transaction total value in GBP column\n",
    "    wallet['Transaction_total_GBP'] = wallet['Transaction_price_GBP'] * wallet['Amount']\n",
    "\n",
    "    # Create a COIN balance equivalent in GBP column (note using spot price, not transaction price)\n",
    "    wallet['Coin_balance_GBP'] = (wallet['Coin_price_EUR'] / wallet['EUR_GBP']) * wallet['Balance']\n",
    "    \n",
    "    # Rename columns to be coin specific\n",
    "    rename_map = {\n",
    "            'Transaction_price_per_coin': 'Transaction_price_per_'+COIN,\n",
    "            'Coin_price_EUR': COIN+'_price_EUR',\n",
    "            'Coin_balance_EUR': COIN+'_balance_EUR',\n",
    "            'Coin_balance_GBP':COIN+'_balance_GBP',\n",
    "            'Amount':COIN+'_amount',\n",
    "             }\n",
    "\n",
    "    # Rename the columns to the map\n",
    "    wallet.rename(columns=rename_map, inplace=True)\n",
    "    \n",
    "    # Reorder the columns\n",
    "    cols = btc_wallet.columns.tolist()\n",
    "    cols = ['Timestamp',\n",
    "     'Balance',\n",
    "     'BTC_balance_GBP',\n",
    "     'BTC_amount',\n",
    "     'Transaction_total_GBP',\n",
    "     'Transfer_method',\n",
    "     'Type',\n",
    "     'Transaction_price_GBP',\n",
    "     'Transaction_price_EUR',\n",
    "     'BTC_price_EUR',     \n",
    "     'Transfer_total',\n",
    "     'Transfer_currency',\n",
    "     'Transfer_fee',\n",
    "     'Transaction_price_per_BTC',\n",
    "     'Transaction_total_EUR',\n",
    "     'BTC_balance_EUR',\n",
    "     'Transfer_id',\n",
    "     'Coinbase_id',\n",
    "     'Year',\n",
    "     'Month',\n",
    "     'Day',       \n",
    "     'EUR_GBP',\n",
    "     'To',\n",
    "     'Notes'\n",
    "    ];\n",
    "    \n",
    "    wallet = wallet[cols]\n",
    "\n",
    "    return wallet"
   ]
  },
  {
   "cell_type": "code",
   "execution_count": 12,
   "metadata": {},
   "outputs": [],
   "source": [
    "btc_wallet = coinbase_load('btc_wallet_transaction_history.csv')"
   ]
  },
  {
   "cell_type": "code",
   "execution_count": 13,
   "metadata": {},
   "outputs": [
    {
     "name": "stdout",
     "output_type": "stream",
     "text": [
      "missing time updated to: 2017-10-28 06:50:00\n",
      "missing time updated to: 2018-01-01 04:09:00\n"
     ]
    }
   ],
   "source": [
    "btc_wallet = get_coin_prices(btc_wallet, coinbase_btc_eur_min)"
   ]
  },
  {
   "cell_type": "code",
   "execution_count": 14,
   "metadata": {},
   "outputs": [],
   "source": [
    "btc_wallet = get_fiat_currencies(btc_wallet, 'BTC')"
   ]
  },
  {
   "cell_type": "code",
   "execution_count": 15,
   "metadata": {},
   "outputs": [
    {
     "data": {
      "text/html": [
       "<div>\n",
       "<style scoped>\n",
       "    .dataframe tbody tr th:only-of-type {\n",
       "        vertical-align: middle;\n",
       "    }\n",
       "\n",
       "    .dataframe tbody tr th {\n",
       "        vertical-align: top;\n",
       "    }\n",
       "\n",
       "    .dataframe thead th {\n",
       "        text-align: right;\n",
       "    }\n",
       "</style>\n",
       "<table border=\"1\" class=\"dataframe\">\n",
       "  <thead>\n",
       "    <tr style=\"text-align: right;\">\n",
       "      <th></th>\n",
       "      <th>Timestamp</th>\n",
       "      <th>Balance</th>\n",
       "      <th>BTC_balance_GBP</th>\n",
       "      <th>BTC_amount</th>\n",
       "      <th>Transaction_total_GBP</th>\n",
       "      <th>Transfer_method</th>\n",
       "      <th>Type</th>\n",
       "      <th>Transaction_price_GBP</th>\n",
       "      <th>Transaction_price_EUR</th>\n",
       "      <th>BTC_price_EUR</th>\n",
       "      <th>Transfer_total</th>\n",
       "      <th>Transfer_currency</th>\n",
       "      <th>Transfer_fee</th>\n",
       "      <th>Transaction_price_per_BTC</th>\n",
       "      <th>Transaction_total_EUR</th>\n",
       "      <th>BTC_balance_EUR</th>\n",
       "      <th>Transfer_id</th>\n",
       "      <th>Coinbase_id</th>\n",
       "      <th>Year</th>\n",
       "      <th>Month</th>\n",
       "      <th>Day</th>\n",
       "      <th>EUR_GBP</th>\n",
       "      <th>To</th>\n",
       "      <th>Notes</th>\n",
       "    </tr>\n",
       "  </thead>\n",
       "  <tbody>\n",
       "    <tr>\n",
       "      <th>0</th>\n",
       "      <td>2017-05-05 11:06:00</td>\n",
       "      <td>0.001000</td>\n",
       "      <td>1.261462</td>\n",
       "      <td>0.001000</td>\n",
       "      <td>1.261462</td>\n",
       "      <td>Third_party</td>\n",
       "      <td>Fund</td>\n",
       "      <td>1261.461814</td>\n",
       "      <td>1475.269500</td>\n",
       "      <td>1475.269500</td>\n",
       "      <td>NaN</td>\n",
       "      <td>BTC</td>\n",
       "      <td>0.0</td>\n",
       "      <td>NaN</td>\n",
       "      <td>1.475270</td>\n",
       "      <td>1.475270</td>\n",
       "      <td>NaN</td>\n",
       "      <td>590cbf423ad22301ff5aad8b</td>\n",
       "      <td>2017</td>\n",
       "      <td>5</td>\n",
       "      <td>5</td>\n",
       "      <td>1.169492</td>\n",
       "      <td>tyrone.hunt07@gmail.com</td>\n",
       "      <td>NaN</td>\n",
       "    </tr>\n",
       "    <tr>\n",
       "      <th>1</th>\n",
       "      <td>2017-05-05 11:10:00</td>\n",
       "      <td>0.831200</td>\n",
       "      <td>1049.378877</td>\n",
       "      <td>0.830200</td>\n",
       "      <td>1048.116390</td>\n",
       "      <td>Third_party</td>\n",
       "      <td>Fund</td>\n",
       "      <td>1262.486618</td>\n",
       "      <td>1476.468000</td>\n",
       "      <td>1476.468000</td>\n",
       "      <td>NaN</td>\n",
       "      <td>BTC</td>\n",
       "      <td>0.0</td>\n",
       "      <td>NaN</td>\n",
       "      <td>1225.763734</td>\n",
       "      <td>1227.240202</td>\n",
       "      <td>NaN</td>\n",
       "      <td>590cc0013ad2230e225aaf6e</td>\n",
       "      <td>2017</td>\n",
       "      <td>5</td>\n",
       "      <td>5</td>\n",
       "      <td>1.169492</td>\n",
       "      <td>tyrone.hunt07@gmail.com</td>\n",
       "      <td>NaN</td>\n",
       "    </tr>\n",
       "    <tr>\n",
       "      <th>2</th>\n",
       "      <td>2017-05-06 09:54:00</td>\n",
       "      <td>1.656069</td>\n",
       "      <td>2039.113524</td>\n",
       "      <td>0.824869</td>\n",
       "      <td>1015.659096</td>\n",
       "      <td>Third_party</td>\n",
       "      <td>Fund</td>\n",
       "      <td>1231.297435</td>\n",
       "      <td>1439.992500</td>\n",
       "      <td>1439.992500</td>\n",
       "      <td>NaN</td>\n",
       "      <td>BTC</td>\n",
       "      <td>0.0</td>\n",
       "      <td>NaN</td>\n",
       "      <td>1187.805188</td>\n",
       "      <td>2384.726954</td>\n",
       "      <td>NaN</td>\n",
       "      <td>590dffaf75d36c00013cffda</td>\n",
       "      <td>2017</td>\n",
       "      <td>5</td>\n",
       "      <td>6</td>\n",
       "      <td>1.169492</td>\n",
       "      <td>NaN</td>\n",
       "      <td>NaN</td>\n",
       "    </tr>\n",
       "    <tr>\n",
       "      <th>3</th>\n",
       "      <td>2017-05-07 02:27:00</td>\n",
       "      <td>1.240469</td>\n",
       "      <td>1523.829167</td>\n",
       "      <td>-0.415600</td>\n",
       "      <td>-510.535448</td>\n",
       "      <td>Third_party</td>\n",
       "      <td>Withdraw</td>\n",
       "      <td>1228.429856</td>\n",
       "      <td>1436.638889</td>\n",
       "      <td>1436.638889</td>\n",
       "      <td>NaN</td>\n",
       "      <td>BTC</td>\n",
       "      <td>0.0</td>\n",
       "      <td>NaN</td>\n",
       "      <td>-597.067122</td>\n",
       "      <td>1782.106020</td>\n",
       "      <td>NaN</td>\n",
       "      <td>590ee86584d424f881b55ffa</td>\n",
       "      <td>2017</td>\n",
       "      <td>5</td>\n",
       "      <td>7</td>\n",
       "      <td>1.169492</td>\n",
       "      <td>tinasparkle222@yahoo.co.uk</td>\n",
       "      <td>NaN</td>\n",
       "    </tr>\n",
       "    <tr>\n",
       "      <th>4</th>\n",
       "      <td>2017-05-23 15:09:00</td>\n",
       "      <td>1.694969</td>\n",
       "      <td>2900.970537</td>\n",
       "      <td>0.454500</td>\n",
       "      <td>777.885083</td>\n",
       "      <td>Third_party</td>\n",
       "      <td>Fund</td>\n",
       "      <td>1711.518334</td>\n",
       "      <td>2001.607000</td>\n",
       "      <td>2001.607000</td>\n",
       "      <td>NaN</td>\n",
       "      <td>BTC</td>\n",
       "      <td>0.0</td>\n",
       "      <td>NaN</td>\n",
       "      <td>909.730382</td>\n",
       "      <td>3392.661835</td>\n",
       "      <td>NaN</td>\n",
       "      <td>5924b304dc2bd90e678a7016</td>\n",
       "      <td>2017</td>\n",
       "      <td>5</td>\n",
       "      <td>23</td>\n",
       "      <td>1.169492</td>\n",
       "      <td>tyrone.hunt07@gmail.com</td>\n",
       "      <td>NaN</td>\n",
       "    </tr>\n",
       "  </tbody>\n",
       "</table>\n",
       "</div>"
      ],
      "text/plain": [
       "            Timestamp   Balance  BTC_balance_GBP  BTC_amount  \\\n",
       "0 2017-05-05 11:06:00  0.001000         1.261462    0.001000   \n",
       "1 2017-05-05 11:10:00  0.831200      1049.378877    0.830200   \n",
       "2 2017-05-06 09:54:00  1.656069      2039.113524    0.824869   \n",
       "3 2017-05-07 02:27:00  1.240469      1523.829167   -0.415600   \n",
       "4 2017-05-23 15:09:00  1.694969      2900.970537    0.454500   \n",
       "\n",
       "   Transaction_total_GBP Transfer_method      Type  Transaction_price_GBP  \\\n",
       "0               1.261462     Third_party      Fund            1261.461814   \n",
       "1            1048.116390     Third_party      Fund            1262.486618   \n",
       "2            1015.659096     Third_party      Fund            1231.297435   \n",
       "3            -510.535448     Third_party  Withdraw            1228.429856   \n",
       "4             777.885083     Third_party      Fund            1711.518334   \n",
       "\n",
       "   Transaction_price_EUR  BTC_price_EUR  Transfer_total Transfer_currency  \\\n",
       "0            1475.269500    1475.269500             NaN               BTC   \n",
       "1            1476.468000    1476.468000             NaN               BTC   \n",
       "2            1439.992500    1439.992500             NaN               BTC   \n",
       "3            1436.638889    1436.638889             NaN               BTC   \n",
       "4            2001.607000    2001.607000             NaN               BTC   \n",
       "\n",
       "   Transfer_fee  Transaction_price_per_BTC  Transaction_total_EUR  \\\n",
       "0           0.0                        NaN               1.475270   \n",
       "1           0.0                        NaN            1225.763734   \n",
       "2           0.0                        NaN            1187.805188   \n",
       "3           0.0                        NaN            -597.067122   \n",
       "4           0.0                        NaN             909.730382   \n",
       "\n",
       "   BTC_balance_EUR Transfer_id               Coinbase_id  Year  Month  Day  \\\n",
       "0         1.475270         NaN  590cbf423ad22301ff5aad8b  2017      5    5   \n",
       "1      1227.240202         NaN  590cc0013ad2230e225aaf6e  2017      5    5   \n",
       "2      2384.726954         NaN  590dffaf75d36c00013cffda  2017      5    6   \n",
       "3      1782.106020         NaN  590ee86584d424f881b55ffa  2017      5    7   \n",
       "4      3392.661835         NaN  5924b304dc2bd90e678a7016  2017      5   23   \n",
       "\n",
       "    EUR_GBP                          To Notes  \n",
       "0  1.169492     tyrone.hunt07@gmail.com   NaN  \n",
       "1  1.169492     tyrone.hunt07@gmail.com   NaN  \n",
       "2  1.169492                         NaN   NaN  \n",
       "3  1.169492  tinasparkle222@yahoo.co.uk   NaN  \n",
       "4  1.169492     tyrone.hunt07@gmail.com   NaN  "
      ]
     },
     "execution_count": 15,
     "metadata": {},
     "output_type": "execute_result"
    }
   ],
   "source": [
    "btc_wallet.head()"
   ]
  },
  {
   "cell_type": "code",
   "execution_count": 16,
   "metadata": {},
   "outputs": [
    {
     "data": {
      "image/png": "[encoded data removed]",
      "text/plain": [
       "<matplotlib.figure.Figure at 0x107ab5ef0>"
      ]
     },
     "metadata": {},
     "output_type": "display_data"
    }
   ],
   "source": [
    "# Amount invested in BTC in Coinbase\n",
    "btc_wallet.plot(kind='line',x='Timestamp',y='BTC_balance_GBP', grid=True);"
   ]
  },
  {
   "cell_type": "markdown",
   "metadata": {},
   "source": [
    "# 1.2 Load and clean GDAX transactions file (BTC)"
   ]
  },
  {
   "cell_type": "code",
   "execution_count": 17,
   "metadata": {},
   "outputs": [],
   "source": [
    "# Set column names for gdax exchange transactions data import\n",
    "gdax_transaction_cols = ['Timestamp',\n",
    "                   'Account_name',\n",
    "                   'Type',\n",
    "                   'Balance',\n",
    "                   'Trade_amount',\n",
    "                   'Trade_currency',\n",
    "                   'Trade_amount_usd',\n",
    "                   'Record_id'\n",
    "                    ]\n",
    "\n",
    "# File source is 'coinbase GDAX Transactions report'\n",
    "gdax_trans = pd.read_csv('gdax_transactions.csv', header=0, names=gdax_transaction_cols)"
   ]
  },
  {
   "cell_type": "code",
   "execution_count": 18,
   "metadata": {},
   "outputs": [],
   "source": [
    "# Define a function to 'fix' the gdax time series into the correct format\n",
    "    def fix_timestamp(t):\n",
    "    tyear = t[0:4]\n",
    "    tmon = t[5:7]\n",
    "    tday = t[8:10]\n",
    "    ttime = t[11:19]\n",
    "    tdat = str(tday+'/'+tmon+'/'+tyear+' '+ttime)\n",
    "    return tdat"
   ]
  },
  {
   "cell_type": "code",
   "execution_count": 19,
   "metadata": {},
   "outputs": [],
   "source": [
    "# Apply the fix_timestamp function to each timestamp row in the gdax_trans DF\n",
    "gdax_trans['Timestamp'] = gdax_trans.apply(lambda row: fix_timestamp(row[\"Timestamp\"]), axis=1)"
   ]
  },
  {
   "cell_type": "code",
   "execution_count": 20,
   "metadata": {},
   "outputs": [],
   "source": [
    "# Convert Timestamp series into datetime format\n",
    "gdax_trans['Timestamp'] = pd.to_datetime(gdax_trans['Timestamp'], format=\"%d/%m/%Y %H:%M:%S\")"
   ]
  },
  {
   "cell_type": "code",
   "execution_count": 21,
   "metadata": {},
   "outputs": [],
   "source": [
    "# The 'Balance' column actually stores the same value for every record - so delete it, and fix later\n",
    "gdax_trans['Balance']= 0.00"
   ]
  },
  {
   "cell_type": "code",
   "execution_count": 22,
   "metadata": {},
   "outputs": [],
   "source": [
    "# Extract just the BTC wallet transactions\n",
    "gdax_trans_btc = gdax_trans.loc[gdax_trans['Account_name'] == 'BTC',:]"
   ]
  },
  {
   "cell_type": "code",
   "execution_count": 23,
   "metadata": {},
   "outputs": [],
   "source": [
    "# Set the trade classification types as buy/sell, or fund/withdraw\n",
    "gdax_trans_btc.loc[(gdax_trans_btc['Type'] == 'match') & (gdax_trans_btc['Trade_amount']>0),'Type'] = 'Buy'\n",
    "gdax_trans_btc.loc[(gdax_trans_btc['Type'] == 'match') & (gdax_trans_btc['Trade_amount']<0),'Type'] = 'Sell'\n",
    "gdax_trans_btc.loc[(gdax_trans_btc['Type'] == 'transfer') & (gdax_trans_btc['Trade_amount']>0),'Type'] = 'Fund'\n",
    "gdax_trans_btc.loc[(gdax_trans_btc['Type'] == 'transfer') & (gdax_trans_btc['Trade_amount']<0),'Type'] = 'Withdraw'"
   ]
  },
  {
   "cell_type": "code",
   "execution_count": 24,
   "metadata": {},
   "outputs": [],
   "source": [
    "# Create a cumulative balance column in BTC for gdax\n",
    "gdax_trans_btc['Balance'] = gdax_trans_btc['Trade_amount'].cumsum();"
   ]
  },
  {
   "cell_type": "code",
   "execution_count": 25,
   "metadata": {},
   "outputs": [],
   "source": [
    "# Remove the seconds in the timestamp column\n",
    "gdax_trans_btc['Timestamp'] = gdax_trans_btc['Timestamp'].map(lambda x: x.replace(second=0))"
   ]
  },
  {
   "cell_type": "code",
   "execution_count": 26,
   "metadata": {},
   "outputs": [],
   "source": [
    "# Join on the bitcoin price information in euros\n",
    "gdax_trans_btc = pd.merge(gdax_trans_btc, coinbase_btc_eur_min.iloc[:,:2], on=\"Timestamp\", how=\"left\")"
   ]
  },
  {
   "cell_type": "code",
   "execution_count": 27,
   "metadata": {},
   "outputs": [],
   "source": [
    "# Drop the redundant columns\n",
    "gdax_trans_btc.drop(['Account_name','Trade_currency'], axis=1, inplace=True)\n",
    "\n",
    "# Rename the remaining columns to be the same as Coinbase data\n",
    "rename_map = {\n",
    "'Timestamp':    'Timestamp', \n",
    "'Type':  'Type', \n",
    "'Balance':  'Balance',\n",
    "'Trade_amount':  'BTC_amount',\n",
    "}\n",
    "gdax_trans_btc.rename(columns=rename_map, inplace=True)"
   ]
  },
  {
   "cell_type": "code",
   "execution_count": 28,
   "metadata": {},
   "outputs": [],
   "source": [
    "# Load USD-GBP exchange rates - note granularity is daily and from May 2017\n",
    "usd_gbp_rate = pd.read_csv('usd_gbp_rate.csv', header=0)\n",
    "usd_gbp_rate['Date'] = pd.to_datetime(usd_gbp_rate['Date'], format=\"%d/%m/%Y\")\n",
    "usd_gbp_rate['Year'] = usd_gbp_rate['Date'].dt.year\n",
    "usd_gbp_rate['Month'] = usd_gbp_rate['Date'].dt.month\n",
    "usd_gbp_rate['Day'] = usd_gbp_rate['Date'].dt.day"
   ]
  },
  {
   "cell_type": "code",
   "execution_count": 29,
   "metadata": {},
   "outputs": [],
   "source": [
    "# Create year and month columns in both DFs to look up values on\n",
    "gdax_trans_btc['Year'] = gdax_trans_btc['Timestamp'].dt.year\n",
    "gdax_trans_btc['Month'] = gdax_trans_btc['Timestamp'].dt.month\n",
    "gdax_trans_btc['Day'] = gdax_trans_btc['Timestamp'].dt.day\n",
    "# Then merge on usd_gbp_rate DF\n",
    "gdax_trans_btc = pd.merge(gdax_trans_btc, usd_gbp_rate.iloc[:,1:], on=['Year','Month','Day'], how=\"left\")"
   ]
  },
  {
   "cell_type": "code",
   "execution_count": 30,
   "metadata": {},
   "outputs": [],
   "source": [
    "# Load Euro-GBP exchange rates - note granularity is only monthly and from Jan 2017\n",
    "eur_rate = pd.read_csv('eur_rate.csv', header=0)\n",
    "eur_rate['Date'] = pd.to_datetime(eur_rate['Date'], format=\"%m/%Y\")\n",
    "eur_rate['Year'] = eur_rate['Date'].dt.year\n",
    "eur_rate['Month'] = eur_rate['Date'].dt.month\n",
    "\n",
    "# Then merge on eur_rate DF\n",
    "gdax_trans_btc = pd.merge(gdax_trans_btc, eur_rate.iloc[:,1:], on=['Year','Month'], how=\"left\")"
   ]
  },
  {
   "cell_type": "code",
   "execution_count": 31,
   "metadata": {},
   "outputs": [
    {
     "ename": "KeyError",
     "evalue": "'BTC_price_EUR'",
     "output_type": "error",
     "traceback": [
      "\u001b[0;31m---------------------------------------------------------------------------\u001b[0m",
      "\u001b[0;31mKeyError\u001b[0m                                  Traceback (most recent call last)",
      "\u001b[0;32m/anaconda3/lib/python3.6/site-packages/pandas/core/indexes/base.py\u001b[0m in \u001b[0;36mget_loc\u001b[0;34m(self, key, method, tolerance)\u001b[0m\n\u001b[1;32m   2524\u001b[0m             \u001b[0;32mtry\u001b[0m\u001b[0;34m:\u001b[0m\u001b[0;34m\u001b[0m\u001b[0m\n\u001b[0;32m-> 2525\u001b[0;31m                 \u001b[0;32mreturn\u001b[0m \u001b[0mself\u001b[0m\u001b[0;34m.\u001b[0m\u001b[0m_engine\u001b[0m\u001b[0;34m.\u001b[0m\u001b[0mget_loc\u001b[0m\u001b[0;34m(\u001b[0m\u001b[0mkey\u001b[0m\u001b[0;34m)\u001b[0m\u001b[0;34m\u001b[0m\u001b[0m\n\u001b[0m\u001b[1;32m   2526\u001b[0m             \u001b[0;32mexcept\u001b[0m \u001b[0mKeyError\u001b[0m\u001b[0;34m:\u001b[0m\u001b[0;34m\u001b[0m\u001b[0m\n",
      "\u001b[0;32mpandas/_libs/index.pyx\u001b[0m in \u001b[0;36mpandas._libs.index.IndexEngine.get_loc\u001b[0;34m()\u001b[0m\n",
      "\u001b[0;32mpandas/_libs/index.pyx\u001b[0m in \u001b[0;36mpandas._libs.index.IndexEngine.get_loc\u001b[0;34m()\u001b[0m\n",
      "\u001b[0;32mpandas/_libs/hashtable_class_helper.pxi\u001b[0m in \u001b[0;36mpandas._libs.hashtable.PyObjectHashTable.get_item\u001b[0;34m()\u001b[0m\n",
      "\u001b[0;32mpandas/_libs/hashtable_class_helper.pxi\u001b[0m in \u001b[0;36mpandas._libs.hashtable.PyObjectHashTable.get_item\u001b[0;34m()\u001b[0m\n",
      "\u001b[0;31mKeyError\u001b[0m: 'BTC_price_EUR'",
      "\nDuring handling of the above exception, another exception occurred:\n",
      "\u001b[0;31mKeyError\u001b[0m                                  Traceback (most recent call last)",
      "\u001b[0;32m<ipython-input-31-f075efc1ae99>\u001b[0m in \u001b[0;36m<module>\u001b[0;34m()\u001b[0m\n\u001b[1;32m      6\u001b[0m \u001b[0;34m\u001b[0m\u001b[0m\n\u001b[1;32m      7\u001b[0m \u001b[0;31m# Create a BTC balance equivalent in EUR column\u001b[0m\u001b[0;34m\u001b[0m\u001b[0;34m\u001b[0m\u001b[0m\n\u001b[0;32m----> 8\u001b[0;31m \u001b[0mgdax_trans_btc\u001b[0m\u001b[0;34m[\u001b[0m\u001b[0;34m'BTC_balance_EUR'\u001b[0m\u001b[0;34m]\u001b[0m \u001b[0;34m=\u001b[0m \u001b[0mgdax_trans_btc\u001b[0m\u001b[0;34m[\u001b[0m\u001b[0;34m'BTC_price_EUR'\u001b[0m\u001b[0;34m]\u001b[0m \u001b[0;34m*\u001b[0m \u001b[0mgdax_trans_btc\u001b[0m\u001b[0;34m[\u001b[0m\u001b[0;34m'Balance'\u001b[0m\u001b[0;34m]\u001b[0m\u001b[0;34m\u001b[0m\u001b[0m\n\u001b[0m\u001b[1;32m      9\u001b[0m \u001b[0;34m\u001b[0m\u001b[0m\n\u001b[1;32m     10\u001b[0m \u001b[0;31m# Create a BTC balance equivalent in GBP column\u001b[0m\u001b[0;34m\u001b[0m\u001b[0;34m\u001b[0m\u001b[0m\n",
      "\u001b[0;32m/anaconda3/lib/python3.6/site-packages/pandas/core/frame.py\u001b[0m in \u001b[0;36m__getitem__\u001b[0;34m(self, key)\u001b[0m\n\u001b[1;32m   2137\u001b[0m             \u001b[0;32mreturn\u001b[0m \u001b[0mself\u001b[0m\u001b[0;34m.\u001b[0m\u001b[0m_getitem_multilevel\u001b[0m\u001b[0;34m(\u001b[0m\u001b[0mkey\u001b[0m\u001b[0;34m)\u001b[0m\u001b[0;34m\u001b[0m\u001b[0m\n\u001b[1;32m   2138\u001b[0m         \u001b[0;32melse\u001b[0m\u001b[0;34m:\u001b[0m\u001b[0;34m\u001b[0m\u001b[0m\n\u001b[0;32m-> 2139\u001b[0;31m             \u001b[0;32mreturn\u001b[0m \u001b[0mself\u001b[0m\u001b[0;34m.\u001b[0m\u001b[0m_getitem_column\u001b[0m\u001b[0;34m(\u001b[0m\u001b[0mkey\u001b[0m\u001b[0;34m)\u001b[0m\u001b[0;34m\u001b[0m\u001b[0m\n\u001b[0m\u001b[1;32m   2140\u001b[0m \u001b[0;34m\u001b[0m\u001b[0m\n\u001b[1;32m   2141\u001b[0m     \u001b[0;32mdef\u001b[0m \u001b[0m_getitem_column\u001b[0m\u001b[0;34m(\u001b[0m\u001b[0mself\u001b[0m\u001b[0;34m,\u001b[0m \u001b[0mkey\u001b[0m\u001b[0;34m)\u001b[0m\u001b[0;34m:\u001b[0m\u001b[0;34m\u001b[0m\u001b[0m\n",
      "\u001b[0;32m/anaconda3/lib/python3.6/site-packages/pandas/core/frame.py\u001b[0m in \u001b[0;36m_getitem_column\u001b[0;34m(self, key)\u001b[0m\n\u001b[1;32m   2144\u001b[0m         \u001b[0;31m# get column\u001b[0m\u001b[0;34m\u001b[0m\u001b[0;34m\u001b[0m\u001b[0m\n\u001b[1;32m   2145\u001b[0m         \u001b[0;32mif\u001b[0m \u001b[0mself\u001b[0m\u001b[0;34m.\u001b[0m\u001b[0mcolumns\u001b[0m\u001b[0;34m.\u001b[0m\u001b[0mis_unique\u001b[0m\u001b[0;34m:\u001b[0m\u001b[0;34m\u001b[0m\u001b[0m\n\u001b[0;32m-> 2146\u001b[0;31m             \u001b[0;32mreturn\u001b[0m \u001b[0mself\u001b[0m\u001b[0;34m.\u001b[0m\u001b[0m_get_item_cache\u001b[0m\u001b[0;34m(\u001b[0m\u001b[0mkey\u001b[0m\u001b[0;34m)\u001b[0m\u001b[0;34m\u001b[0m\u001b[0m\n\u001b[0m\u001b[1;32m   2147\u001b[0m \u001b[0;34m\u001b[0m\u001b[0m\n\u001b[1;32m   2148\u001b[0m         \u001b[0;31m# duplicate columns & possible reduce dimensionality\u001b[0m\u001b[0;34m\u001b[0m\u001b[0;34m\u001b[0m\u001b[0m\n",
      "\u001b[0;32m/anaconda3/lib/python3.6/site-packages/pandas/core/generic.py\u001b[0m in \u001b[0;36m_get_item_cache\u001b[0;34m(self, item)\u001b[0m\n\u001b[1;32m   1840\u001b[0m         \u001b[0mres\u001b[0m \u001b[0;34m=\u001b[0m \u001b[0mcache\u001b[0m\u001b[0;34m.\u001b[0m\u001b[0mget\u001b[0m\u001b[0;34m(\u001b[0m\u001b[0mitem\u001b[0m\u001b[0;34m)\u001b[0m\u001b[0;34m\u001b[0m\u001b[0m\n\u001b[1;32m   1841\u001b[0m         \u001b[0;32mif\u001b[0m \u001b[0mres\u001b[0m \u001b[0;32mis\u001b[0m \u001b[0;32mNone\u001b[0m\u001b[0;34m:\u001b[0m\u001b[0;34m\u001b[0m\u001b[0m\n\u001b[0;32m-> 1842\u001b[0;31m             \u001b[0mvalues\u001b[0m \u001b[0;34m=\u001b[0m \u001b[0mself\u001b[0m\u001b[0;34m.\u001b[0m\u001b[0m_data\u001b[0m\u001b[0;34m.\u001b[0m\u001b[0mget\u001b[0m\u001b[0;34m(\u001b[0m\u001b[0mitem\u001b[0m\u001b[0;34m)\u001b[0m\u001b[0;34m\u001b[0m\u001b[0m\n\u001b[0m\u001b[1;32m   1843\u001b[0m             \u001b[0mres\u001b[0m \u001b[0;34m=\u001b[0m \u001b[0mself\u001b[0m\u001b[0;34m.\u001b[0m\u001b[0m_box_item_values\u001b[0m\u001b[0;34m(\u001b[0m\u001b[0mitem\u001b[0m\u001b[0;34m,\u001b[0m \u001b[0mvalues\u001b[0m\u001b[0;34m)\u001b[0m\u001b[0;34m\u001b[0m\u001b[0m\n\u001b[1;32m   1844\u001b[0m             \u001b[0mcache\u001b[0m\u001b[0;34m[\u001b[0m\u001b[0mitem\u001b[0m\u001b[0;34m]\u001b[0m \u001b[0;34m=\u001b[0m \u001b[0mres\u001b[0m\u001b[0;34m\u001b[0m\u001b[0m\n",
      "\u001b[0;32m/anaconda3/lib/python3.6/site-packages/pandas/core/internals.py\u001b[0m in \u001b[0;36mget\u001b[0;34m(self, item, fastpath)\u001b[0m\n\u001b[1;32m   3841\u001b[0m \u001b[0;34m\u001b[0m\u001b[0m\n\u001b[1;32m   3842\u001b[0m             \u001b[0;32mif\u001b[0m \u001b[0;32mnot\u001b[0m \u001b[0misna\u001b[0m\u001b[0;34m(\u001b[0m\u001b[0mitem\u001b[0m\u001b[0;34m)\u001b[0m\u001b[0;34m:\u001b[0m\u001b[0;34m\u001b[0m\u001b[0m\n\u001b[0;32m-> 3843\u001b[0;31m                 \u001b[0mloc\u001b[0m \u001b[0;34m=\u001b[0m \u001b[0mself\u001b[0m\u001b[0;34m.\u001b[0m\u001b[0mitems\u001b[0m\u001b[0;34m.\u001b[0m\u001b[0mget_loc\u001b[0m\u001b[0;34m(\u001b[0m\u001b[0mitem\u001b[0m\u001b[0;34m)\u001b[0m\u001b[0;34m\u001b[0m\u001b[0m\n\u001b[0m\u001b[1;32m   3844\u001b[0m             \u001b[0;32melse\u001b[0m\u001b[0;34m:\u001b[0m\u001b[0;34m\u001b[0m\u001b[0m\n\u001b[1;32m   3845\u001b[0m                 \u001b[0mindexer\u001b[0m \u001b[0;34m=\u001b[0m \u001b[0mnp\u001b[0m\u001b[0;34m.\u001b[0m\u001b[0marange\u001b[0m\u001b[0;34m(\u001b[0m\u001b[0mlen\u001b[0m\u001b[0;34m(\u001b[0m\u001b[0mself\u001b[0m\u001b[0;34m.\u001b[0m\u001b[0mitems\u001b[0m\u001b[0;34m)\u001b[0m\u001b[0;34m)\u001b[0m\u001b[0;34m[\u001b[0m\u001b[0misna\u001b[0m\u001b[0;34m(\u001b[0m\u001b[0mself\u001b[0m\u001b[0;34m.\u001b[0m\u001b[0mitems\u001b[0m\u001b[0;34m)\u001b[0m\u001b[0;34m]\u001b[0m\u001b[0;34m\u001b[0m\u001b[0m\n",
      "\u001b[0;32m/anaconda3/lib/python3.6/site-packages/pandas/core/indexes/base.py\u001b[0m in \u001b[0;36mget_loc\u001b[0;34m(self, key, method, tolerance)\u001b[0m\n\u001b[1;32m   2525\u001b[0m                 \u001b[0;32mreturn\u001b[0m \u001b[0mself\u001b[0m\u001b[0;34m.\u001b[0m\u001b[0m_engine\u001b[0m\u001b[0;34m.\u001b[0m\u001b[0mget_loc\u001b[0m\u001b[0;34m(\u001b[0m\u001b[0mkey\u001b[0m\u001b[0;34m)\u001b[0m\u001b[0;34m\u001b[0m\u001b[0m\n\u001b[1;32m   2526\u001b[0m             \u001b[0;32mexcept\u001b[0m \u001b[0mKeyError\u001b[0m\u001b[0;34m:\u001b[0m\u001b[0;34m\u001b[0m\u001b[0m\n\u001b[0;32m-> 2527\u001b[0;31m                 \u001b[0;32mreturn\u001b[0m \u001b[0mself\u001b[0m\u001b[0;34m.\u001b[0m\u001b[0m_engine\u001b[0m\u001b[0;34m.\u001b[0m\u001b[0mget_loc\u001b[0m\u001b[0;34m(\u001b[0m\u001b[0mself\u001b[0m\u001b[0;34m.\u001b[0m\u001b[0m_maybe_cast_indexer\u001b[0m\u001b[0;34m(\u001b[0m\u001b[0mkey\u001b[0m\u001b[0;34m)\u001b[0m\u001b[0;34m)\u001b[0m\u001b[0;34m\u001b[0m\u001b[0m\n\u001b[0m\u001b[1;32m   2528\u001b[0m \u001b[0;34m\u001b[0m\u001b[0m\n\u001b[1;32m   2529\u001b[0m         \u001b[0mindexer\u001b[0m \u001b[0;34m=\u001b[0m \u001b[0mself\u001b[0m\u001b[0;34m.\u001b[0m\u001b[0mget_indexer\u001b[0m\u001b[0;34m(\u001b[0m\u001b[0;34m[\u001b[0m\u001b[0mkey\u001b[0m\u001b[0;34m]\u001b[0m\u001b[0;34m,\u001b[0m \u001b[0mmethod\u001b[0m\u001b[0;34m=\u001b[0m\u001b[0mmethod\u001b[0m\u001b[0;34m,\u001b[0m \u001b[0mtolerance\u001b[0m\u001b[0;34m=\u001b[0m\u001b[0mtolerance\u001b[0m\u001b[0;34m)\u001b[0m\u001b[0;34m\u001b[0m\u001b[0m\n",
      "\u001b[0;32mpandas/_libs/index.pyx\u001b[0m in \u001b[0;36mpandas._libs.index.IndexEngine.get_loc\u001b[0;34m()\u001b[0m\n",
      "\u001b[0;32mpandas/_libs/index.pyx\u001b[0m in \u001b[0;36mpandas._libs.index.IndexEngine.get_loc\u001b[0;34m()\u001b[0m\n",
      "\u001b[0;32mpandas/_libs/hashtable_class_helper.pxi\u001b[0m in \u001b[0;36mpandas._libs.hashtable.PyObjectHashTable.get_item\u001b[0;34m()\u001b[0m\n",
      "\u001b[0;32mpandas/_libs/hashtable_class_helper.pxi\u001b[0m in \u001b[0;36mpandas._libs.hashtable.PyObjectHashTable.get_item\u001b[0;34m()\u001b[0m\n",
      "\u001b[0;31mKeyError\u001b[0m: 'BTC_price_EUR'"
     ]
    }
   ],
   "source": [
    "# Convert trade value in usd to gpb trade value\n",
    "gdax_trans_btc['Transaction_total_GBP'] = gdax_trans_btc['Trade_amount_usd'] / gdax_trans_btc['USD_GBP']\n",
    "\n",
    "# Convert trade value to trade price\n",
    "gdax_trans_btc['Transaction_price_GBP'] = gdax_trans_btc['Transaction_total_GBP'] / gdax_trans_btc['BTC_amount']\n",
    "\n",
    "# Create a BTC balance equivalent in EUR column\n",
    "gdax_trans_btc['BTC_balance_EUR'] = gdax_trans_btc['BTC_price_EUR'] * gdax_trans_btc['Balance']\n",
    "\n",
    "# Create a BTC balance equivalent in GBP column\n",
    "gdax_trans_btc['BTC_balance_GBP'] = gdax_trans_btc['BTC_balance_EUR'] / gdax_trans_btc['EUR_GBP']\n",
    "\n",
    "# Fill out the transfer method as GDAX for this dataset\n",
    "gdax_trans_btc['Transfer_method'] = 'GDAX'\n",
    "\n",
    "# Calculate the transaction price in EUR\n",
    "gdax_trans_btc['Transaction_price_EUR'] = gdax_trans_btc['Transaction_price_GBP'] * gdax_trans_btc['EUR_GBP']\n",
    "\n",
    "# Calculate the transaction value in EUR\n",
    "gdax_trans_btc['Transaction_total_EUR'] = gdax_trans_btc['Transaction_total_GBP'] * gdax_trans_btc['EUR_GBP']"
   ]
  },
  {
   "cell_type": "code",
   "execution_count": null,
   "metadata": {},
   "outputs": [],
   "source": [
    "# Set columns in the order to match that of btc_wallet\n",
    "cols2 = gdax_trans_btc.columns.tolist()\n",
    "cols2 = ['Timestamp',\n",
    " 'Balance',\n",
    " 'BTC_balance_GBP',\n",
    " 'BTC_amount',\n",
    " 'Transaction_total_GBP',\n",
    " 'Transfer_method',\n",
    " 'Type',\n",
    " 'Transaction_price_GBP',\n",
    " 'Transaction_price_EUR',\n",
    " 'BTC_price_EUR',     \n",
    " #'Transfer_total',\n",
    " #'Transfer_currency',\n",
    " #'Transfer_fee',\n",
    " #'Transaction_price_per_coin',\n",
    " 'Transaction_total_EUR',\n",
    " 'BTC_balance_EUR',\n",
    " #'Transfer_id',\n",
    " #'Coinbase_id',\n",
    " 'Record_id',\n",
    " 'Year',\n",
    " 'Month',\n",
    " 'Day',\n",
    " 'EUR_GBP',\n",
    " 'USD_GBP'\n",
    "];\n",
    "\n",
    "gdax_trans_btc = gdax_trans_btc[cols2]"
   ]
  },
  {
   "cell_type": "code",
   "execution_count": null,
   "metadata": {},
   "outputs": [],
   "source": [
    "gdax_trans_btc"
   ]
  },
  {
   "cell_type": "code",
   "execution_count": null,
   "metadata": {},
   "outputs": [],
   "source": [
    "# Amount invested in BTC in GDAX\n",
    "gdax_trans_btc.plot(kind='line',x='Timestamp',y='BTC_balance_GBP', grid=True);"
   ]
  },
  {
   "cell_type": "markdown",
   "metadata": {},
   "source": [
    "# 1.3 Combine BTC accounts"
   ]
  },
  {
   "cell_type": "code",
   "execution_count": null,
   "metadata": {},
   "outputs": [],
   "source": [
    "# Concatenate Coinbase and GDAX BTC wallets\n",
    "BTC = pd.concat([btc_wallet,gdax_trans_btc])"
   ]
  },
  {
   "cell_type": "code",
   "execution_count": null,
   "metadata": {
    "scrolled": true
   },
   "outputs": [],
   "source": [
    "# Set columns in the order to match that of btc_wallet and gdax_btc combined\n",
    "cols3 = gdax_trans_btc.columns.tolist()\n",
    "cols3 = ['Timestamp',\n",
    " 'Balance',\n",
    " 'BTC_balance_GBP',\n",
    " 'BTC_amount',\n",
    " 'Transaction_total_GBP',\n",
    " 'Transfer_method',\n",
    " 'Type',\n",
    " 'Transaction_price_GBP',\n",
    " 'Transaction_price_EUR',\n",
    " 'BTC_price_EUR',     \n",
    " 'Transfer_total',\n",
    " 'Transfer_currency',\n",
    " 'Transfer_fee',\n",
    " 'Transaction_price_per_coin',\n",
    " 'Transaction_total_EUR',\n",
    " 'BTC_balance_EUR',\n",
    " 'Transfer_id',\n",
    " 'Coinbase_id',\n",
    " 'Record_id',\n",
    " 'Year',\n",
    " 'Month',\n",
    " 'Day',\n",
    " 'EUR_GBP',\n",
    " 'USD_GBP'\n",
    "];\n",
    "\n",
    "BTC = BTC[cols3].sort_values('Timestamp')"
   ]
  },
  {
   "cell_type": "code",
   "execution_count": null,
   "metadata": {},
   "outputs": [],
   "source": [
    "# Create a function to assist 'smoothing' the profile, i.e. matching and deleting transfers between Coinbase and GDAX\n",
    "def smoother_function(transfer_method, transfer_type, BTC_amount):\n",
    "    if (transfer_method == 'Third_party') and (transfer_type == 'Withdraw'):\n",
    "        s = BTC_amount * -1\n",
    "        return s\n",
    "    elif (transfer_method == 'GDAX') and transfer_type == 'Fund':\n",
    "        s = BTC_amount\n",
    "        return s"
   ]
  },
  {
   "cell_type": "code",
   "execution_count": null,
   "metadata": {},
   "outputs": [],
   "source": [
    "# Apply smoothing function to each line, identifying transactions between Coinbase and GDAX\n",
    "BTC['Smoother'] = BTC.apply(lambda row: smoother_function(row[\"Transfer_method\"], row[\"Type\"], row[\"BTC_amount\"]), axis=1)"
   ]
  },
  {
   "cell_type": "code",
   "execution_count": null,
   "metadata": {},
   "outputs": [],
   "source": [
    "# This function takes a row from the BTC transfer_duplicates DF, checks to see if there are 2 duplicate values, and if there are, deletes these indexes from BTC\n",
    "def smoother_function_part2(year, month, day, smoother):\n",
    "    smooth_index = []\n",
    "    r = transfer_duplicates[(transfer_duplicates['Year'] == year) & \n",
    "    (transfer_duplicates['Month'] == month) &\n",
    "    ((transfer_duplicates['Day'] == day) | (transfer_duplicates['Day'] == day+1)) &\n",
    "    (transfer_duplicates['Smoother'] == smoother)]\n",
    "    \n",
    "    if len(r.index) == 2:\n",
    "        smooth_index.append(r.index[0])\n",
    "        smooth_index.append(r.index[1])\n",
    "        BTC.drop(smooth_index, inplace=True);"
   ]
  },
  {
   "cell_type": "code",
   "execution_count": null,
   "metadata": {},
   "outputs": [],
   "source": [
    "# Identify rows which are transfers from Coinbase to GDAX\n",
    "transfer_duplicates = BTC.loc[BTC['Smoother'].isnull()==False,['Year','Month','Day','Smoother']];"
   ]
  },
  {
   "cell_type": "code",
   "execution_count": null,
   "metadata": {},
   "outputs": [],
   "source": [
    "# Apply the smoother cleaning function (part 2), by checking indexs in transfer_duplicates DF and then updating BTC DF\n",
    "transfer_duplicates.apply(lambda row: smoother_function_part2(row[\"Year\"], row[\"Month\"], row[\"Day\"], row[\"Smoother\"]), axis=1);"
   ]
  },
  {
   "cell_type": "code",
   "execution_count": null,
   "metadata": {},
   "outputs": [],
   "source": [
    "# Update cumulative balance column in BTC and in GBP equivalent\n",
    "BTC['Balance'] = BTC['BTC_amount'].cumsum()\n",
    "BTC['BTC_balance_GBP'] = (BTC['BTC_price_EUR'] / BTC['EUR_GBP']) * BTC['Balance']\n",
    "BTC['BTC_balance_EUR'] = BTC['BTC_price_EUR'] * BTC['Balance']\n",
    "\n",
    "# Re-sort by timestamp\n",
    "BTC = BTC.sort_values('Timestamp')"
   ]
  },
  {
   "cell_type": "code",
   "execution_count": null,
   "metadata": {},
   "outputs": [],
   "source": [
    "BTC"
   ]
  },
  {
   "cell_type": "code",
   "execution_count": null,
   "metadata": {},
   "outputs": [],
   "source": [
    "fig, ax = plt.subplots(figsize=(20,10))\n",
    "BTC.plot(ax=ax, kind='line',x='Timestamp',y='Balance', grid=True)\n",
    "ax.set_ylabel(\"BTC Balance\", size=14)\n",
    "ax.set_xlabel(\"Date\", size=14);\n"
   ]
  },
  {
   "cell_type": "code",
   "execution_count": null,
   "metadata": {},
   "outputs": [],
   "source": []
  }
 ],
 "metadata": {
  "kernelspec": {
   "display_name": "Python 3",
   "language": "python",
   "name": "python3"
  },
  "language_info": {
   "codemirror_mode": {
    "name": "ipython",
    "version": 3
   },
   "file_extension": ".py",
   "mimetype": "text/x-python",
   "name": "python",
   "nbconvert_exporter": "python",
   "pygments_lexer": "ipython3",
   "version": "3.6.4"
  }
 },
 "nbformat": 4,
 "nbformat_minor": 2
}
